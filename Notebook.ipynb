{
 "cells": [
  {
   "cell_type": "markdown",
   "id": "2c2fcf60",
   "metadata": {},
   "source": [
    "# Iruma-Kun \n",
    "Dies ist eine Datenanalyse von Carakteren aus dem Manga **\"Welcome to Demon School Iruma-kun!\"**.\n",
    "\n",
    "Daten werden über das [Fanwiki](https://mairimashita-irumakun.fandom.com/wiki/Mairimashita!_Iruma-kun_Wiki) erfasst. Durch `BeautifulSoup4` werden HTML-Daten der einzelnen Kapitel nacheinander heruntergeladen und ausgewertet."
   ]
  },
  {
   "cell_type": "markdown",
   "id": "a48cb97b",
   "metadata": {},
   "source": [
    "## Abfragen und Speichern der Rohdaten aus Fandom-Wiki"
   ]
  },
  {
   "cell_type": "code",
   "execution_count": 71,
   "id": "3ac01276",
   "metadata": {},
   "outputs": [],
   "source": [
    "# Parameter\n",
    "\n",
    "startChapter = 1\n",
    "endChapter = 413\n",
    "checkFandom = False\n",
    "\n",
    "url = \"https://mairimashita-irumakun.fandom.com/wiki/Chapter_\""
   ]
  },
  {
   "cell_type": "code",
   "execution_count": 72,
   "id": "2451733f",
   "metadata": {},
   "outputs": [
    {
     "name": "stdout",
     "output_type": "stream",
     "text": [
      "checkFandom = False -> No new data requested\n"
     ]
    }
   ],
   "source": [
    "import requests\n",
    "from bs4 import BeautifulSoup\n",
    "import pandas as pd\n",
    "import re\n",
    "\n",
    "rows = []\n",
    "\n",
    "if  checkFandom:\n",
    "    for i in range(startChapter,endChapter+1,1):\n",
    "\n",
    "        response = requests.get(f\"{url}{str(i)}\")\n",
    "\n",
    "        if response.status_code == 200:\n",
    "        \n",
    "            soup = BeautifulSoup(response.text, \"html.parser\")\n",
    "\n",
    "            headline = soup.find(\"span\", id=re.compile(r\"Characters_[bB]y_Appearance\"))\n",
    "\n",
    "            if headline is None:\n",
    "                continue\n",
    "\n",
    "            ul = headline.find_parent(\"h2\").find_next_sibling(\"ul\")\n",
    "\n",
    "            for li in ul.find_all(\"li\"):\n",
    "                name_text = li.get_text(strip=True)\n",
    "                \n",
    "                rows.append({\n",
    "                    \"Kapitel\": i,\n",
    "                    \"Name\": name_text\n",
    "                })\n",
    "\n",
    "                print(f\"CH_{i}: {name_text}\")\n",
    "\n",
    "\n",
    "        else:\n",
    "            print(f\"Fehler in Kapitel {i}: {response.status_code}\")\n",
    "\n",
    "    df = pd.DataFrame(rows)\n",
    "    df.to_json(\"data/Characters_by_Appearance-RAW.json\", orient=\"records\", lines=False, indent=4, force_ascii=False)\n",
    "\n",
    "else:\n",
    "    print(\"checkFandom = False -> No new data requested\")"
   ]
  },
  {
   "cell_type": "markdown",
   "id": "95af9a82",
   "metadata": {},
   "source": [
    "## Datenaufbereitung\n",
    "Daten einlesen, säubern und bereinigen. Keine neue Datenabfrage aus dem Internet."
   ]
  },
  {
   "cell_type": "code",
   "execution_count": 73,
   "id": "bc2a33eb",
   "metadata": {},
   "outputs": [],
   "source": [
    "def remove_names(df: pd.DataFrame, names_to_remove: list) -> pd.DataFrame:\n",
    "    \"\"\"Entfernt alle Zeilen, deren Name in names_to_remove steht.\"\"\"\n",
    "    return df[~df[\"Name\"].isin(names_to_remove)].reset_index(drop=True)\n",
    "\n",
    "\n",
    "def split_names(df: pd.DataFrame, split_mapping: dict) -> pd.DataFrame:\n",
    "    \"\"\"\n",
    "    Teilt bestimmte Namen in mehrere Personen auf.\n",
    "    split_mapping = {\n",
    "        \"Name_im_Datensatz\": [\"Neuer Name 1\", \"Neuer Name 2\"]\n",
    "    }\n",
    "    \"\"\"\n",
    "    rows = []\n",
    "    for _, row in df.iterrows():\n",
    "        if row[\"Name\"] in split_mapping:\n",
    "            for new_name in split_mapping[row[\"Name\"]]:\n",
    "                new_row = row.copy()\n",
    "                new_row[\"Name\"] = new_name\n",
    "                rows.append(new_row)\n",
    "        else:\n",
    "            rows.append(row)\n",
    "    return pd.DataFrame(rows).reset_index(drop=True)\n",
    "\n",
    "\n",
    "def rename_names(df: pd.DataFrame, rename_mapping: dict) -> pd.DataFrame:\n",
    "    \"\"\"\n",
    "    Schreibt bestimmte Namen um.\n",
    "    rename_mapping = {\n",
    "        \"Alter Name\": \"Neuer Name\"\n",
    "    }\n",
    "    \"\"\"\n",
    "    df[\"Name\"] = df[\"Name\"].replace(rename_mapping)\n",
    "    return df\n",
    "\n",
    "# Beispiele für Transformationen\n",
    "#df = remove_names(df, [\"Valac Clara\"])  # z.B. löschen\n",
    "#df = split_names(df, {\"Gaap Goemon\": [\"Gaap\", \"Goemon\"]})  # aufteilen\n",
    "#df = rename_names(df, {\"Azazel Ameri\": \"Ameri Azazel\"})  # umschreiben"
   ]
  },
  {
   "cell_type": "code",
   "execution_count": 74,
   "id": "2f644ca0",
   "metadata": {},
   "outputs": [
    {
     "name": "stdout",
     "output_type": "stream",
     "text": [
      "> Saved Cleaned Data\n"
     ]
    }
   ],
   "source": [
    "import pandas as pd\n",
    "\n",
    "df = pd.read_json(\"data/Characters_by_Appearance-RAW.json\")\n",
    "\n",
    "df['Note'] = df['Name'].str.extract(r'\\((.*?)\\)')\n",
    "df['Name'] = df['Name'].str.replace(r'\\s*\\(.*?\\)', '', regex=True)\n",
    "\n",
    "# Beispiele für Transformationen\n",
    "df = remove_names(df, [\"TBA\"])\n",
    "df = remove_names(df, [\"Abnormal Class\"])\n",
    "df = remove_names(df, [\"Official Release - Twitter\"])\n",
    "df = remove_names(df, [\"Official Teaser - Twitter\"])\n",
    "\n",
    "df = split_names(df, {\"Crocell Kerori/ Kuromu\": [\"Kuromu\", \"Crocell Kerori\"]})\n",
    "df = split_names(df, {\"Fenrir/Naberius Narnia\": [\"Fenrir\", \"Naberius Narnia\"]})\n",
    "df = split_names(df, {\"Naberius Narnia/Fenrir\": [\"Fenrir\", \"Naberius Narnia\"]})\n",
    "df = split_names(df, {\"Malius Phantom /Andro M. Rock\": [\"Malius Phantom\", \"Andro M. Rock\"]})\n",
    "df = split_names(df, {\"Barbatos Bachiko/Iruma Suzuki\": [\"Barbatos Bachiko\", \"Iruma Suzuki\"]})\n",
    "df = split_names(df, {\"Andro M. Jazz/Azazel Ameri\": [\"Andro M. Jazz\", \"Azazel Ameri\"]})\n",
    "df = split_names(df, {\"Azazel Ameri/Andro M. Jazz\": [\"Andro M. Jazz\", \"Azazel Ameri\"]})\n",
    "\n",
    "df = rename_names(df, {\"Asmodeus Amaryllis\": \"Asmodeus Amuryllis\"})\n",
    "\n",
    "df.to_json(\"data/Characters_by_Appearance-CLEAN.json\", orient=\"records\", lines=False, indent=4, force_ascii=False)\n",
    "\n",
    "print(\"> Saved Cleaned Data\")"
   ]
  },
  {
   "cell_type": "markdown",
   "id": "ecb90acd",
   "metadata": {},
   "source": [
    "## Datenanalyse"
   ]
  },
  {
   "cell_type": "markdown",
   "id": "c1f1aa8f",
   "metadata": {},
   "source": [
    "### Fehlende Kapitel"
   ]
  },
  {
   "cell_type": "code",
   "execution_count": 75,
   "id": "d7226fc8",
   "metadata": {},
   "outputs": [
    {
     "name": "stdout",
     "output_type": "stream",
     "text": [
      "STATUS FANDOM WIKI\n",
      "------------------\n",
      "Verfügbare Kapitel: 296/413 (71.67%)\n",
      "Fehlende Kapitel: [57, 58, 59, 60, 61, 107, 108, 109, 110, 111, 112, 113, 114, 115, 116, 117, 118, 119, 120, 121, 122, 123, 124, 125, 126, 127, 128, 129, 130, 131, 132, 133, 134, 135, 136, 137, 138, 139, 140, 146, 148, 149, 150, 151, 152, 153, 154, 155, 156, 157, 158, 159, 160, 161, 162, 163, 164, 165, 166, 167, 168, 169, 170, 171, 172, 175, 176, 181, 184, 185, 186, 187, 188, 189, 190, 191, 192, 193, 194, 195, 196, 197, 198, 200, 201, 202, 203, 204, 208, 209, 210, 211, 212, 213, 241, 242, 243, 247, 248, 249, 250, 251, 252, 253, 254, 255, 256, 257, 258, 259, 260, 261, 262, 263, 264, 265, 266]\n",
      "------------------\n",
      "Anzahl Charaktere: 208\n",
      "Charaktere: ['Iruma Suzuki', 'Lord Sullivan', \"Iruma's Father\", \"Iruma's Mother\", 'Asmodeus Alice', 'Dantalion Dali', 'Eiko Oni', 'Opera', 'Naberius Kalego', 'Valac Clara', 'Yocchan', 'Camu Camu', 'Shax Lied', 'Andro M. Jazz', 'Ix Elizabetta', 'Gaap Goemon', 'Caim Kamui', 'Crocell Kerori', 'Sabnock Sabro', 'Allocer Schneider', 'Agares Picero', 'Purson Soi', 'Yamanda', 'Sabnock Sabzan', \"Sabro's Brother\", 'Sabnock Silvia', 'Alikred', 'Stolas Suzy', 'Gusion Sunny Grave', 'Astaroth Smoke', 'Azazel Ameri', 'Zagan Johnny Western', 'Kimaris Quichelight', 'Azazel Henri', 'Raim', 'Haruno', 'Konatsu', 'Azuki', 'Dosanko', 'Amy Kirio', 'Bars Robin', 'Marbas March', 'Paimon', 'Behemolt', 'Belzebuth', 'Astaroh', 'Asmodeus Amuryllis', 'Glasya', 'Amaymon', 'Belial', 'Levi', 'Baal', 'Mrs. Valac', 'Valac Urara', 'Valac Keebow', 'Valac Konchie', 'Valac Sin Sin', 'Valac Ran Ran', \"Kirio's Mother\", 'David', 'Garu', 'Bathin Baraki', 'Ipos Ichou', 'Murmur Tsumuru', 'Eiko', 'Gaako', 'Buer Blushenko', 'Morax Momonoki', 'Nagi', 'Shax Shakky', 'Andro M. Rock', 'Kuromu', 'Marbas Mar', \"Kerori's Mother\", \"Kerori's Brother\", 'Crocell Chima', \"Kerori's Grandmother\", 'Ronove Lomiere', 'Ronove Romiere', 'Eligos Schenell', 'Demon King Derkila', 'Balam Shichiro', 'Botti Yamanda', 'General Furfur', 'Asmodeus Viole', 'Asmodeus Lily', \"Goemon's Father\", 'Furcas', 'Ronove Rosevelt', 'Wett', 'Miki', 'Hyudarin', 'Atori', 'Maemaro', 'Shiida', 'Imp Rocky', 'Bats', 'Lord Lumero', 'Dlingar', 'Ginguk', 'Balgio', 'Dododo', 'Smatetlede', 'Selaguts', 'Triton', 'Luluu Uval', \"Alice's dance partner\", 'The Thirteen Crowns', 'Lady Vepar', 'Mister Hat', 'Barbatos Bachiko', 'Walb', 'Ampsey Nafra', 'Ichiro Androalphus', 'Niro Androalphus', 'Orobas Coco', 'Solas Bobo', 'Ocho', 'Thoth', 'Orias Oswell', 'Morax', 'Ifrit Djinn Eito', 'Amduscias Poro', \"Shichiro's Mother\", 'Leviathan Leiji', 'Belial-Berry Razberry', 'Eita Oni', 'Pulu Puko', 'Strow Fuwatoro', 'Hon Rin Chan', 'Zepar Zeze', 'Valefar Chacha', 'Incu Pamela', 'Ronron', 'Ras Mozumi', 'Marbas F. Yabashi', 'Vine Garson', 'Aim Oolo', 'Gebatee Yan', 'Nix Nikomaru', 'Chimii Pemopemo', 'Demii Pemopemo', 'Parpar Shin', 'Parpar Juju', 'Roel Michel', 'Jig Zakumu', 'Pheené Marianne', 'Uzu', 'Seir Sepata', 'Cedar', 'Purson Purton', \"Purson's father\", \"Purson's mother\", 'Thomas', 'Shimaji', 'Zepar Palalaika', 'Zepar Zoui', 'Zepar Zera', 'Otonja', 'Harpnus', 'Yuna', 'Laura', 'Homin', 'Beeber', 'Naberius Narnia', 'Lord Balial', 'Lady Levi', 'Mephisto', 'Zebubra', 'Fenrir', 'Shura', 'The Three Greats', 'House Cats', 'Barbatos President', 'Belzebuth Zebubra', 'Merize', 'Vine Marnie', 'Hoshino Rin', 'Aozora Kakeru', 'Beem', 'Palome', 'Beem R. Judain', 'Galna', 'Mephistopheles', 'Meimei', 'Munmu', 'Nova', 'Monmo', 'Jumbo', 'Dokfel', 'General Alvro', 'General Kushinashi', 'Kirito', 'Amy Azami', 'Kimaris Kyrielight', 'Batt Nupie', 'Gyari', \"Gyari's Manager\", 'Nenette', 'Moa', 'Machara', 'Genzel Geyril', 'Gamigin Ganjet', 'Malius Phantom', 'Muchara', \"Jazz's Father\", 'Arikured', 'Spoo']\n",
      "------------------\n"
     ]
    }
   ],
   "source": [
    "import pandas as pd\n",
    "import matplotlib.pyplot as plt\n",
    "import plotly.graph_objects as go\n",
    "\n",
    "df = pd.read_json(\"data/Characters_by_Appearance-CLEAN.json\")\n",
    "\n",
    "allChapters = list(range(1,endChapter +1,1))\n",
    "allCharacters = []\n",
    "alreadyChecked = []\n",
    "\n",
    "for index, row in df.iterrows():\n",
    "    if row[\"Kapitel\"] in alreadyChecked:\n",
    "        pass\n",
    "    else:\n",
    "        alreadyChecked.append(row[\"Kapitel\"])\n",
    "        allChapters.remove(row[\"Kapitel\"])\n",
    "\n",
    "    if row[\"Name\"] in allCharacters:\n",
    "        pass\n",
    "    else:\n",
    "        allCharacters.append(row[\"Name\"])\n",
    "\n",
    "\n",
    "allChapters.sort()\n",
    "\n",
    "print(\"STATUS FANDOM WIKI\")\n",
    "print(\"------------------\")\n",
    "print(f\"Verfügbare Kapitel: {endChapter-len(allChapters)}/{endChapter} ({100-round(len(allChapters)/endChapter*100, 2)}%)\")\n",
    "print(f\"Fehlende Kapitel: {allChapters}\")   \n",
    "print(\"------------------\")\n",
    "print(f\"Anzahl Charaktere: {len(allCharacters)}\")\n",
    "print(f\"Charaktere: {allCharacters}\")\n",
    "print(\"------------------\")\n",
    "\n",
    "# Gruppieren nach\n",
    "# maxMissingChapter = allChapters[-1]\n",
    "# groupBy = 100\n",
    "\n",
    "# maxGroupedChapter = (maxMissingChapter - (maxMissingChapter % groupBy)) + groupBy\n",
    "\n",
    "# grouped = {}\n",
    "# for start in range(0, maxGroupedChapter, groupBy):\n",
    "#     end = start + groupBy - 1\n",
    "#     label = f\"{start}-{end}\"\n",
    "#     grouped[label] = []\n",
    "\n",
    "# for chap in allChapters:\n",
    "#     bucket = (chap // groupBy) * groupBy\n",
    "#     label = f\"{bucket}-{bucket + groupBy - 1}\"\n",
    "#     grouped[label].append(chap)\n",
    "\n",
    "# df_missing = pd.DataFrame.from_dict(grouped, orient=\"index\").transpose()\n",
    "# df_missing = df_missing.fillna(\" \")\n",
    "\n",
    "# fig = go.Figure(data=[go.Table(\n",
    "#     header=dict(values=list(df_missing.columns),\n",
    "#                 fill_color='paleturquoise',\n",
    "#                 align='left'),\n",
    "#     cells=dict(values=[df_missing[col] for col in df_missing.columns],\n",
    "#                fill_color='lavender',\n",
    "#                align='left'))\n",
    "# ])\n",
    "\n",
    "# fig.write_html(\"assets/MissingChapters.html\")\n",
    "# print(\"> Plotly Table saved to assets\")"
   ]
  },
  {
   "cell_type": "markdown",
   "id": "069267c1",
   "metadata": {},
   "source": [
    "### Erscheinung nach Kapitel"
   ]
  },
  {
   "cell_type": "code",
   "execution_count": 76,
   "id": "f5037b44",
   "metadata": {},
   "outputs": [
    {
     "data": {
      "application/vnd.plotly.v1+json": {
       "config": {
        "plotlyServerURL": "https://plot.ly"
       },
       "data": [
        {
         "hovertemplate": "Name=%{y}<br>Kapitel=%{x}<extra></extra>",
         "legendgroup": "Iruma Suzuki",
         "marker": {
          "color": "#636efa",
          "line": {
           "width": 1
          },
          "size": 5,
          "symbol": "square"
         },
         "mode": "markers",
         "name": "Iruma Suzuki",
         "showlegend": true,
         "type": "scattergl",
         "x": {
          "bdata": "AQACAAMABAAFAAYABwAJAAoACwAMAA0ADgAPABAAEQASABMAFAAVABYAFwAYABkAGgAbABwAHQAeAB8AIAAhACIAIwAkACUAJgAnACgAKQAqACsALAAtAC4ALwAwADEAMgAzADQANQA2ADcAOAA+AD8AQABBAEIAQwBEAEUARgBHAEgASQBKAEsATABNAFAAUQBSAFMAVABVAFYAVwBYAFkAWgBcAF0AXgBfAGAAYQBiAGMAZABmAGcAagCNAI4AjwCQAJEAkwCtAK4AsQCyALMAtAC2ALcAxwDNAM4AzwDWANcA2ADZANoA2wDcAN0A3gDfAOAA4QDiAOMA5ADlAOYA5wDoAOsA7ADvAPAACwEMAQ0BDgEPAREBEgETARQBFQEWARcBGAEZARoBGwEcAR0BHgEfASABIQEiASMBJAElASYBJwEoASkBKgErASwBLQEuAS8BMAExATIBMwE0ATUBNgE3ATgBOQE7ATwBPwFAAUEBQgFDAUQBRgFHAUgBSQFKAUsBTAFNAU4BTwFQAVEBUgFTAVQBVQFWAVcBWAFZAVoBXAFdAV4BXwFgAWEBYgFjAWQBZQFmAWcBaAFpAWoBawFsAW0BbgFvAXABcQFyAXMBdAF1AXcBeAF5AXoBfAF9AX4BfwGAAYEBggGDAYQBiQGKAYsBjAGNAY4BjwGQAZEBkgGTAZQBlQGWAZcBmAGZAZoBmwGcAQ==",
          "dtype": "i2"
         },
         "xaxis": "x",
         "y": [
          "Iruma Suzuki",
          "Iruma Suzuki",
          "Iruma Suzuki",
          "Iruma Suzuki",
          "Iruma Suzuki",
          "Iruma Suzuki",
          "Iruma Suzuki",
          "Iruma Suzuki",
          "Iruma Suzuki",
          "Iruma Suzuki",
          "Iruma Suzuki",
          "Iruma Suzuki",
          "Iruma Suzuki",
          "Iruma Suzuki",
          "Iruma Suzuki",
          "Iruma Suzuki",
          "Iruma Suzuki",
          "Iruma Suzuki",
          "Iruma Suzuki",
          "Iruma Suzuki",
          "Iruma Suzuki",
          "Iruma Suzuki",
          "Iruma Suzuki",
          "Iruma Suzuki",
          "Iruma Suzuki",
          "Iruma Suzuki",
          "Iruma Suzuki",
          "Iruma Suzuki",
          "Iruma Suzuki",
          "Iruma Suzuki",
          "Iruma Suzuki",
          "Iruma Suzuki",
          "Iruma Suzuki",
          "Iruma Suzuki",
          "Iruma Suzuki",
          "Iruma Suzuki",
          "Iruma Suzuki",
          "Iruma Suzuki",
          "Iruma Suzuki",
          "Iruma Suzuki",
          "Iruma Suzuki",
          "Iruma Suzuki",
          "Iruma Suzuki",
          "Iruma Suzuki",
          "Iruma Suzuki",
          "Iruma Suzuki",
          "Iruma Suzuki",
          "Iruma Suzuki",
          "Iruma Suzuki",
          "Iruma Suzuki",
          "Iruma Suzuki",
          "Iruma Suzuki",
          "Iruma Suzuki",
          "Iruma Suzuki",
          "Iruma Suzuki",
          "Iruma Suzuki",
          "Iruma Suzuki",
          "Iruma Suzuki",
          "Iruma Suzuki",
          "Iruma Suzuki",
          "Iruma Suzuki",
          "Iruma Suzuki",
          "Iruma Suzuki",
          "Iruma Suzuki",
          "Iruma Suzuki",
          "Iruma Suzuki",
          "Iruma Suzuki",
          "Iruma Suzuki",
          "Iruma Suzuki",
          "Iruma Suzuki",
          "Iruma Suzuki",
          "Iruma Suzuki",
          "Iruma Suzuki",
          "Iruma Suzuki",
          "Iruma Suzuki",
          "Iruma Suzuki",
          "Iruma Suzuki",
          "Iruma Suzuki",
          "Iruma Suzuki",
          "Iruma Suzuki",
          "Iruma Suzuki",
          "Iruma Suzuki",
          "Iruma Suzuki",
          "Iruma Suzuki",
          "Iruma Suzuki",
          "Iruma Suzuki",
          "Iruma Suzuki",
          "Iruma Suzuki",
          "Iruma Suzuki",
          "Iruma Suzuki",
          "Iruma Suzuki",
          "Iruma Suzuki",
          "Iruma Suzuki",
          "Iruma Suzuki",
          "Iruma Suzuki",
          "Iruma Suzuki",
          "Iruma Suzuki",
          "Iruma Suzuki",
          "Iruma Suzuki",
          "Iruma Suzuki",
          "Iruma Suzuki",
          "Iruma Suzuki",
          "Iruma Suzuki",
          "Iruma Suzuki",
          "Iruma Suzuki",
          "Iruma Suzuki",
          "Iruma Suzuki",
          "Iruma Suzuki",
          "Iruma Suzuki",
          "Iruma Suzuki",
          "Iruma Suzuki",
          "Iruma Suzuki",
          "Iruma Suzuki",
          "Iruma Suzuki",
          "Iruma Suzuki",
          "Iruma Suzuki",
          "Iruma Suzuki",
          "Iruma Suzuki",
          "Iruma Suzuki",
          "Iruma Suzuki",
          "Iruma Suzuki",
          "Iruma Suzuki",
          "Iruma Suzuki",
          "Iruma Suzuki",
          "Iruma Suzuki",
          "Iruma Suzuki",
          "Iruma Suzuki",
          "Iruma Suzuki",
          "Iruma Suzuki",
          "Iruma Suzuki",
          "Iruma Suzuki",
          "Iruma Suzuki",
          "Iruma Suzuki",
          "Iruma Suzuki",
          "Iruma Suzuki",
          "Iruma Suzuki",
          "Iruma Suzuki",
          "Iruma Suzuki",
          "Iruma Suzuki",
          "Iruma Suzuki",
          "Iruma Suzuki",
          "Iruma Suzuki",
          "Iruma Suzuki",
          "Iruma Suzuki",
          "Iruma Suzuki",
          "Iruma Suzuki",
          "Iruma Suzuki",
          "Iruma Suzuki",
          "Iruma Suzuki",
          "Iruma Suzuki",
          "Iruma Suzuki",
          "Iruma Suzuki",
          "Iruma Suzuki",
          "Iruma Suzuki",
          "Iruma Suzuki",
          "Iruma Suzuki",
          "Iruma Suzuki",
          "Iruma Suzuki",
          "Iruma Suzuki",
          "Iruma Suzuki",
          "Iruma Suzuki",
          "Iruma Suzuki",
          "Iruma Suzuki",
          "Iruma Suzuki",
          "Iruma Suzuki",
          "Iruma Suzuki",
          "Iruma Suzuki",
          "Iruma Suzuki",
          "Iruma Suzuki",
          "Iruma Suzuki",
          "Iruma Suzuki",
          "Iruma Suzuki",
          "Iruma Suzuki",
          "Iruma Suzuki",
          "Iruma Suzuki",
          "Iruma Suzuki",
          "Iruma Suzuki",
          "Iruma Suzuki",
          "Iruma Suzuki",
          "Iruma Suzuki",
          "Iruma Suzuki",
          "Iruma Suzuki",
          "Iruma Suzuki",
          "Iruma Suzuki",
          "Iruma Suzuki",
          "Iruma Suzuki",
          "Iruma Suzuki",
          "Iruma Suzuki",
          "Iruma Suzuki",
          "Iruma Suzuki",
          "Iruma Suzuki",
          "Iruma Suzuki",
          "Iruma Suzuki",
          "Iruma Suzuki",
          "Iruma Suzuki",
          "Iruma Suzuki",
          "Iruma Suzuki",
          "Iruma Suzuki",
          "Iruma Suzuki",
          "Iruma Suzuki",
          "Iruma Suzuki",
          "Iruma Suzuki",
          "Iruma Suzuki",
          "Iruma Suzuki",
          "Iruma Suzuki",
          "Iruma Suzuki",
          "Iruma Suzuki",
          "Iruma Suzuki",
          "Iruma Suzuki",
          "Iruma Suzuki",
          "Iruma Suzuki",
          "Iruma Suzuki",
          "Iruma Suzuki",
          "Iruma Suzuki",
          "Iruma Suzuki",
          "Iruma Suzuki",
          "Iruma Suzuki",
          "Iruma Suzuki",
          "Iruma Suzuki",
          "Iruma Suzuki",
          "Iruma Suzuki",
          "Iruma Suzuki",
          "Iruma Suzuki",
          "Iruma Suzuki",
          "Iruma Suzuki",
          "Iruma Suzuki",
          "Iruma Suzuki",
          "Iruma Suzuki",
          "Iruma Suzuki",
          "Iruma Suzuki",
          "Iruma Suzuki",
          "Iruma Suzuki",
          "Iruma Suzuki",
          "Iruma Suzuki",
          "Iruma Suzuki",
          "Iruma Suzuki",
          "Iruma Suzuki",
          "Iruma Suzuki",
          "Iruma Suzuki",
          "Iruma Suzuki",
          "Iruma Suzuki",
          "Iruma Suzuki",
          "Iruma Suzuki",
          "Iruma Suzuki",
          "Iruma Suzuki",
          "Iruma Suzuki",
          "Iruma Suzuki",
          "Iruma Suzuki",
          "Iruma Suzuki",
          "Iruma Suzuki",
          "Iruma Suzuki",
          "Iruma Suzuki",
          "Iruma Suzuki",
          "Iruma Suzuki",
          "Iruma Suzuki",
          "Iruma Suzuki",
          "Iruma Suzuki",
          "Iruma Suzuki",
          "Iruma Suzuki",
          "Iruma Suzuki",
          "Iruma Suzuki",
          "Iruma Suzuki",
          "Iruma Suzuki",
          "Iruma Suzuki",
          "Iruma Suzuki",
          "Iruma Suzuki",
          "Iruma Suzuki",
          "Iruma Suzuki",
          "Iruma Suzuki"
         ],
         "yaxis": "y"
        },
        {
         "hovertemplate": "Name=%{y}<br>Kapitel=%{x}<extra></extra>",
         "legendgroup": "Lord Sullivan",
         "marker": {
          "color": "#EF553B",
          "line": {
           "width": 1
          },
          "size": 5,
          "symbol": "square"
         },
         "mode": "markers",
         "name": "Lord Sullivan",
         "showlegend": true,
         "type": "scattergl",
         "x": {
          "bdata": "AQACAAQABQAIAAkADAANAA4AFAAXABgAGgAcAB0AHgAiACMAJAAlACYAKAAsAC0ALwA2AD4APwBEAEUARgBRAFQAVgBXAFgAWQBcAF0AYQBjAI4AjwCQAJMAsQCzALQAtgC3AMcAzQDPANYA1wDaAN0A3gDsAO0A7gATARUBGAEdAR4BHwEgASEBIwEkASUBJgErASwBLQEvATIBMwE0ATUBNgE4ATkBOgFEAUYBRwFMAV0BXwFgAWEBZgFnAW0BbgFvAXMBdAF0AXUBegGEAZMBlgGdAQ==",
          "dtype": "i2"
         },
         "xaxis": "x",
         "y": [
          "Lord Sullivan",
          "Lord Sullivan",
          "Lord Sullivan",
          "Lord Sullivan",
          "Lord Sullivan",
          "Lord Sullivan",
          "Lord Sullivan",
          "Lord Sullivan",
          "Lord Sullivan",
          "Lord Sullivan",
          "Lord Sullivan",
          "Lord Sullivan",
          "Lord Sullivan",
          "Lord Sullivan",
          "Lord Sullivan",
          "Lord Sullivan",
          "Lord Sullivan",
          "Lord Sullivan",
          "Lord Sullivan",
          "Lord Sullivan",
          "Lord Sullivan",
          "Lord Sullivan",
          "Lord Sullivan",
          "Lord Sullivan",
          "Lord Sullivan",
          "Lord Sullivan",
          "Lord Sullivan",
          "Lord Sullivan",
          "Lord Sullivan",
          "Lord Sullivan",
          "Lord Sullivan",
          "Lord Sullivan",
          "Lord Sullivan",
          "Lord Sullivan",
          "Lord Sullivan",
          "Lord Sullivan",
          "Lord Sullivan",
          "Lord Sullivan",
          "Lord Sullivan",
          "Lord Sullivan",
          "Lord Sullivan",
          "Lord Sullivan",
          "Lord Sullivan",
          "Lord Sullivan",
          "Lord Sullivan",
          "Lord Sullivan",
          "Lord Sullivan",
          "Lord Sullivan",
          "Lord Sullivan",
          "Lord Sullivan",
          "Lord Sullivan",
          "Lord Sullivan",
          "Lord Sullivan",
          "Lord Sullivan",
          "Lord Sullivan",
          "Lord Sullivan",
          "Lord Sullivan",
          "Lord Sullivan",
          "Lord Sullivan",
          "Lord Sullivan",
          "Lord Sullivan",
          "Lord Sullivan",
          "Lord Sullivan",
          "Lord Sullivan",
          "Lord Sullivan",
          "Lord Sullivan",
          "Lord Sullivan",
          "Lord Sullivan",
          "Lord Sullivan",
          "Lord Sullivan",
          "Lord Sullivan",
          "Lord Sullivan",
          "Lord Sullivan",
          "Lord Sullivan",
          "Lord Sullivan",
          "Lord Sullivan",
          "Lord Sullivan",
          "Lord Sullivan",
          "Lord Sullivan",
          "Lord Sullivan",
          "Lord Sullivan",
          "Lord Sullivan",
          "Lord Sullivan",
          "Lord Sullivan",
          "Lord Sullivan",
          "Lord Sullivan",
          "Lord Sullivan",
          "Lord Sullivan",
          "Lord Sullivan",
          "Lord Sullivan",
          "Lord Sullivan",
          "Lord Sullivan",
          "Lord Sullivan",
          "Lord Sullivan",
          "Lord Sullivan",
          "Lord Sullivan",
          "Lord Sullivan",
          "Lord Sullivan",
          "Lord Sullivan",
          "Lord Sullivan",
          "Lord Sullivan",
          "Lord Sullivan",
          "Lord Sullivan",
          "Lord Sullivan",
          "Lord Sullivan",
          "Lord Sullivan",
          "Lord Sullivan"
         ],
         "yaxis": "y"
        },
        {
         "hovertemplate": "Name=%{y}<br>Kapitel=%{x}<extra></extra>",
         "legendgroup": "Iruma's Father",
         "marker": {
          "color": "#00cc96",
          "line": {
           "width": 1
          },
          "size": 5,
          "symbol": "square"
         },
         "mode": "markers",
         "name": "Iruma's Father",
         "showlegend": true,
         "type": "scattergl",
         "x": {
          "bdata": "AQkM",
          "dtype": "i1"
         },
         "xaxis": "x",
         "y": [
          "Iruma's Father",
          "Iruma's Father",
          "Iruma's Father"
         ],
         "yaxis": "y"
        },
        {
         "hovertemplate": "Name=%{y}<br>Kapitel=%{x}<extra></extra>",
         "legendgroup": "Iruma's Mother",
         "marker": {
          "color": "#ab63fa",
          "line": {
           "width": 1
          },
          "size": 5,
          "symbol": "square"
         },
         "mode": "markers",
         "name": "Iruma's Mother",
         "showlegend": true,
         "type": "scattergl",
         "x": {
          "bdata": "AQIJDA==",
          "dtype": "i1"
         },
         "xaxis": "x",
         "y": [
          "Iruma's Mother",
          "Iruma's Mother",
          "Iruma's Mother",
          "Iruma's Mother"
         ],
         "yaxis": "y"
        },
        {
         "hovertemplate": "Name=%{y}<br>Kapitel=%{x}<extra></extra>",
         "legendgroup": "Asmodeus Alice",
         "marker": {
          "color": "#FFA15A",
          "line": {
           "width": 1
          },
          "size": 5,
          "symbol": "square"
         },
         "mode": "markers",
         "name": "Asmodeus Alice",
         "showlegend": true,
         "type": "scattergl",
         "x": {
          "bdata": "AQACAAMABAAFAAYABwAIAAkACwAMAA0ADgAPABAAEQASABMAFAAVABYAGAAZABoAGwAcAB0AHgAfACIAIwAkACUAJgAnACgAKQAqACsALAAuADIAMwA1ADYANwA4AD4APwBAAEEAQgBDAEQARQBGAEcASABJAEoASwBMAE0AUABRAFIAUwBUAFUAVgBXAFgAWQBaAFsAXABfAGAAYQBiAGUAZgBnAGgAaQCNAI8AkwCtAK4AsQCyALMAtgC3AM8A1gDZANwA3QDfAOAA4QDiAOQA5QDpAOsA7ADtAO4A7wDwAAwBDQEPAREBEwEUARUBFgEXARgBGQEaARsBHAEdAR8BIAEhASIBIwEkASUBJgEoASkBKgErAS0BLgEvATABMgEzATQBNQE/AUABQQFCAUMBRAFHAUgBSQFKAU4BUQFSAVMBVAFVAVYBVwFYAVoBXAFdAV4BXwFgAWEBYgFjAWQBZQFmAWcBaAFpAWoBawFsAW0BbgFvAXABcQFyAXMBdAF1AXkBfAF9AX4BfwGAAYEBggGDAYQBiQGKAYsBjAGNAY4BkgGTAZYBlwGZAZoBmwGcAQ==",
          "dtype": "i2"
         },
         "xaxis": "x",
         "y": [
          "Asmodeus Alice",
          "Asmodeus Alice",
          "Asmodeus Alice",
          "Asmodeus Alice",
          "Asmodeus Alice",
          "Asmodeus Alice",
          "Asmodeus Alice",
          "Asmodeus Alice",
          "Asmodeus Alice",
          "Asmodeus Alice",
          "Asmodeus Alice",
          "Asmodeus Alice",
          "Asmodeus Alice",
          "Asmodeus Alice",
          "Asmodeus Alice",
          "Asmodeus Alice",
          "Asmodeus Alice",
          "Asmodeus Alice",
          "Asmodeus Alice",
          "Asmodeus Alice",
          "Asmodeus Alice",
          "Asmodeus Alice",
          "Asmodeus Alice",
          "Asmodeus Alice",
          "Asmodeus Alice",
          "Asmodeus Alice",
          "Asmodeus Alice",
          "Asmodeus Alice",
          "Asmodeus Alice",
          "Asmodeus Alice",
          "Asmodeus Alice",
          "Asmodeus Alice",
          "Asmodeus Alice",
          "Asmodeus Alice",
          "Asmodeus Alice",
          "Asmodeus Alice",
          "Asmodeus Alice",
          "Asmodeus Alice",
          "Asmodeus Alice",
          "Asmodeus Alice",
          "Asmodeus Alice",
          "Asmodeus Alice",
          "Asmodeus Alice",
          "Asmodeus Alice",
          "Asmodeus Alice",
          "Asmodeus Alice",
          "Asmodeus Alice",
          "Asmodeus Alice",
          "Asmodeus Alice",
          "Asmodeus Alice",
          "Asmodeus Alice",
          "Asmodeus Alice",
          "Asmodeus Alice",
          "Asmodeus Alice",
          "Asmodeus Alice",
          "Asmodeus Alice",
          "Asmodeus Alice",
          "Asmodeus Alice",
          "Asmodeus Alice",
          "Asmodeus Alice",
          "Asmodeus Alice",
          "Asmodeus Alice",
          "Asmodeus Alice",
          "Asmodeus Alice",
          "Asmodeus Alice",
          "Asmodeus Alice",
          "Asmodeus Alice",
          "Asmodeus Alice",
          "Asmodeus Alice",
          "Asmodeus Alice",
          "Asmodeus Alice",
          "Asmodeus Alice",
          "Asmodeus Alice",
          "Asmodeus Alice",
          "Asmodeus Alice",
          "Asmodeus Alice",
          "Asmodeus Alice",
          "Asmodeus Alice",
          "Asmodeus Alice",
          "Asmodeus Alice",
          "Asmodeus Alice",
          "Asmodeus Alice",
          "Asmodeus Alice",
          "Asmodeus Alice",
          "Asmodeus Alice",
          "Asmodeus Alice",
          "Asmodeus Alice",
          "Asmodeus Alice",
          "Asmodeus Alice",
          "Asmodeus Alice",
          "Asmodeus Alice",
          "Asmodeus Alice",
          "Asmodeus Alice",
          "Asmodeus Alice",
          "Asmodeus Alice",
          "Asmodeus Alice",
          "Asmodeus Alice",
          "Asmodeus Alice",
          "Asmodeus Alice",
          "Asmodeus Alice",
          "Asmodeus Alice",
          "Asmodeus Alice",
          "Asmodeus Alice",
          "Asmodeus Alice",
          "Asmodeus Alice",
          "Asmodeus Alice",
          "Asmodeus Alice",
          "Asmodeus Alice",
          "Asmodeus Alice",
          "Asmodeus Alice",
          "Asmodeus Alice",
          "Asmodeus Alice",
          "Asmodeus Alice",
          "Asmodeus Alice",
          "Asmodeus Alice",
          "Asmodeus Alice",
          "Asmodeus Alice",
          "Asmodeus Alice",
          "Asmodeus Alice",
          "Asmodeus Alice",
          "Asmodeus Alice",
          "Asmodeus Alice",
          "Asmodeus Alice",
          "Asmodeus Alice",
          "Asmodeus Alice",
          "Asmodeus Alice",
          "Asmodeus Alice",
          "Asmodeus Alice",
          "Asmodeus Alice",
          "Asmodeus Alice",
          "Asmodeus Alice",
          "Asmodeus Alice",
          "Asmodeus Alice",
          "Asmodeus Alice",
          "Asmodeus Alice",
          "Asmodeus Alice",
          "Asmodeus Alice",
          "Asmodeus Alice",
          "Asmodeus Alice",
          "Asmodeus Alice",
          "Asmodeus Alice",
          "Asmodeus Alice",
          "Asmodeus Alice",
          "Asmodeus Alice",
          "Asmodeus Alice",
          "Asmodeus Alice",
          "Asmodeus Alice",
          "Asmodeus Alice",
          "Asmodeus Alice",
          "Asmodeus Alice",
          "Asmodeus Alice",
          "Asmodeus Alice",
          "Asmodeus Alice",
          "Asmodeus Alice",
          "Asmodeus Alice",
          "Asmodeus Alice",
          "Asmodeus Alice",
          "Asmodeus Alice",
          "Asmodeus Alice",
          "Asmodeus Alice",
          "Asmodeus Alice",
          "Asmodeus Alice",
          "Asmodeus Alice",
          "Asmodeus Alice",
          "Asmodeus Alice",
          "Asmodeus Alice",
          "Asmodeus Alice",
          "Asmodeus Alice",
          "Asmodeus Alice",
          "Asmodeus Alice",
          "Asmodeus Alice",
          "Asmodeus Alice",
          "Asmodeus Alice",
          "Asmodeus Alice",
          "Asmodeus Alice",
          "Asmodeus Alice",
          "Asmodeus Alice",
          "Asmodeus Alice",
          "Asmodeus Alice",
          "Asmodeus Alice",
          "Asmodeus Alice",
          "Asmodeus Alice",
          "Asmodeus Alice",
          "Asmodeus Alice",
          "Asmodeus Alice",
          "Asmodeus Alice",
          "Asmodeus Alice",
          "Asmodeus Alice",
          "Asmodeus Alice",
          "Asmodeus Alice",
          "Asmodeus Alice",
          "Asmodeus Alice",
          "Asmodeus Alice",
          "Asmodeus Alice",
          "Asmodeus Alice",
          "Asmodeus Alice",
          "Asmodeus Alice",
          "Asmodeus Alice",
          "Asmodeus Alice",
          "Asmodeus Alice",
          "Asmodeus Alice",
          "Asmodeus Alice",
          "Asmodeus Alice",
          "Asmodeus Alice",
          "Asmodeus Alice",
          "Asmodeus Alice",
          "Asmodeus Alice",
          "Asmodeus Alice",
          "Asmodeus Alice",
          "Asmodeus Alice",
          "Asmodeus Alice",
          "Asmodeus Alice",
          "Asmodeus Alice",
          "Asmodeus Alice",
          "Asmodeus Alice",
          "Asmodeus Alice",
          "Asmodeus Alice",
          "Asmodeus Alice"
         ],
         "yaxis": "y"
        },
        {
         "hovertemplate": "Name=%{y}<br>Kapitel=%{x}<extra></extra>",
         "legendgroup": "Dantalion Dali",
         "marker": {
          "color": "#19d3f3",
          "line": {
           "width": 1
          },
          "size": 5,
          "symbol": "square"
         },
         "mode": "markers",
         "name": "Dantalion Dali",
         "showlegend": true,
         "type": "scattergl",
         "x": {
          "bdata": "AQATABoAHgAkACUANwA+AGUAZgBnAGgAagCRANkA2wDcAN8A4gDmAOgA6QDqAOsA7AALAQ4BEwEVARkBHAE8AT0BPgFUAVoBXQFeAV8BYAFnAXoBewF/AQ==",
          "dtype": "i2"
         },
         "xaxis": "x",
         "y": [
          "Dantalion Dali",
          "Dantalion Dali",
          "Dantalion Dali",
          "Dantalion Dali",
          "Dantalion Dali",
          "Dantalion Dali",
          "Dantalion Dali",
          "Dantalion Dali",
          "Dantalion Dali",
          "Dantalion Dali",
          "Dantalion Dali",
          "Dantalion Dali",
          "Dantalion Dali",
          "Dantalion Dali",
          "Dantalion Dali",
          "Dantalion Dali",
          "Dantalion Dali",
          "Dantalion Dali",
          "Dantalion Dali",
          "Dantalion Dali",
          "Dantalion Dali",
          "Dantalion Dali",
          "Dantalion Dali",
          "Dantalion Dali",
          "Dantalion Dali",
          "Dantalion Dali",
          "Dantalion Dali",
          "Dantalion Dali",
          "Dantalion Dali",
          "Dantalion Dali",
          "Dantalion Dali",
          "Dantalion Dali",
          "Dantalion Dali",
          "Dantalion Dali",
          "Dantalion Dali",
          "Dantalion Dali",
          "Dantalion Dali",
          "Dantalion Dali",
          "Dantalion Dali",
          "Dantalion Dali",
          "Dantalion Dali",
          "Dantalion Dali",
          "Dantalion Dali",
          "Dantalion Dali"
         ],
         "yaxis": "y"
        },
        {
         "hovertemplate": "Name=%{y}<br>Kapitel=%{x}<extra></extra>",
         "legendgroup": "Eiko Oni",
         "marker": {
          "color": "#FF6692",
          "line": {
           "width": 1
          },
          "size": 5,
          "symbol": "square"
         },
         "mode": "markers",
         "name": "Eiko Oni",
         "showlegend": true,
         "type": "scattergl",
         "x": {
          "bdata": "AQACACQA1gDiAEcB",
          "dtype": "i2"
         },
         "xaxis": "x",
         "y": [
          "Eiko Oni",
          "Eiko Oni",
          "Eiko Oni",
          "Eiko Oni",
          "Eiko Oni",
          "Eiko Oni"
         ],
         "yaxis": "y"
        },
        {
         "hovertemplate": "Name=%{y}<br>Kapitel=%{x}<extra></extra>",
         "legendgroup": "Opera",
         "marker": {
          "color": "#B6E880",
          "line": {
           "width": 1
          },
          "size": 5,
          "symbol": "square"
         },
         "mode": "markers",
         "name": "Opera",
         "showlegend": true,
         "type": "scattergl",
         "x": {
          "bdata": "AgAFAAkADAAOABAAFwAYABwAJAAmAC0ALwA2AD4ARABFAEYARwBKAEsATABQAFEAVABVAFYAVwBYAFkAXABdAGEAjwCQAJMAsQCzALQAtgC3AMcA1gDaANsA3wDsAO4ACwEPARMBFAEVARYBFwEYARwBHQEeAR8BIAEhASIBIwEqATABMwE0ATkBPwFAAUIBQwFEAVkBXQFgAWMBZAFnAXMBdAF1AXcBewGEAYsB",
          "dtype": "i2"
         },
         "xaxis": "x",
         "y": [
          "Opera",
          "Opera",
          "Opera",
          "Opera",
          "Opera",
          "Opera",
          "Opera",
          "Opera",
          "Opera",
          "Opera",
          "Opera",
          "Opera",
          "Opera",
          "Opera",
          "Opera",
          "Opera",
          "Opera",
          "Opera",
          "Opera",
          "Opera",
          "Opera",
          "Opera",
          "Opera",
          "Opera",
          "Opera",
          "Opera",
          "Opera",
          "Opera",
          "Opera",
          "Opera",
          "Opera",
          "Opera",
          "Opera",
          "Opera",
          "Opera",
          "Opera",
          "Opera",
          "Opera",
          "Opera",
          "Opera",
          "Opera",
          "Opera",
          "Opera",
          "Opera",
          "Opera",
          "Opera",
          "Opera",
          "Opera",
          "Opera",
          "Opera",
          "Opera",
          "Opera",
          "Opera",
          "Opera",
          "Opera",
          "Opera",
          "Opera",
          "Opera",
          "Opera",
          "Opera",
          "Opera",
          "Opera",
          "Opera",
          "Opera",
          "Opera",
          "Opera",
          "Opera",
          "Opera",
          "Opera",
          "Opera",
          "Opera",
          "Opera",
          "Opera",
          "Opera",
          "Opera",
          "Opera",
          "Opera",
          "Opera",
          "Opera",
          "Opera",
          "Opera",
          "Opera",
          "Opera",
          "Opera",
          "Opera",
          "Opera",
          "Opera"
         ],
         "yaxis": "y"
        },
        {
         "hovertemplate": "Name=%{y}<br>Kapitel=%{x}<extra></extra>",
         "legendgroup": "Naberius Kalego",
         "marker": {
          "color": "#FF97FF",
          "line": {
           "width": 1
          },
          "size": 5,
          "symbol": "square"
         },
         "mode": "markers",
         "name": "Naberius Kalego",
         "showlegend": true,
         "type": "scattergl",
         "x": {
          "bdata": "AgAEAAUABgAHAAgADwAQABQAFgAYABsAHQAeAB8AIwAlACYALwAwADEAMgAzADQANwA4AEAAQQBCAEQARQBGAEcASwBMAE4ATwBQAFMAVQBWAFcAWABZAFwAXwBiAGUAjgCRAJMArgCxALIAtgC3ANcA2QDaANsA3gDfAOAA6wDsAPAA9AD1AAsBDgEPARIBEwEUARUBGAEhASMBJAElASYBMQEyATMBNQE8AT0BPgE/AUABQgFDAUQBRgFSAVQBVgFYAVkBXQFeAV8BZAFnAWgBdAF1AXoBewF/AYkBlwE=",
          "dtype": "i2"
         },
         "xaxis": "x",
         "y": [
          "Naberius Kalego",
          "Naberius Kalego",
          "Naberius Kalego",
          "Naberius Kalego",
          "Naberius Kalego",
          "Naberius Kalego",
          "Naberius Kalego",
          "Naberius Kalego",
          "Naberius Kalego",
          "Naberius Kalego",
          "Naberius Kalego",
          "Naberius Kalego",
          "Naberius Kalego",
          "Naberius Kalego",
          "Naberius Kalego",
          "Naberius Kalego",
          "Naberius Kalego",
          "Naberius Kalego",
          "Naberius Kalego",
          "Naberius Kalego",
          "Naberius Kalego",
          "Naberius Kalego",
          "Naberius Kalego",
          "Naberius Kalego",
          "Naberius Kalego",
          "Naberius Kalego",
          "Naberius Kalego",
          "Naberius Kalego",
          "Naberius Kalego",
          "Naberius Kalego",
          "Naberius Kalego",
          "Naberius Kalego",
          "Naberius Kalego",
          "Naberius Kalego",
          "Naberius Kalego",
          "Naberius Kalego",
          "Naberius Kalego",
          "Naberius Kalego",
          "Naberius Kalego",
          "Naberius Kalego",
          "Naberius Kalego",
          "Naberius Kalego",
          "Naberius Kalego",
          "Naberius Kalego",
          "Naberius Kalego",
          "Naberius Kalego",
          "Naberius Kalego",
          "Naberius Kalego",
          "Naberius Kalego",
          "Naberius Kalego",
          "Naberius Kalego",
          "Naberius Kalego",
          "Naberius Kalego",
          "Naberius Kalego",
          "Naberius Kalego",
          "Naberius Kalego",
          "Naberius Kalego",
          "Naberius Kalego",
          "Naberius Kalego",
          "Naberius Kalego",
          "Naberius Kalego",
          "Naberius Kalego",
          "Naberius Kalego",
          "Naberius Kalego",
          "Naberius Kalego",
          "Naberius Kalego",
          "Naberius Kalego",
          "Naberius Kalego",
          "Naberius Kalego",
          "Naberius Kalego",
          "Naberius Kalego",
          "Naberius Kalego",
          "Naberius Kalego",
          "Naberius Kalego",
          "Naberius Kalego",
          "Naberius Kalego",
          "Naberius Kalego",
          "Naberius Kalego",
          "Naberius Kalego",
          "Naberius Kalego",
          "Naberius Kalego",
          "Naberius Kalego",
          "Naberius Kalego",
          "Naberius Kalego",
          "Naberius Kalego",
          "Naberius Kalego",
          "Naberius Kalego",
          "Naberius Kalego",
          "Naberius Kalego",
          "Naberius Kalego",
          "Naberius Kalego",
          "Naberius Kalego",
          "Naberius Kalego",
          "Naberius Kalego",
          "Naberius Kalego",
          "Naberius Kalego",
          "Naberius Kalego",
          "Naberius Kalego",
          "Naberius Kalego",
          "Naberius Kalego",
          "Naberius Kalego",
          "Naberius Kalego",
          "Naberius Kalego",
          "Naberius Kalego",
          "Naberius Kalego",
          "Naberius Kalego",
          "Naberius Kalego",
          "Naberius Kalego",
          "Naberius Kalego",
          "Naberius Kalego",
          "Naberius Kalego",
          "Naberius Kalego"
         ],
         "yaxis": "y"
        },
        {
         "hovertemplate": "Name=%{y}<br>Kapitel=%{x}<extra></extra>",
         "legendgroup": "Valac Clara",
         "marker": {
          "color": "#FECB52",
          "line": {
           "width": 1
          },
          "size": 5,
          "symbol": "square"
         },
         "mode": "markers",
         "name": "Valac Clara",
         "showlegend": true,
         "type": "scattergl",
         "x": {
          "bdata": "AwAEAAUABgAHAAgACQAMAA0ADgAPABAAEQASABMAFAAVABYAGAAZABoAGwAcAB0AHgAfACIAIwAkACUAJgAnACgAKQAqACsALAAuADIAMwA1ADYANwA+AD8AQABBAEIAQwBEAEUARgBHAEkASgBLAEwAUABRAFMAVQBWAFcAWABZAFoAWwBcAF8AYABhAGIAZQBmAI0AjwCQAJMArQCuALEAsgCzALYAtwDPANYA2QDcAN0A3wDgAOEA4gDjAOQA6ADrAOwA8AAMAQ8BEQESARMBFAEVARYBFwEZARoBGwEcAR0BIQEwATQBNQE8AT4BPwFAAUEBQgFEAUcBSAFJAUoBTgFRAVIBUwFUAVUBVgFXAVgBWQFaAVwBXQFeAV8BYAFhAWIBYwFkAWUBZgFnAWgBaQFqAWsBbAFtAW4BbwFwAXEBcgFzAXQBdQF3AXkBfAF9AX4BfwGAAYEBggGDAYQBhQGJAYoBiwGMAY0BjgGSAZMBlgGXAZkBmgGbAZwB",
          "dtype": "i2"
         },
         "xaxis": "x",
         "y": [
          "Valac Clara",
          "Valac Clara",
          "Valac Clara",
          "Valac Clara",
          "Valac Clara",
          "Valac Clara",
          "Valac Clara",
          "Valac Clara",
          "Valac Clara",
          "Valac Clara",
          "Valac Clara",
          "Valac Clara",
          "Valac Clara",
          "Valac Clara",
          "Valac Clara",
          "Valac Clara",
          "Valac Clara",
          "Valac Clara",
          "Valac Clara",
          "Valac Clara",
          "Valac Clara",
          "Valac Clara",
          "Valac Clara",
          "Valac Clara",
          "Valac Clara",
          "Valac Clara",
          "Valac Clara",
          "Valac Clara",
          "Valac Clara",
          "Valac Clara",
          "Valac Clara",
          "Valac Clara",
          "Valac Clara",
          "Valac Clara",
          "Valac Clara",
          "Valac Clara",
          "Valac Clara",
          "Valac Clara",
          "Valac Clara",
          "Valac Clara",
          "Valac Clara",
          "Valac Clara",
          "Valac Clara",
          "Valac Clara",
          "Valac Clara",
          "Valac Clara",
          "Valac Clara",
          "Valac Clara",
          "Valac Clara",
          "Valac Clara",
          "Valac Clara",
          "Valac Clara",
          "Valac Clara",
          "Valac Clara",
          "Valac Clara",
          "Valac Clara",
          "Valac Clara",
          "Valac Clara",
          "Valac Clara",
          "Valac Clara",
          "Valac Clara",
          "Valac Clara",
          "Valac Clara",
          "Valac Clara",
          "Valac Clara",
          "Valac Clara",
          "Valac Clara",
          "Valac Clara",
          "Valac Clara",
          "Valac Clara",
          "Valac Clara",
          "Valac Clara",
          "Valac Clara",
          "Valac Clara",
          "Valac Clara",
          "Valac Clara",
          "Valac Clara",
          "Valac Clara",
          "Valac Clara",
          "Valac Clara",
          "Valac Clara",
          "Valac Clara",
          "Valac Clara",
          "Valac Clara",
          "Valac Clara",
          "Valac Clara",
          "Valac Clara",
          "Valac Clara",
          "Valac Clara",
          "Valac Clara",
          "Valac Clara",
          "Valac Clara",
          "Valac Clara",
          "Valac Clara",
          "Valac Clara",
          "Valac Clara",
          "Valac Clara",
          "Valac Clara",
          "Valac Clara",
          "Valac Clara",
          "Valac Clara",
          "Valac Clara",
          "Valac Clara",
          "Valac Clara",
          "Valac Clara",
          "Valac Clara",
          "Valac Clara",
          "Valac Clara",
          "Valac Clara",
          "Valac Clara",
          "Valac Clara",
          "Valac Clara",
          "Valac Clara",
          "Valac Clara",
          "Valac Clara",
          "Valac Clara",
          "Valac Clara",
          "Valac Clara",
          "Valac Clara",
          "Valac Clara",
          "Valac Clara",
          "Valac Clara",
          "Valac Clara",
          "Valac Clara",
          "Valac Clara",
          "Valac Clara",
          "Valac Clara",
          "Valac Clara",
          "Valac Clara",
          "Valac Clara",
          "Valac Clara",
          "Valac Clara",
          "Valac Clara",
          "Valac Clara",
          "Valac Clara",
          "Valac Clara",
          "Valac Clara",
          "Valac Clara",
          "Valac Clara",
          "Valac Clara",
          "Valac Clara",
          "Valac Clara",
          "Valac Clara",
          "Valac Clara",
          "Valac Clara",
          "Valac Clara",
          "Valac Clara",
          "Valac Clara",
          "Valac Clara",
          "Valac Clara",
          "Valac Clara",
          "Valac Clara",
          "Valac Clara",
          "Valac Clara",
          "Valac Clara",
          "Valac Clara",
          "Valac Clara",
          "Valac Clara",
          "Valac Clara",
          "Valac Clara",
          "Valac Clara",
          "Valac Clara",
          "Valac Clara",
          "Valac Clara",
          "Valac Clara",
          "Valac Clara",
          "Valac Clara",
          "Valac Clara",
          "Valac Clara",
          "Valac Clara",
          "Valac Clara",
          "Valac Clara",
          "Valac Clara",
          "Valac Clara",
          "Valac Clara",
          "Valac Clara",
          "Valac Clara",
          "Valac Clara",
          "Valac Clara",
          "Valac Clara",
          "Valac Clara",
          "Valac Clara",
          "Valac Clara",
          "Valac Clara",
          "Valac Clara",
          "Valac Clara",
          "Valac Clara",
          "Valac Clara",
          "Valac Clara",
          "Valac Clara",
          "Valac Clara",
          "Valac Clara"
         ],
         "yaxis": "y"
        },
        {
         "hovertemplate": "Name=%{y}<br>Kapitel=%{x}<extra></extra>",
         "legendgroup": "Yocchan",
         "marker": {
          "color": "#636efa",
          "line": {
           "width": 1
          },
          "size": 5,
          "symbol": "square"
         },
         "mode": "markers",
         "name": "Yocchan",
         "showlegend": true,
         "type": "scattergl",
         "x": {
          "bdata": "AwBkAYEB",
          "dtype": "i2"
         },
         "xaxis": "x",
         "y": [
          "Yocchan",
          "Yocchan",
          "Yocchan"
         ],
         "yaxis": "y"
        },
        {
         "hovertemplate": "Name=%{y}<br>Kapitel=%{x}<extra></extra>",
         "legendgroup": "Camu Camu",
         "marker": {
          "color": "#EF553B",
          "line": {
           "width": 1
          },
          "size": 5,
          "symbol": "square"
         },
         "mode": "markers",
         "name": "Camu Camu",
         "showlegend": true,
         "type": "scattergl",
         "x": {
          "bdata": "BADZAAwBFQE=",
          "dtype": "i2"
         },
         "xaxis": "x",
         "y": [
          "Camu Camu",
          "Camu Camu",
          "Camu Camu",
          "Camu Camu"
         ],
         "yaxis": "y"
        },
        {
         "hovertemplate": "Name=%{y}<br>Kapitel=%{x}<extra></extra>",
         "legendgroup": "Shax Lied",
         "marker": {
          "color": "#00cc96",
          "line": {
           "width": 1
          },
          "size": 5,
          "symbol": "square"
         },
         "mode": "markers",
         "name": "Shax Lied",
         "showlegend": true,
         "type": "scattergl",
         "x": {
          "bdata": "BQAGAAcACAAJAA0ADwAQABEAEwAUABgAHAAkACUAKAArACwALgAyADYANwA4AD4AQABBAEIAQwBEAEUARgBHAEoASwBMAE4ATwBQAFUAVgBXAFgAWQBaAFwAXwBgAGEAYgBlAGYAZwCQAJMArQCuALEAsgCzALcAzwDWANgA2QDcAN0A3wDgAOEA4gDoAOsA7AAPAREBEgETARQBFQEWARcBGQEaARsBNQE7AT8BQAFBAUIBQwFEAVQBWAFZAVoBWwFcAV4BZAFnAWgBcwF0AXUBdgF3AXgBeQF8AX8BgwGJAZQBnQE=",
          "dtype": "i2"
         },
         "xaxis": "x",
         "y": [
          "Shax Lied",
          "Shax Lied",
          "Shax Lied",
          "Shax Lied",
          "Shax Lied",
          "Shax Lied",
          "Shax Lied",
          "Shax Lied",
          "Shax Lied",
          "Shax Lied",
          "Shax Lied",
          "Shax Lied",
          "Shax Lied",
          "Shax Lied",
          "Shax Lied",
          "Shax Lied",
          "Shax Lied",
          "Shax Lied",
          "Shax Lied",
          "Shax Lied",
          "Shax Lied",
          "Shax Lied",
          "Shax Lied",
          "Shax Lied",
          "Shax Lied",
          "Shax Lied",
          "Shax Lied",
          "Shax Lied",
          "Shax Lied",
          "Shax Lied",
          "Shax Lied",
          "Shax Lied",
          "Shax Lied",
          "Shax Lied",
          "Shax Lied",
          "Shax Lied",
          "Shax Lied",
          "Shax Lied",
          "Shax Lied",
          "Shax Lied",
          "Shax Lied",
          "Shax Lied",
          "Shax Lied",
          "Shax Lied",
          "Shax Lied",
          "Shax Lied",
          "Shax Lied",
          "Shax Lied",
          "Shax Lied",
          "Shax Lied",
          "Shax Lied",
          "Shax Lied",
          "Shax Lied",
          "Shax Lied",
          "Shax Lied",
          "Shax Lied",
          "Shax Lied",
          "Shax Lied",
          "Shax Lied",
          "Shax Lied",
          "Shax Lied",
          "Shax Lied",
          "Shax Lied",
          "Shax Lied",
          "Shax Lied",
          "Shax Lied",
          "Shax Lied",
          "Shax Lied",
          "Shax Lied",
          "Shax Lied",
          "Shax Lied",
          "Shax Lied",
          "Shax Lied",
          "Shax Lied",
          "Shax Lied",
          "Shax Lied",
          "Shax Lied",
          "Shax Lied",
          "Shax Lied",
          "Shax Lied",
          "Shax Lied",
          "Shax Lied",
          "Shax Lied",
          "Shax Lied",
          "Shax Lied",
          "Shax Lied",
          "Shax Lied",
          "Shax Lied",
          "Shax Lied",
          "Shax Lied",
          "Shax Lied",
          "Shax Lied",
          "Shax Lied",
          "Shax Lied",
          "Shax Lied",
          "Shax Lied",
          "Shax Lied",
          "Shax Lied",
          "Shax Lied",
          "Shax Lied",
          "Shax Lied",
          "Shax Lied",
          "Shax Lied",
          "Shax Lied",
          "Shax Lied",
          "Shax Lied",
          "Shax Lied",
          "Shax Lied",
          "Shax Lied",
          "Shax Lied",
          "Shax Lied",
          "Shax Lied",
          "Shax Lied",
          "Shax Lied",
          "Shax Lied"
         ],
         "yaxis": "y"
        },
        {
         "hovertemplate": "Name=%{y}<br>Kapitel=%{x}<extra></extra>",
         "legendgroup": "Andro M. Jazz",
         "marker": {
          "color": "#ab63fa",
          "line": {
           "width": 1
          },
          "size": 5,
          "symbol": "square"
         },
         "mode": "markers",
         "name": "Andro M. Jazz",
         "showlegend": true,
         "type": "scattergl",
         "x": {
          "bdata": "BQAGAAcACAAJAA0ADwAQABEAEwAYABwAJAAlACgAKwAuADIANgA3ADgAPgBAAEEAQgBDAEQARQBGAEcASgBLAEwATgBPAFAAUwBVAFYAVwBYAFkAWgBcAF8AYABiAGYAZwBpAGoAkwCtAK4AsQCyALcAzwDWANkA3ADdAN8A4ADhAOIA6wDsAO0ADAERARIBEwEUARUBFgEXARgBGQEaARsBNQFAAUEBQgFDAUQBVAFZAVoBWwFcAV4BZAFnAWgBcwF0AXUBfAF/AYMBiQGKAYsBjAGNAY4BkQGSAZMBlgGXAZgBmQGaAZoBmwGcAQ==",
          "dtype": "i2"
         },
         "xaxis": "x",
         "y": [
          "Andro M. Jazz",
          "Andro M. Jazz",
          "Andro M. Jazz",
          "Andro M. Jazz",
          "Andro M. Jazz",
          "Andro M. Jazz",
          "Andro M. Jazz",
          "Andro M. Jazz",
          "Andro M. Jazz",
          "Andro M. Jazz",
          "Andro M. Jazz",
          "Andro M. Jazz",
          "Andro M. Jazz",
          "Andro M. Jazz",
          "Andro M. Jazz",
          "Andro M. Jazz",
          "Andro M. Jazz",
          "Andro M. Jazz",
          "Andro M. Jazz",
          "Andro M. Jazz",
          "Andro M. Jazz",
          "Andro M. Jazz",
          "Andro M. Jazz",
          "Andro M. Jazz",
          "Andro M. Jazz",
          "Andro M. Jazz",
          "Andro M. Jazz",
          "Andro M. Jazz",
          "Andro M. Jazz",
          "Andro M. Jazz",
          "Andro M. Jazz",
          "Andro M. Jazz",
          "Andro M. Jazz",
          "Andro M. Jazz",
          "Andro M. Jazz",
          "Andro M. Jazz",
          "Andro M. Jazz",
          "Andro M. Jazz",
          "Andro M. Jazz",
          "Andro M. Jazz",
          "Andro M. Jazz",
          "Andro M. Jazz",
          "Andro M. Jazz",
          "Andro M. Jazz",
          "Andro M. Jazz",
          "Andro M. Jazz",
          "Andro M. Jazz",
          "Andro M. Jazz",
          "Andro M. Jazz",
          "Andro M. Jazz",
          "Andro M. Jazz",
          "Andro M. Jazz",
          "Andro M. Jazz",
          "Andro M. Jazz",
          "Andro M. Jazz",
          "Andro M. Jazz",
          "Andro M. Jazz",
          "Andro M. Jazz",
          "Andro M. Jazz",
          "Andro M. Jazz",
          "Andro M. Jazz",
          "Andro M. Jazz",
          "Andro M. Jazz",
          "Andro M. Jazz",
          "Andro M. Jazz",
          "Andro M. Jazz",
          "Andro M. Jazz",
          "Andro M. Jazz",
          "Andro M. Jazz",
          "Andro M. Jazz",
          "Andro M. Jazz",
          "Andro M. Jazz",
          "Andro M. Jazz",
          "Andro M. Jazz",
          "Andro M. Jazz",
          "Andro M. Jazz",
          "Andro M. Jazz",
          "Andro M. Jazz",
          "Andro M. Jazz",
          "Andro M. Jazz",
          "Andro M. Jazz",
          "Andro M. Jazz",
          "Andro M. Jazz",
          "Andro M. Jazz",
          "Andro M. Jazz",
          "Andro M. Jazz",
          "Andro M. Jazz",
          "Andro M. Jazz",
          "Andro M. Jazz",
          "Andro M. Jazz",
          "Andro M. Jazz",
          "Andro M. Jazz",
          "Andro M. Jazz",
          "Andro M. Jazz",
          "Andro M. Jazz",
          "Andro M. Jazz",
          "Andro M. Jazz",
          "Andro M. Jazz",
          "Andro M. Jazz",
          "Andro M. Jazz",
          "Andro M. Jazz",
          "Andro M. Jazz",
          "Andro M. Jazz",
          "Andro M. Jazz",
          "Andro M. Jazz",
          "Andro M. Jazz",
          "Andro M. Jazz",
          "Andro M. Jazz",
          "Andro M. Jazz",
          "Andro M. Jazz",
          "Andro M. Jazz",
          "Andro M. Jazz",
          "Andro M. Jazz",
          "Andro M. Jazz",
          "Andro M. Jazz",
          "Andro M. Jazz",
          "Andro M. Jazz",
          "Andro M. Jazz",
          "Andro M. Jazz"
         ],
         "yaxis": "y"
        },
        {
         "hovertemplate": "Name=%{y}<br>Kapitel=%{x}<extra></extra>",
         "legendgroup": "Ix Elizabetta",
         "marker": {
          "color": "#FFA15A",
          "line": {
           "width": 1
          },
          "size": 5,
          "symbol": "square"
         },
         "mode": "markers",
         "name": "Ix Elizabetta",
         "showlegend": true,
         "type": "scattergl",
         "x": {
          "bdata": "BQAGAAcACAAJAA0ADwAQABEAGAAlACgAKQA2ADgAPgBAAEEAQgBDAEQARQBGAEcASgBLAEwAUABVAFYAVwBYAFwAXwBgAGEAYgBlAGYAZwCPAJMArQCxALIAswC3AM8A1gDZANwA3QDgAOEA4gDpAOsA7ADtAPUA9gAPARABEQESARQBFQEWARcBGwE1ATwBPgFAAUEBQgFZAVoBXgFkAWgBcwF3AXwBgwGJAQ==",
          "dtype": "i2"
         },
         "xaxis": "x",
         "y": [
          "Ix Elizabetta",
          "Ix Elizabetta",
          "Ix Elizabetta",
          "Ix Elizabetta",
          "Ix Elizabetta",
          "Ix Elizabetta",
          "Ix Elizabetta",
          "Ix Elizabetta",
          "Ix Elizabetta",
          "Ix Elizabetta",
          "Ix Elizabetta",
          "Ix Elizabetta",
          "Ix Elizabetta",
          "Ix Elizabetta",
          "Ix Elizabetta",
          "Ix Elizabetta",
          "Ix Elizabetta",
          "Ix Elizabetta",
          "Ix Elizabetta",
          "Ix Elizabetta",
          "Ix Elizabetta",
          "Ix Elizabetta",
          "Ix Elizabetta",
          "Ix Elizabetta",
          "Ix Elizabetta",
          "Ix Elizabetta",
          "Ix Elizabetta",
          "Ix Elizabetta",
          "Ix Elizabetta",
          "Ix Elizabetta",
          "Ix Elizabetta",
          "Ix Elizabetta",
          "Ix Elizabetta",
          "Ix Elizabetta",
          "Ix Elizabetta",
          "Ix Elizabetta",
          "Ix Elizabetta",
          "Ix Elizabetta",
          "Ix Elizabetta",
          "Ix Elizabetta",
          "Ix Elizabetta",
          "Ix Elizabetta",
          "Ix Elizabetta",
          "Ix Elizabetta",
          "Ix Elizabetta",
          "Ix Elizabetta",
          "Ix Elizabetta",
          "Ix Elizabetta",
          "Ix Elizabetta",
          "Ix Elizabetta",
          "Ix Elizabetta",
          "Ix Elizabetta",
          "Ix Elizabetta",
          "Ix Elizabetta",
          "Ix Elizabetta",
          "Ix Elizabetta",
          "Ix Elizabetta",
          "Ix Elizabetta",
          "Ix Elizabetta",
          "Ix Elizabetta",
          "Ix Elizabetta",
          "Ix Elizabetta",
          "Ix Elizabetta",
          "Ix Elizabetta",
          "Ix Elizabetta",
          "Ix Elizabetta",
          "Ix Elizabetta",
          "Ix Elizabetta",
          "Ix Elizabetta",
          "Ix Elizabetta",
          "Ix Elizabetta",
          "Ix Elizabetta",
          "Ix Elizabetta",
          "Ix Elizabetta",
          "Ix Elizabetta",
          "Ix Elizabetta",
          "Ix Elizabetta",
          "Ix Elizabetta",
          "Ix Elizabetta",
          "Ix Elizabetta",
          "Ix Elizabetta",
          "Ix Elizabetta",
          "Ix Elizabetta",
          "Ix Elizabetta",
          "Ix Elizabetta",
          "Ix Elizabetta"
         ],
         "yaxis": "y"
        },
        {
         "hovertemplate": "Name=%{y}<br>Kapitel=%{x}<extra></extra>",
         "legendgroup": "Gaap Goemon",
         "marker": {
          "color": "#19d3f3",
          "line": {
           "width": 1
          },
          "size": 5,
          "symbol": "square"
         },
         "mode": "markers",
         "name": "Gaap Goemon",
         "showlegend": true,
         "type": "scattergl",
         "x": {
          "bdata": "BQAGAAcACAAJAA0ADgAPABAAEQAUABgAKAArADYANwA4AD4AQABBAEIAQwBEAEUARgBHAEoASwBMAE4ATwBQAFUAVgBXAFgAWQBaAFwAXwBgAGIAZQBmAGcAkwCtAK4AsQCyALMAtwDPANYA2QDcAN0A3wDgAOEA4gDoAOkA6wDsABABEQEUARUBFgEXATUBPwFAAUIBQwFEAU4BUQFYAVkBWgFbAV4BZAFoAXMBdAF1AXwBgwGJAQ==",
          "dtype": "i2"
         },
         "xaxis": "x",
         "y": [
          "Gaap Goemon",
          "Gaap Goemon",
          "Gaap Goemon",
          "Gaap Goemon",
          "Gaap Goemon",
          "Gaap Goemon",
          "Gaap Goemon",
          "Gaap Goemon",
          "Gaap Goemon",
          "Gaap Goemon",
          "Gaap Goemon",
          "Gaap Goemon",
          "Gaap Goemon",
          "Gaap Goemon",
          "Gaap Goemon",
          "Gaap Goemon",
          "Gaap Goemon",
          "Gaap Goemon",
          "Gaap Goemon",
          "Gaap Goemon",
          "Gaap Goemon",
          "Gaap Goemon",
          "Gaap Goemon",
          "Gaap Goemon",
          "Gaap Goemon",
          "Gaap Goemon",
          "Gaap Goemon",
          "Gaap Goemon",
          "Gaap Goemon",
          "Gaap Goemon",
          "Gaap Goemon",
          "Gaap Goemon",
          "Gaap Goemon",
          "Gaap Goemon",
          "Gaap Goemon",
          "Gaap Goemon",
          "Gaap Goemon",
          "Gaap Goemon",
          "Gaap Goemon",
          "Gaap Goemon",
          "Gaap Goemon",
          "Gaap Goemon",
          "Gaap Goemon",
          "Gaap Goemon",
          "Gaap Goemon",
          "Gaap Goemon",
          "Gaap Goemon",
          "Gaap Goemon",
          "Gaap Goemon",
          "Gaap Goemon",
          "Gaap Goemon",
          "Gaap Goemon",
          "Gaap Goemon",
          "Gaap Goemon",
          "Gaap Goemon",
          "Gaap Goemon",
          "Gaap Goemon",
          "Gaap Goemon",
          "Gaap Goemon",
          "Gaap Goemon",
          "Gaap Goemon",
          "Gaap Goemon",
          "Gaap Goemon",
          "Gaap Goemon",
          "Gaap Goemon",
          "Gaap Goemon",
          "Gaap Goemon",
          "Gaap Goemon",
          "Gaap Goemon",
          "Gaap Goemon",
          "Gaap Goemon",
          "Gaap Goemon",
          "Gaap Goemon",
          "Gaap Goemon",
          "Gaap Goemon",
          "Gaap Goemon",
          "Gaap Goemon",
          "Gaap Goemon",
          "Gaap Goemon",
          "Gaap Goemon",
          "Gaap Goemon",
          "Gaap Goemon",
          "Gaap Goemon",
          "Gaap Goemon",
          "Gaap Goemon",
          "Gaap Goemon",
          "Gaap Goemon",
          "Gaap Goemon",
          "Gaap Goemon",
          "Gaap Goemon",
          "Gaap Goemon",
          "Gaap Goemon"
         ],
         "yaxis": "y"
        },
        {
         "hovertemplate": "Name=%{y}<br>Kapitel=%{x}<extra></extra>",
         "legendgroup": "Caim Kamui",
         "marker": {
          "color": "#FF6692",
          "line": {
           "width": 1
          },
          "size": 5,
          "symbol": "square"
         },
         "mode": "markers",
         "name": "Caim Kamui",
         "showlegend": true,
         "type": "scattergl",
         "x": {
          "bdata": "BQAGAAcACAAJAA0ADwAQABEAEwAUABgAHAAoADYANwA4AD4AQABBAEIARABFAEYARwBKAEsATABOAE8AUABVAFYAVwBYAFoAXwBgAGIAZQBmAGcAaABpAJMAsQCyALcAzwDWANkA3ADdAOAA4QDrAOwA7QDuAO8A9AD1APYADgEUARUBFgEXARsBNQFAAVkBZAFoAXMB",
          "dtype": "i2"
         },
         "xaxis": "x",
         "y": [
          "Caim Kamui",
          "Caim Kamui",
          "Caim Kamui",
          "Caim Kamui",
          "Caim Kamui",
          "Caim Kamui",
          "Caim Kamui",
          "Caim Kamui",
          "Caim Kamui",
          "Caim Kamui",
          "Caim Kamui",
          "Caim Kamui",
          "Caim Kamui",
          "Caim Kamui",
          "Caim Kamui",
          "Caim Kamui",
          "Caim Kamui",
          "Caim Kamui",
          "Caim Kamui",
          "Caim Kamui",
          "Caim Kamui",
          "Caim Kamui",
          "Caim Kamui",
          "Caim Kamui",
          "Caim Kamui",
          "Caim Kamui",
          "Caim Kamui",
          "Caim Kamui",
          "Caim Kamui",
          "Caim Kamui",
          "Caim Kamui",
          "Caim Kamui",
          "Caim Kamui",
          "Caim Kamui",
          "Caim Kamui",
          "Caim Kamui",
          "Caim Kamui",
          "Caim Kamui",
          "Caim Kamui",
          "Caim Kamui",
          "Caim Kamui",
          "Caim Kamui",
          "Caim Kamui",
          "Caim Kamui",
          "Caim Kamui",
          "Caim Kamui",
          "Caim Kamui",
          "Caim Kamui",
          "Caim Kamui",
          "Caim Kamui",
          "Caim Kamui",
          "Caim Kamui",
          "Caim Kamui",
          "Caim Kamui",
          "Caim Kamui",
          "Caim Kamui",
          "Caim Kamui",
          "Caim Kamui",
          "Caim Kamui",
          "Caim Kamui",
          "Caim Kamui",
          "Caim Kamui",
          "Caim Kamui",
          "Caim Kamui",
          "Caim Kamui",
          "Caim Kamui",
          "Caim Kamui",
          "Caim Kamui",
          "Caim Kamui",
          "Caim Kamui",
          "Caim Kamui",
          "Caim Kamui",
          "Caim Kamui",
          "Caim Kamui",
          "Caim Kamui"
         ],
         "yaxis": "y"
        },
        {
         "hovertemplate": "Name=%{y}<br>Kapitel=%{x}<extra></extra>",
         "legendgroup": "Crocell Kerori",
         "marker": {
          "color": "#B6E880",
          "line": {
           "width": 1
          },
          "size": 5,
          "symbol": "square"
         },
         "mode": "markers",
         "name": "Crocell Kerori",
         "showlegend": true,
         "type": "scattergl",
         "x": {
          "bdata": "BQAGAAcACAAJAA0ADgAPABAAEQAUABgAKAApACoAKwAsAC4ANwA4AD4AQABCAEMARQBGAEcASwBMAFAAUQBVAFYAVwBYAF8AYABiAGUAZgBnAGgAaQCTAK0AsQCyALcAzwDWANgA2QDcAN0A3wDgAOEA4gDrAOwA9QD2AAwBDQEUARUBFgEXARsBNQE8AT4BQAFCAU4BUQFYAVsBXQFkAWgBcwF1AXcBeAF5AXwBgwE=",
          "dtype": "i2"
         },
         "xaxis": "x",
         "y": [
          "Crocell Kerori",
          "Crocell Kerori",
          "Crocell Kerori",
          "Crocell Kerori",
          "Crocell Kerori",
          "Crocell Kerori",
          "Crocell Kerori",
          "Crocell Kerori",
          "Crocell Kerori",
          "Crocell Kerori",
          "Crocell Kerori",
          "Crocell Kerori",
          "Crocell Kerori",
          "Crocell Kerori",
          "Crocell Kerori",
          "Crocell Kerori",
          "Crocell Kerori",
          "Crocell Kerori",
          "Crocell Kerori",
          "Crocell Kerori",
          "Crocell Kerori",
          "Crocell Kerori",
          "Crocell Kerori",
          "Crocell Kerori",
          "Crocell Kerori",
          "Crocell Kerori",
          "Crocell Kerori",
          "Crocell Kerori",
          "Crocell Kerori",
          "Crocell Kerori",
          "Crocell Kerori",
          "Crocell Kerori",
          "Crocell Kerori",
          "Crocell Kerori",
          "Crocell Kerori",
          "Crocell Kerori",
          "Crocell Kerori",
          "Crocell Kerori",
          "Crocell Kerori",
          "Crocell Kerori",
          "Crocell Kerori",
          "Crocell Kerori",
          "Crocell Kerori",
          "Crocell Kerori",
          "Crocell Kerori",
          "Crocell Kerori",
          "Crocell Kerori",
          "Crocell Kerori",
          "Crocell Kerori",
          "Crocell Kerori",
          "Crocell Kerori",
          "Crocell Kerori",
          "Crocell Kerori",
          "Crocell Kerori",
          "Crocell Kerori",
          "Crocell Kerori",
          "Crocell Kerori",
          "Crocell Kerori",
          "Crocell Kerori",
          "Crocell Kerori",
          "Crocell Kerori",
          "Crocell Kerori",
          "Crocell Kerori",
          "Crocell Kerori",
          "Crocell Kerori",
          "Crocell Kerori",
          "Crocell Kerori",
          "Crocell Kerori",
          "Crocell Kerori",
          "Crocell Kerori",
          "Crocell Kerori",
          "Crocell Kerori",
          "Crocell Kerori",
          "Crocell Kerori",
          "Crocell Kerori",
          "Crocell Kerori",
          "Crocell Kerori",
          "Crocell Kerori",
          "Crocell Kerori",
          "Crocell Kerori",
          "Crocell Kerori",
          "Crocell Kerori",
          "Crocell Kerori",
          "Crocell Kerori",
          "Crocell Kerori",
          "Crocell Kerori",
          "Crocell Kerori",
          "Crocell Kerori"
         ],
         "yaxis": "y"
        },
        {
         "hovertemplate": "Name=%{y}<br>Kapitel=%{x}<extra></extra>",
         "legendgroup": "Sabnock Sabro",
         "marker": {
          "color": "#FF97FF",
          "line": {
           "width": 1
          },
          "size": 5,
          "symbol": "square"
         },
         "mode": "markers",
         "name": "Sabnock Sabro",
         "showlegend": true,
         "type": "scattergl",
         "x": {
          "bdata": "BQAGAAcACAAJAAwADQAOAA8AEAARABQAFgAYABsAHAAdACQAJQAmACcAKQAtADYANwA4AD4AQABBAEIAQwBFAEYARwBIAEkASgBLAE0AUABRAFIAUwBUAFUAVgBXAFgAWQBaAFwAXwBgAGIAZQBmAGcAaABpAJMArQCxALIAtgC3AM0AzgDPANYA2QDcAN0A3wDgAOEA6QDrAOwA7QD2AAwBEQETARQBFQEWARcBGwE1AUABQgFDAUQBVAFVAVYBVwFYAVkBWgFdAV4BZAFnAWgBcwF0AXUBfQGJAQ==",
          "dtype": "i2"
         },
         "xaxis": "x",
         "y": [
          "Sabnock Sabro",
          "Sabnock Sabro",
          "Sabnock Sabro",
          "Sabnock Sabro",
          "Sabnock Sabro",
          "Sabnock Sabro",
          "Sabnock Sabro",
          "Sabnock Sabro",
          "Sabnock Sabro",
          "Sabnock Sabro",
          "Sabnock Sabro",
          "Sabnock Sabro",
          "Sabnock Sabro",
          "Sabnock Sabro",
          "Sabnock Sabro",
          "Sabnock Sabro",
          "Sabnock Sabro",
          "Sabnock Sabro",
          "Sabnock Sabro",
          "Sabnock Sabro",
          "Sabnock Sabro",
          "Sabnock Sabro",
          "Sabnock Sabro",
          "Sabnock Sabro",
          "Sabnock Sabro",
          "Sabnock Sabro",
          "Sabnock Sabro",
          "Sabnock Sabro",
          "Sabnock Sabro",
          "Sabnock Sabro",
          "Sabnock Sabro",
          "Sabnock Sabro",
          "Sabnock Sabro",
          "Sabnock Sabro",
          "Sabnock Sabro",
          "Sabnock Sabro",
          "Sabnock Sabro",
          "Sabnock Sabro",
          "Sabnock Sabro",
          "Sabnock Sabro",
          "Sabnock Sabro",
          "Sabnock Sabro",
          "Sabnock Sabro",
          "Sabnock Sabro",
          "Sabnock Sabro",
          "Sabnock Sabro",
          "Sabnock Sabro",
          "Sabnock Sabro",
          "Sabnock Sabro",
          "Sabnock Sabro",
          "Sabnock Sabro",
          "Sabnock Sabro",
          "Sabnock Sabro",
          "Sabnock Sabro",
          "Sabnock Sabro",
          "Sabnock Sabro",
          "Sabnock Sabro",
          "Sabnock Sabro",
          "Sabnock Sabro",
          "Sabnock Sabro",
          "Sabnock Sabro",
          "Sabnock Sabro",
          "Sabnock Sabro",
          "Sabnock Sabro",
          "Sabnock Sabro",
          "Sabnock Sabro",
          "Sabnock Sabro",
          "Sabnock Sabro",
          "Sabnock Sabro",
          "Sabnock Sabro",
          "Sabnock Sabro",
          "Sabnock Sabro",
          "Sabnock Sabro",
          "Sabnock Sabro",
          "Sabnock Sabro",
          "Sabnock Sabro",
          "Sabnock Sabro",
          "Sabnock Sabro",
          "Sabnock Sabro",
          "Sabnock Sabro",
          "Sabnock Sabro",
          "Sabnock Sabro",
          "Sabnock Sabro",
          "Sabnock Sabro",
          "Sabnock Sabro",
          "Sabnock Sabro",
          "Sabnock Sabro",
          "Sabnock Sabro",
          "Sabnock Sabro",
          "Sabnock Sabro",
          "Sabnock Sabro",
          "Sabnock Sabro",
          "Sabnock Sabro",
          "Sabnock Sabro",
          "Sabnock Sabro",
          "Sabnock Sabro",
          "Sabnock Sabro",
          "Sabnock Sabro",
          "Sabnock Sabro",
          "Sabnock Sabro",
          "Sabnock Sabro",
          "Sabnock Sabro",
          "Sabnock Sabro",
          "Sabnock Sabro",
          "Sabnock Sabro",
          "Sabnock Sabro",
          "Sabnock Sabro",
          "Sabnock Sabro",
          "Sabnock Sabro",
          "Sabnock Sabro"
         ],
         "yaxis": "y"
        },
        {
         "hovertemplate": "Name=%{y}<br>Kapitel=%{x}<extra></extra>",
         "legendgroup": "Allocer Schneider",
         "marker": {
          "color": "#FECB52",
          "line": {
           "width": 1
          },
          "size": 5,
          "symbol": "square"
         },
         "mode": "markers",
         "name": "Allocer Schneider",
         "showlegend": true,
         "type": "scattergl",
         "x": {
          "bdata": "BQAGAAcADwAQABgAOABAAEEAQgBEAEUAXwBgAGIAZgBnAGkAagCTAK0AsQCyALcAzwDWANkA3ADdAN8A4ADhAOgA6QDrAOwADAETARQBFQEWARcBGwE1AUABQQFCAUMBWQFaAWQBaAFzAXUBgwGbAQ==",
          "dtype": "i2"
         },
         "xaxis": "x",
         "y": [
          "Allocer Schneider",
          "Allocer Schneider",
          "Allocer Schneider",
          "Allocer Schneider",
          "Allocer Schneider",
          "Allocer Schneider",
          "Allocer Schneider",
          "Allocer Schneider",
          "Allocer Schneider",
          "Allocer Schneider",
          "Allocer Schneider",
          "Allocer Schneider",
          "Allocer Schneider",
          "Allocer Schneider",
          "Allocer Schneider",
          "Allocer Schneider",
          "Allocer Schneider",
          "Allocer Schneider",
          "Allocer Schneider",
          "Allocer Schneider",
          "Allocer Schneider",
          "Allocer Schneider",
          "Allocer Schneider",
          "Allocer Schneider",
          "Allocer Schneider",
          "Allocer Schneider",
          "Allocer Schneider",
          "Allocer Schneider",
          "Allocer Schneider",
          "Allocer Schneider",
          "Allocer Schneider",
          "Allocer Schneider",
          "Allocer Schneider",
          "Allocer Schneider",
          "Allocer Schneider",
          "Allocer Schneider",
          "Allocer Schneider",
          "Allocer Schneider",
          "Allocer Schneider",
          "Allocer Schneider",
          "Allocer Schneider",
          "Allocer Schneider",
          "Allocer Schneider",
          "Allocer Schneider",
          "Allocer Schneider",
          "Allocer Schneider",
          "Allocer Schneider",
          "Allocer Schneider",
          "Allocer Schneider",
          "Allocer Schneider",
          "Allocer Schneider",
          "Allocer Schneider",
          "Allocer Schneider",
          "Allocer Schneider",
          "Allocer Schneider",
          "Allocer Schneider"
         ],
         "yaxis": "y"
        },
        {
         "hovertemplate": "Name=%{y}<br>Kapitel=%{x}<extra></extra>",
         "legendgroup": "Agares Picero",
         "marker": {
          "color": "#636efa",
          "line": {
           "width": 1
          },
          "size": 5,
          "symbol": "square"
         },
         "mode": "markers",
         "name": "Agares Picero",
         "showlegend": true,
         "type": "scattergl",
         "x": {
          "bdata": "BQAGAAcACAAJAA0ADgAPABAAGAA2ADgAQABBAEIARABGAEcASABKAEsATQBQAFIAVQBWAFgAXwBgAGIAZQBmAGcAkwCtALEAsgC3AM8A1gDZANwA3QDgAOEA6ADrAOwA7QAPARABEQEUARUBFgEXARsBNQFAAUIBTgFRAVgBWQFaAVsBXgFkAWgBcwF1AXwBgwE=",
          "dtype": "i2"
         },
         "xaxis": "x",
         "y": [
          "Agares Picero",
          "Agares Picero",
          "Agares Picero",
          "Agares Picero",
          "Agares Picero",
          "Agares Picero",
          "Agares Picero",
          "Agares Picero",
          "Agares Picero",
          "Agares Picero",
          "Agares Picero",
          "Agares Picero",
          "Agares Picero",
          "Agares Picero",
          "Agares Picero",
          "Agares Picero",
          "Agares Picero",
          "Agares Picero",
          "Agares Picero",
          "Agares Picero",
          "Agares Picero",
          "Agares Picero",
          "Agares Picero",
          "Agares Picero",
          "Agares Picero",
          "Agares Picero",
          "Agares Picero",
          "Agares Picero",
          "Agares Picero",
          "Agares Picero",
          "Agares Picero",
          "Agares Picero",
          "Agares Picero",
          "Agares Picero",
          "Agares Picero",
          "Agares Picero",
          "Agares Picero",
          "Agares Picero",
          "Agares Picero",
          "Agares Picero",
          "Agares Picero",
          "Agares Picero",
          "Agares Picero",
          "Agares Picero",
          "Agares Picero",
          "Agares Picero",
          "Agares Picero",
          "Agares Picero",
          "Agares Picero",
          "Agares Picero",
          "Agares Picero",
          "Agares Picero",
          "Agares Picero",
          "Agares Picero",
          "Agares Picero",
          "Agares Picero",
          "Agares Picero",
          "Agares Picero",
          "Agares Picero",
          "Agares Picero",
          "Agares Picero",
          "Agares Picero",
          "Agares Picero",
          "Agares Picero",
          "Agares Picero",
          "Agares Picero",
          "Agares Picero",
          "Agares Picero",
          "Agares Picero",
          "Agares Picero",
          "Agares Picero",
          "Agares Picero",
          "Agares Picero"
         ],
         "yaxis": "y"
        },
        {
         "hovertemplate": "Name=%{y}<br>Kapitel=%{x}<extra></extra>",
         "legendgroup": "Purson Soi",
         "marker": {
          "color": "#EF553B",
          "line": {
           "width": 1
          },
          "size": 5,
          "symbol": "square"
         },
         "mode": "markers",
         "name": "Purson Soi",
         "showlegend": true,
         "type": "scattergl",
         "x": {
          "bdata": "BQAIAA8AGABCAJMAsQCyALMAtwDPANYA2QDcAN0A4ADiAOgA6QDqAOsA7AAMAQ8BEgEUARUBFgEXARsBNQE7AT8BQAFBAUIBQwFZAVoBWwFcAV4BZAFoAXMBdAF1AX8BgwGJAZQB",
          "dtype": "i2"
         },
         "xaxis": "x",
         "y": [
          "Purson Soi",
          "Purson Soi",
          "Purson Soi",
          "Purson Soi",
          "Purson Soi",
          "Purson Soi",
          "Purson Soi",
          "Purson Soi",
          "Purson Soi",
          "Purson Soi",
          "Purson Soi",
          "Purson Soi",
          "Purson Soi",
          "Purson Soi",
          "Purson Soi",
          "Purson Soi",
          "Purson Soi",
          "Purson Soi",
          "Purson Soi",
          "Purson Soi",
          "Purson Soi",
          "Purson Soi",
          "Purson Soi",
          "Purson Soi",
          "Purson Soi",
          "Purson Soi",
          "Purson Soi",
          "Purson Soi",
          "Purson Soi",
          "Purson Soi",
          "Purson Soi",
          "Purson Soi",
          "Purson Soi",
          "Purson Soi",
          "Purson Soi",
          "Purson Soi",
          "Purson Soi",
          "Purson Soi",
          "Purson Soi",
          "Purson Soi",
          "Purson Soi",
          "Purson Soi",
          "Purson Soi",
          "Purson Soi",
          "Purson Soi",
          "Purson Soi",
          "Purson Soi",
          "Purson Soi",
          "Purson Soi",
          "Purson Soi",
          "Purson Soi"
         ],
         "yaxis": "y"
        },
        {
         "hovertemplate": "Name=%{y}<br>Kapitel=%{x}<extra></extra>",
         "legendgroup": "Yamanda",
         "marker": {
          "color": "#00cc96",
          "line": {
           "width": 1
          },
          "size": 5,
          "symbol": "square"
         },
         "mode": "markers",
         "name": "Yamanda",
         "showlegend": true,
         "type": "scattergl",
         "x": {
          "bdata": "Bw==",
          "dtype": "i1"
         },
         "xaxis": "x",
         "y": [
          "Yamanda"
         ],
         "yaxis": "y"
        },
        {
         "hovertemplate": "Name=%{y}<br>Kapitel=%{x}<extra></extra>",
         "legendgroup": "Sabnock Sabzan",
         "marker": {
          "color": "#ab63fa",
          "line": {
           "width": 1
          },
          "size": 5,
          "symbol": "square"
         },
         "mode": "markers",
         "name": "Sabnock Sabzan",
         "showlegend": true,
         "type": "scattergl",
         "x": {
          "bdata": "BwAcAM4AzwBMAVUBVgFcAV0B",
          "dtype": "i2"
         },
         "xaxis": "x",
         "y": [
          "Sabnock Sabzan",
          "Sabnock Sabzan",
          "Sabnock Sabzan",
          "Sabnock Sabzan",
          "Sabnock Sabzan",
          "Sabnock Sabzan",
          "Sabnock Sabzan",
          "Sabnock Sabzan",
          "Sabnock Sabzan"
         ],
         "yaxis": "y"
        },
        {
         "hovertemplate": "Name=%{y}<br>Kapitel=%{x}<extra></extra>",
         "legendgroup": "Sabro's Brother",
         "marker": {
          "color": "#FFA15A",
          "line": {
           "width": 1
          },
          "size": 5,
          "symbol": "square"
         },
         "mode": "markers",
         "name": "Sabro's Brother",
         "showlegend": true,
         "type": "scattergl",
         "x": {
          "bdata": "Bw==",
          "dtype": "i1"
         },
         "xaxis": "x",
         "y": [
          "Sabro's Brother"
         ],
         "yaxis": "y"
        },
        {
         "hovertemplate": "Name=%{y}<br>Kapitel=%{x}<extra></extra>",
         "legendgroup": "Sabnock Silvia",
         "marker": {
          "color": "#19d3f3",
          "line": {
           "width": 1
          },
          "size": 5,
          "symbol": "square"
         },
         "mode": "markers",
         "name": "Sabnock Silvia",
         "showlegend": true,
         "type": "scattergl",
         "x": {
          "bdata": "BwAcACQAzQDOAM8A1wDYAN8A4ADhAOIA6QDsAO0A7gDvAPQA9QD2AA0BGQEaARwBHQEhATABRwFIAUkBSgFLAUwBTQFOAU8BUAFRAVIBUwFUAVUBVgFXAVgBWwFcAV0BXgFfAYMBiQE=",
          "dtype": "i2"
         },
         "xaxis": "x",
         "y": [
          "Sabnock Silvia",
          "Sabnock Silvia",
          "Sabnock Silvia",
          "Sabnock Silvia",
          "Sabnock Silvia",
          "Sabnock Silvia",
          "Sabnock Silvia",
          "Sabnock Silvia",
          "Sabnock Silvia",
          "Sabnock Silvia",
          "Sabnock Silvia",
          "Sabnock Silvia",
          "Sabnock Silvia",
          "Sabnock Silvia",
          "Sabnock Silvia",
          "Sabnock Silvia",
          "Sabnock Silvia",
          "Sabnock Silvia",
          "Sabnock Silvia",
          "Sabnock Silvia",
          "Sabnock Silvia",
          "Sabnock Silvia",
          "Sabnock Silvia",
          "Sabnock Silvia",
          "Sabnock Silvia",
          "Sabnock Silvia",
          "Sabnock Silvia",
          "Sabnock Silvia",
          "Sabnock Silvia",
          "Sabnock Silvia",
          "Sabnock Silvia",
          "Sabnock Silvia",
          "Sabnock Silvia",
          "Sabnock Silvia",
          "Sabnock Silvia",
          "Sabnock Silvia",
          "Sabnock Silvia",
          "Sabnock Silvia",
          "Sabnock Silvia",
          "Sabnock Silvia",
          "Sabnock Silvia",
          "Sabnock Silvia",
          "Sabnock Silvia",
          "Sabnock Silvia",
          "Sabnock Silvia",
          "Sabnock Silvia",
          "Sabnock Silvia",
          "Sabnock Silvia",
          "Sabnock Silvia",
          "Sabnock Silvia",
          "Sabnock Silvia",
          "Sabnock Silvia"
         ],
         "yaxis": "y"
        },
        {
         "hovertemplate": "Name=%{y}<br>Kapitel=%{x}<extra></extra>",
         "legendgroup": "Alikred",
         "marker": {
          "color": "#FF6692",
          "line": {
           "width": 1
          },
          "size": 5,
          "symbol": "square"
         },
         "mode": "markers",
         "name": "Alikred",
         "showlegend": true,
         "type": "scattergl",
         "x": {
          "bdata": "CAAsAC0AMAAzADUANgA+AD8ARQBIAFUAVgBfALcA4AAWATMBSQF0AX4BkQGSAZMBlAGVAZcB",
          "dtype": "i2"
         },
         "xaxis": "x",
         "y": [
          "Alikred",
          "Alikred",
          "Alikred",
          "Alikred",
          "Alikred",
          "Alikred",
          "Alikred",
          "Alikred",
          "Alikred",
          "Alikred",
          "Alikred",
          "Alikred",
          "Alikred",
          "Alikred",
          "Alikred",
          "Alikred",
          "Alikred",
          "Alikred",
          "Alikred",
          "Alikred",
          "Alikred",
          "Alikred",
          "Alikred",
          "Alikred",
          "Alikred",
          "Alikred",
          "Alikred"
         ],
         "yaxis": "y"
        },
        {
         "hovertemplate": "Name=%{y}<br>Kapitel=%{x}<extra></extra>",
         "legendgroup": "Stolas Suzy",
         "marker": {
          "color": "#B6E880",
          "line": {
           "width": 1
          },
          "size": 5,
          "symbol": "square"
         },
         "mode": "markers",
         "name": "Stolas Suzy",
         "showlegend": true,
         "type": "scattergl",
         "x": {
          "bdata": "CQAKABQAGgAeACUALABmAGcAaABqAJEA4QDiAOMA5ADoAOsADAEOARsBPAE9AT4BVAFeAV8BYAFkAXoBewE=",
          "dtype": "i2"
         },
         "xaxis": "x",
         "y": [
          "Stolas Suzy",
          "Stolas Suzy",
          "Stolas Suzy",
          "Stolas Suzy",
          "Stolas Suzy",
          "Stolas Suzy",
          "Stolas Suzy",
          "Stolas Suzy",
          "Stolas Suzy",
          "Stolas Suzy",
          "Stolas Suzy",
          "Stolas Suzy",
          "Stolas Suzy",
          "Stolas Suzy",
          "Stolas Suzy",
          "Stolas Suzy",
          "Stolas Suzy",
          "Stolas Suzy",
          "Stolas Suzy",
          "Stolas Suzy",
          "Stolas Suzy",
          "Stolas Suzy",
          "Stolas Suzy",
          "Stolas Suzy",
          "Stolas Suzy",
          "Stolas Suzy",
          "Stolas Suzy",
          "Stolas Suzy",
          "Stolas Suzy",
          "Stolas Suzy",
          "Stolas Suzy"
         ],
         "yaxis": "y"
        },
        {
         "hovertemplate": "Name=%{y}<br>Kapitel=%{x}<extra></extra>",
         "legendgroup": "Gusion Sunny Grave",
         "marker": {
          "color": "#FF97FF",
          "line": {
           "width": 1
          },
          "size": 5,
          "symbol": "square"
         },
         "mode": "markers",
         "name": "Gusion Sunny Grave",
         "showlegend": true,
         "type": "scattergl",
         "x": {
          "bdata": "CQAMABUALgAvADAAMQAyADMANAA1ABUBHQFGAVkB",
          "dtype": "i2"
         },
         "xaxis": "x",
         "y": [
          "Gusion Sunny Grave",
          "Gusion Sunny Grave",
          "Gusion Sunny Grave",
          "Gusion Sunny Grave",
          "Gusion Sunny Grave",
          "Gusion Sunny Grave",
          "Gusion Sunny Grave",
          "Gusion Sunny Grave",
          "Gusion Sunny Grave",
          "Gusion Sunny Grave",
          "Gusion Sunny Grave",
          "Gusion Sunny Grave",
          "Gusion Sunny Grave",
          "Gusion Sunny Grave",
          "Gusion Sunny Grave"
         ],
         "yaxis": "y"
        },
        {
         "hovertemplate": "Name=%{y}<br>Kapitel=%{x}<extra></extra>",
         "legendgroup": "Astaroth Smoke",
         "marker": {
          "color": "#FECB52",
          "line": {
           "width": 1
          },
          "size": 5,
          "symbol": "square"
         },
         "mode": "markers",
         "name": "Astaroth Smoke",
         "showlegend": true,
         "type": "scattergl",
         "x": {
          "bdata": "CQAwADEAMwA0ADUAsgDWAOEA7AAdAUYBWQE=",
          "dtype": "i2"
         },
         "xaxis": "x",
         "y": [
          "Astaroth Smoke",
          "Astaroth Smoke",
          "Astaroth Smoke",
          "Astaroth Smoke",
          "Astaroth Smoke",
          "Astaroth Smoke",
          "Astaroth Smoke",
          "Astaroth Smoke",
          "Astaroth Smoke",
          "Astaroth Smoke",
          "Astaroth Smoke",
          "Astaroth Smoke",
          "Astaroth Smoke"
         ],
         "yaxis": "y"
        },
        {
         "hovertemplate": "Name=%{y}<br>Kapitel=%{x}<extra></extra>",
         "legendgroup": "Azazel Ameri",
         "marker": {
          "color": "#636efa",
          "line": {
           "width": 1
          },
          "size": 5,
          "symbol": "square"
         },
         "mode": "markers",
         "name": "Azazel Ameri",
         "showlegend": true,
         "type": "scattergl",
         "x": {
          "bdata": "CQAKAAsADAANABAAEQATABUAGQAfACIAIwAkACUAJgAsAC0ALgAvADAAMQAyADQANQA2ADgAPgBBAEMARQBGAEcASQBKAEsAUABRAFQAVQBWAFcAWABaAFsAXgBmAGgAjwCtALEAsgCzALQAtgC3ANcA2ADfAOEA4gDlAOgA7AAPARMBFQEaAR0BIQEiASMBJAElASUBJgEoASkBKgErAS4BMgEzATUBPAE+AUQBRgFHAUkBWQFeAV8BZAFnAWgBdAF1AXcBfAF+AY0BjgGPAZABkQGSAZMBlQGWAZcBmAGZAZoBmgGbAZwBnQE=",
          "dtype": "i2"
         },
         "xaxis": "x",
         "y": [
          "Azazel Ameri",
          "Azazel Ameri",
          "Azazel Ameri",
          "Azazel Ameri",
          "Azazel Ameri",
          "Azazel Ameri",
          "Azazel Ameri",
          "Azazel Ameri",
          "Azazel Ameri",
          "Azazel Ameri",
          "Azazel Ameri",
          "Azazel Ameri",
          "Azazel Ameri",
          "Azazel Ameri",
          "Azazel Ameri",
          "Azazel Ameri",
          "Azazel Ameri",
          "Azazel Ameri",
          "Azazel Ameri",
          "Azazel Ameri",
          "Azazel Ameri",
          "Azazel Ameri",
          "Azazel Ameri",
          "Azazel Ameri",
          "Azazel Ameri",
          "Azazel Ameri",
          "Azazel Ameri",
          "Azazel Ameri",
          "Azazel Ameri",
          "Azazel Ameri",
          "Azazel Ameri",
          "Azazel Ameri",
          "Azazel Ameri",
          "Azazel Ameri",
          "Azazel Ameri",
          "Azazel Ameri",
          "Azazel Ameri",
          "Azazel Ameri",
          "Azazel Ameri",
          "Azazel Ameri",
          "Azazel Ameri",
          "Azazel Ameri",
          "Azazel Ameri",
          "Azazel Ameri",
          "Azazel Ameri",
          "Azazel Ameri",
          "Azazel Ameri",
          "Azazel Ameri",
          "Azazel Ameri",
          "Azazel Ameri",
          "Azazel Ameri",
          "Azazel Ameri",
          "Azazel Ameri",
          "Azazel Ameri",
          "Azazel Ameri",
          "Azazel Ameri",
          "Azazel Ameri",
          "Azazel Ameri",
          "Azazel Ameri",
          "Azazel Ameri",
          "Azazel Ameri",
          "Azazel Ameri",
          "Azazel Ameri",
          "Azazel Ameri",
          "Azazel Ameri",
          "Azazel Ameri",
          "Azazel Ameri",
          "Azazel Ameri",
          "Azazel Ameri",
          "Azazel Ameri",
          "Azazel Ameri",
          "Azazel Ameri",
          "Azazel Ameri",
          "Azazel Ameri",
          "Azazel Ameri",
          "Azazel Ameri",
          "Azazel Ameri",
          "Azazel Ameri",
          "Azazel Ameri",
          "Azazel Ameri",
          "Azazel Ameri",
          "Azazel Ameri",
          "Azazel Ameri",
          "Azazel Ameri",
          "Azazel Ameri",
          "Azazel Ameri",
          "Azazel Ameri",
          "Azazel Ameri",
          "Azazel Ameri",
          "Azazel Ameri",
          "Azazel Ameri",
          "Azazel Ameri",
          "Azazel Ameri",
          "Azazel Ameri",
          "Azazel Ameri",
          "Azazel Ameri",
          "Azazel Ameri",
          "Azazel Ameri",
          "Azazel Ameri",
          "Azazel Ameri",
          "Azazel Ameri",
          "Azazel Ameri",
          "Azazel Ameri",
          "Azazel Ameri",
          "Azazel Ameri",
          "Azazel Ameri",
          "Azazel Ameri",
          "Azazel Ameri",
          "Azazel Ameri",
          "Azazel Ameri",
          "Azazel Ameri",
          "Azazel Ameri",
          "Azazel Ameri",
          "Azazel Ameri",
          "Azazel Ameri",
          "Azazel Ameri",
          "Azazel Ameri",
          "Azazel Ameri"
         ],
         "yaxis": "y"
        },
        {
         "hovertemplate": "Name=%{y}<br>Kapitel=%{x}<extra></extra>",
         "legendgroup": "Zagan Johnny Western",
         "marker": {
          "color": "#EF553B",
          "line": {
           "width": 1
          },
          "size": 5,
          "symbol": "square"
         },
         "mode": "markers",
         "name": "Zagan Johnny Western",
         "showlegend": true,
         "type": "scattergl",
         "x": {
          "bdata": "CgAQABMAHwAuAC8AMAAxADIAMwA0ADUAQQDWAOEA7AAVARoBHQFGAUgBWQE=",
          "dtype": "i2"
         },
         "xaxis": "x",
         "y": [
          "Zagan Johnny Western",
          "Zagan Johnny Western",
          "Zagan Johnny Western",
          "Zagan Johnny Western",
          "Zagan Johnny Western",
          "Zagan Johnny Western",
          "Zagan Johnny Western",
          "Zagan Johnny Western",
          "Zagan Johnny Western",
          "Zagan Johnny Western",
          "Zagan Johnny Western",
          "Zagan Johnny Western",
          "Zagan Johnny Western",
          "Zagan Johnny Western",
          "Zagan Johnny Western",
          "Zagan Johnny Western",
          "Zagan Johnny Western",
          "Zagan Johnny Western",
          "Zagan Johnny Western",
          "Zagan Johnny Western",
          "Zagan Johnny Western",
          "Zagan Johnny Western"
         ],
         "yaxis": "y"
        },
        {
         "hovertemplate": "Name=%{y}<br>Kapitel=%{x}<extra></extra>",
         "legendgroup": "Kimaris Quichelight",
         "marker": {
          "color": "#00cc96",
          "line": {
           "width": 1
          },
          "size": 5,
          "symbol": "square"
         },
         "mode": "markers",
         "name": "Kimaris Quichelight",
         "showlegend": true,
         "type": "scattergl",
         "x": {
          "bdata": "CgAMABAAEwAVAB8AJQAuAC8AMAAxADIAMwA0ADUAQQDsABUBHQFGAUgBWQE=",
          "dtype": "i2"
         },
         "xaxis": "x",
         "y": [
          "Kimaris Quichelight",
          "Kimaris Quichelight",
          "Kimaris Quichelight",
          "Kimaris Quichelight",
          "Kimaris Quichelight",
          "Kimaris Quichelight",
          "Kimaris Quichelight",
          "Kimaris Quichelight",
          "Kimaris Quichelight",
          "Kimaris Quichelight",
          "Kimaris Quichelight",
          "Kimaris Quichelight",
          "Kimaris Quichelight",
          "Kimaris Quichelight",
          "Kimaris Quichelight",
          "Kimaris Quichelight",
          "Kimaris Quichelight",
          "Kimaris Quichelight",
          "Kimaris Quichelight",
          "Kimaris Quichelight",
          "Kimaris Quichelight",
          "Kimaris Quichelight"
         ],
         "yaxis": "y"
        },
        {
         "hovertemplate": "Name=%{y}<br>Kapitel=%{x}<extra></extra>",
         "legendgroup": "Azazel Henri",
         "marker": {
          "color": "#ab63fa",
          "line": {
           "width": 1
          },
          "size": 5,
          "symbol": "square"
         },
         "mode": "markers",
         "name": "Azazel Henri",
         "showlegend": true,
         "type": "scattergl",
         "x": {
          "bdata": "CwAXABgAGQAdACMAJQAmACwALgBRAFcAjwCzAM8ADwEYAR0BIQEjASYBKwEtATEBMwE1ATYBOQE6ATwBRgFHAV8BYgFtAW8BcAFxAXUBjgGUAZYBnQE=",
          "dtype": "i2"
         },
         "xaxis": "x",
         "y": [
          "Azazel Henri",
          "Azazel Henri",
          "Azazel Henri",
          "Azazel Henri",
          "Azazel Henri",
          "Azazel Henri",
          "Azazel Henri",
          "Azazel Henri",
          "Azazel Henri",
          "Azazel Henri",
          "Azazel Henri",
          "Azazel Henri",
          "Azazel Henri",
          "Azazel Henri",
          "Azazel Henri",
          "Azazel Henri",
          "Azazel Henri",
          "Azazel Henri",
          "Azazel Henri",
          "Azazel Henri",
          "Azazel Henri",
          "Azazel Henri",
          "Azazel Henri",
          "Azazel Henri",
          "Azazel Henri",
          "Azazel Henri",
          "Azazel Henri",
          "Azazel Henri",
          "Azazel Henri",
          "Azazel Henri",
          "Azazel Henri",
          "Azazel Henri",
          "Azazel Henri",
          "Azazel Henri",
          "Azazel Henri",
          "Azazel Henri",
          "Azazel Henri",
          "Azazel Henri",
          "Azazel Henri",
          "Azazel Henri",
          "Azazel Henri",
          "Azazel Henri",
          "Azazel Henri"
         ],
         "yaxis": "y"
        },
        {
         "hovertemplate": "Name=%{y}<br>Kapitel=%{x}<extra></extra>",
         "legendgroup": "Raim",
         "marker": {
          "color": "#FFA15A",
          "line": {
           "width": 1
          },
          "size": 5,
          "symbol": "square"
         },
         "mode": "markers",
         "name": "Raim",
         "showlegend": true,
         "type": "scattergl",
         "x": {
          "bdata": "EQATAB4AJABDAF8AYABiAGUAZgBkAYEB",
          "dtype": "i2"
         },
         "xaxis": "x",
         "y": [
          "Raim",
          "Raim",
          "Raim",
          "Raim",
          "Raim",
          "Raim",
          "Raim",
          "Raim",
          "Raim",
          "Raim",
          "Raim",
          "Raim"
         ],
         "yaxis": "y"
        },
        {
         "hovertemplate": "Name=%{y}<br>Kapitel=%{x}<extra></extra>",
         "legendgroup": "Haruno",
         "marker": {
          "color": "#19d3f3",
          "line": {
           "width": 1
          },
          "size": 5,
          "symbol": "square"
         },
         "mode": "markers",
         "name": "Haruno",
         "showlegend": true,
         "type": "scattergl",
         "x": {
          "bdata": "EgAVACYAWgCyABEBFQE=",
          "dtype": "i2"
         },
         "xaxis": "x",
         "y": [
          "Haruno",
          "Haruno",
          "Haruno",
          "Haruno",
          "Haruno",
          "Haruno",
          "Haruno"
         ],
         "yaxis": "y"
        },
        {
         "hovertemplate": "Name=%{y}<br>Kapitel=%{x}<extra></extra>",
         "legendgroup": "Konatsu",
         "marker": {
          "color": "#FF6692",
          "line": {
           "width": 1
          },
          "size": 5,
          "symbol": "square"
         },
         "mode": "markers",
         "name": "Konatsu",
         "showlegend": true,
         "type": "scattergl",
         "x": {
          "bdata": "EgAVAFoAsgARARUB",
          "dtype": "i2"
         },
         "xaxis": "x",
         "y": [
          "Konatsu",
          "Konatsu",
          "Konatsu",
          "Konatsu",
          "Konatsu",
          "Konatsu"
         ],
         "yaxis": "y"
        },
        {
         "hovertemplate": "Name=%{y}<br>Kapitel=%{x}<extra></extra>",
         "legendgroup": "Azuki",
         "marker": {
          "color": "#B6E880",
          "line": {
           "width": 1
          },
          "size": 5,
          "symbol": "square"
         },
         "mode": "markers",
         "name": "Azuki",
         "showlegend": true,
         "type": "scattergl",
         "x": {
          "bdata": "EgBaALIAEQEVAQ==",
          "dtype": "i2"
         },
         "xaxis": "x",
         "y": [
          "Azuki",
          "Azuki",
          "Azuki",
          "Azuki",
          "Azuki"
         ],
         "yaxis": "y"
        },
        {
         "hovertemplate": "Name=%{y}<br>Kapitel=%{x}<extra></extra>",
         "legendgroup": "Dosanko",
         "marker": {
          "color": "#FF97FF",
          "line": {
           "width": 1
          },
          "size": 5,
          "symbol": "square"
         },
         "mode": "markers",
         "name": "Dosanko",
         "showlegend": true,
         "type": "scattergl",
         "x": {
          "bdata": "EgAmAFoAsgARARUB",
          "dtype": "i2"
         },
         "xaxis": "x",
         "y": [
          "Dosanko",
          "Dosanko",
          "Dosanko",
          "Dosanko",
          "Dosanko",
          "Dosanko"
         ],
         "yaxis": "y"
        },
        {
         "hovertemplate": "Name=%{y}<br>Kapitel=%{x}<extra></extra>",
         "legendgroup": "Amy Kirio",
         "marker": {
          "color": "#FECB52",
          "line": {
           "width": 1
          },
          "size": 5,
          "symbol": "square"
         },
         "mode": "markers",
         "name": "Amy Kirio",
         "showlegend": true,
         "type": "scattergl",
         "x": {
          "bdata": "EwAUABUAGAAZABoAGwAcAB0AHgAfACAAIQAiACMAJAAlACcALQA1AD4ARgBJAE4AUABTAFYAVwCOAK0ArgCxAN0ACwEZARwBHQEhAS4BLwEwATMBMwE0AUUBZAFuAQ==",
          "dtype": "i2"
         },
         "xaxis": "x",
         "y": [
          "Amy Kirio",
          "Amy Kirio",
          "Amy Kirio",
          "Amy Kirio",
          "Amy Kirio",
          "Amy Kirio",
          "Amy Kirio",
          "Amy Kirio",
          "Amy Kirio",
          "Amy Kirio",
          "Amy Kirio",
          "Amy Kirio",
          "Amy Kirio",
          "Amy Kirio",
          "Amy Kirio",
          "Amy Kirio",
          "Amy Kirio",
          "Amy Kirio",
          "Amy Kirio",
          "Amy Kirio",
          "Amy Kirio",
          "Amy Kirio",
          "Amy Kirio",
          "Amy Kirio",
          "Amy Kirio",
          "Amy Kirio",
          "Amy Kirio",
          "Amy Kirio",
          "Amy Kirio",
          "Amy Kirio",
          "Amy Kirio",
          "Amy Kirio",
          "Amy Kirio",
          "Amy Kirio",
          "Amy Kirio",
          "Amy Kirio",
          "Amy Kirio",
          "Amy Kirio",
          "Amy Kirio",
          "Amy Kirio",
          "Amy Kirio",
          "Amy Kirio",
          "Amy Kirio",
          "Amy Kirio",
          "Amy Kirio",
          "Amy Kirio",
          "Amy Kirio"
         ],
         "yaxis": "y"
        },
        {
         "hovertemplate": "Name=%{y}<br>Kapitel=%{x}<extra></extra>",
         "legendgroup": "Bars Robin",
         "marker": {
          "color": "#636efa",
          "line": {
           "width": 1
          },
          "size": 5,
          "symbol": "square"
         },
         "mode": "markers",
         "name": "Bars Robin",
         "showlegend": true,
         "type": "scattergl",
         "x": {
          "bdata": "FgAbAB0AHgAjADcAPwBBAF8AYABiAGUAjgCRAK4A1wDZANwA3QDfAOEA4gDmAOgA6wALAQ4BFQEeATUBNgE3ATgBOQFUAVkBZwFuAXYBegF7AQ==",
          "dtype": "i2"
         },
         "xaxis": "x",
         "y": [
          "Bars Robin",
          "Bars Robin",
          "Bars Robin",
          "Bars Robin",
          "Bars Robin",
          "Bars Robin",
          "Bars Robin",
          "Bars Robin",
          "Bars Robin",
          "Bars Robin",
          "Bars Robin",
          "Bars Robin",
          "Bars Robin",
          "Bars Robin",
          "Bars Robin",
          "Bars Robin",
          "Bars Robin",
          "Bars Robin",
          "Bars Robin",
          "Bars Robin",
          "Bars Robin",
          "Bars Robin",
          "Bars Robin",
          "Bars Robin",
          "Bars Robin",
          "Bars Robin",
          "Bars Robin",
          "Bars Robin",
          "Bars Robin",
          "Bars Robin",
          "Bars Robin",
          "Bars Robin",
          "Bars Robin",
          "Bars Robin",
          "Bars Robin",
          "Bars Robin",
          "Bars Robin",
          "Bars Robin",
          "Bars Robin",
          "Bars Robin",
          "Bars Robin"
         ],
         "yaxis": "y"
        },
        {
         "hovertemplate": "Name=%{y}<br>Kapitel=%{x}<extra></extra>",
         "legendgroup": "Marbas March",
         "marker": {
          "color": "#EF553B",
          "line": {
           "width": 1
          },
          "size": 5,
          "symbol": "square"
         },
         "mode": "markers",
         "name": "Marbas March",
         "showlegend": true,
         "type": "scattergl",
         "x": {
          "bdata": "FgAfACMAJQA3AD8ARABlAGkAkQDXANwA3QDiAOUA5gDoAOkA6gAOARUBGAEcAUkBTgFdAXYBegF7AQ==",
          "dtype": "i2"
         },
         "xaxis": "x",
         "y": [
          "Marbas March",
          "Marbas March",
          "Marbas March",
          "Marbas March",
          "Marbas March",
          "Marbas March",
          "Marbas March",
          "Marbas March",
          "Marbas March",
          "Marbas March",
          "Marbas March",
          "Marbas March",
          "Marbas March",
          "Marbas March",
          "Marbas March",
          "Marbas March",
          "Marbas March",
          "Marbas March",
          "Marbas March",
          "Marbas March",
          "Marbas March",
          "Marbas March",
          "Marbas March",
          "Marbas March",
          "Marbas March",
          "Marbas March",
          "Marbas March",
          "Marbas March",
          "Marbas March"
         ],
         "yaxis": "y"
        },
        {
         "hovertemplate": "Name=%{y}<br>Kapitel=%{x}<extra></extra>",
         "legendgroup": "Paimon",
         "marker": {
          "color": "#00cc96",
          "line": {
           "width": 1
          },
          "size": 5,
          "symbol": "square"
         },
         "mode": "markers",
         "name": "Paimon",
         "showlegend": true,
         "type": "scattergl",
         "x": {
          "bdata": "FwDPACEBKgErAS0BMQE2ATkBOgFfAWIB",
          "dtype": "i2"
         },
         "xaxis": "x",
         "y": [
          "Paimon",
          "Paimon",
          "Paimon",
          "Paimon",
          "Paimon",
          "Paimon",
          "Paimon",
          "Paimon",
          "Paimon",
          "Paimon",
          "Paimon",
          "Paimon"
         ],
         "yaxis": "y"
        },
        {
         "hovertemplate": "Name=%{y}<br>Kapitel=%{x}<extra></extra>",
         "legendgroup": "Behemolt",
         "marker": {
          "color": "#ab63fa",
          "line": {
           "width": 1
          },
          "size": 5,
          "symbol": "square"
         },
         "mode": "markers",
         "name": "Behemolt",
         "showlegend": true,
         "type": "scattergl",
         "x": {
          "bdata": "FwALARgBLAEtAS4BMQEyATMBNAE1ATYBbgE=",
          "dtype": "i2"
         },
         "xaxis": "x",
         "y": [
          "Behemolt",
          "Behemolt",
          "Behemolt",
          "Behemolt",
          "Behemolt",
          "Behemolt",
          "Behemolt",
          "Behemolt",
          "Behemolt",
          "Behemolt",
          "Behemolt",
          "Behemolt",
          "Behemolt"
         ],
         "yaxis": "y"
        },
        {
         "hovertemplate": "Name=%{y}<br>Kapitel=%{x}<extra></extra>",
         "legendgroup": "Belzebuth",
         "marker": {
          "color": "#FFA15A",
          "line": {
           "width": 1
          },
          "size": 5,
          "symbol": "square"
         },
         "mode": "markers",
         "name": "Belzebuth",
         "showlegend": true,
         "type": "scattergl",
         "x": {
          "bdata": "FwDPACEBKgEyATYBOQE6AUMBagE=",
          "dtype": "i2"
         },
         "xaxis": "x",
         "y": [
          "Belzebuth",
          "Belzebuth",
          "Belzebuth",
          "Belzebuth",
          "Belzebuth",
          "Belzebuth",
          "Belzebuth",
          "Belzebuth",
          "Belzebuth",
          "Belzebuth"
         ],
         "yaxis": "y"
        },
        {
         "hovertemplate": "Name=%{y}<br>Kapitel=%{x}<extra></extra>",
         "legendgroup": "Astaroh",
         "marker": {
          "color": "#19d3f3",
          "line": {
           "width": 1
          },
          "size": 5,
          "symbol": "square"
         },
         "mode": "markers",
         "name": "Astaroh",
         "showlegend": true,
         "type": "scattergl",
         "x": {
          "bdata": "FwDPACEBKgErASwBLQEuATEBMgEzATYBOQE6AV8BYgE=",
          "dtype": "i2"
         },
         "xaxis": "x",
         "y": [
          "Astaroh",
          "Astaroh",
          "Astaroh",
          "Astaroh",
          "Astaroh",
          "Astaroh",
          "Astaroh",
          "Astaroh",
          "Astaroh",
          "Astaroh",
          "Astaroh",
          "Astaroh",
          "Astaroh",
          "Astaroh",
          "Astaroh",
          "Astaroh"
         ],
         "yaxis": "y"
        },
        {
         "hovertemplate": "Name=%{y}<br>Kapitel=%{x}<extra></extra>",
         "legendgroup": "Asmodeus Amuryllis",
         "marker": {
          "color": "#FF6692",
          "line": {
           "width": 1
          },
          "size": 5,
          "symbol": "square"
         },
         "mode": "markers",
         "name": "Asmodeus Amuryllis",
         "showlegend": true,
         "type": "scattergl",
         "x": {
          "bdata": "FwAYABwAJABEAFsAjQDPAPAAHwEgASEBIgEjASQBJQEmASgBKQEqASsBLAEyATMBNQE2ATkBOgFGAV0BXwFrAWwBbQFvAXMB",
          "dtype": "i2"
         },
         "xaxis": "x",
         "y": [
          "Asmodeus Amuryllis",
          "Asmodeus Amuryllis",
          "Asmodeus Amuryllis",
          "Asmodeus Amuryllis",
          "Asmodeus Amuryllis",
          "Asmodeus Amuryllis",
          "Asmodeus Amuryllis",
          "Asmodeus Amuryllis",
          "Asmodeus Amuryllis",
          "Asmodeus Amuryllis",
          "Asmodeus Amuryllis",
          "Asmodeus Amuryllis",
          "Asmodeus Amuryllis",
          "Asmodeus Amuryllis",
          "Asmodeus Amuryllis",
          "Asmodeus Amuryllis",
          "Asmodeus Amuryllis",
          "Asmodeus Amuryllis",
          "Asmodeus Amuryllis",
          "Asmodeus Amuryllis",
          "Asmodeus Amuryllis",
          "Asmodeus Amuryllis",
          "Asmodeus Amuryllis",
          "Asmodeus Amuryllis",
          "Asmodeus Amuryllis",
          "Asmodeus Amuryllis",
          "Asmodeus Amuryllis",
          "Asmodeus Amuryllis",
          "Asmodeus Amuryllis",
          "Asmodeus Amuryllis",
          "Asmodeus Amuryllis",
          "Asmodeus Amuryllis",
          "Asmodeus Amuryllis",
          "Asmodeus Amuryllis",
          "Asmodeus Amuryllis",
          "Asmodeus Amuryllis"
         ],
         "yaxis": "y"
        },
        {
         "hovertemplate": "Name=%{y}<br>Kapitel=%{x}<extra></extra>",
         "legendgroup": "Glasya",
         "marker": {
          "color": "#B6E880",
          "line": {
           "width": 1
          },
          "size": 5,
          "symbol": "square"
         },
         "mode": "markers",
         "name": "Glasya",
         "showlegend": true,
         "type": "scattergl",
         "x": {
          "bdata": "Fw==",
          "dtype": "i1"
         },
         "xaxis": "x",
         "y": [
          "Glasya"
         ],
         "yaxis": "y"
        },
        {
         "hovertemplate": "Name=%{y}<br>Kapitel=%{x}<extra></extra>",
         "legendgroup": "Amaymon",
         "marker": {
          "color": "#FF97FF",
          "line": {
           "width": 1
          },
          "size": 5,
          "symbol": "square"
         },
         "mode": "markers",
         "name": "Amaymon",
         "showlegend": true,
         "type": "scattergl",
         "x": {
          "bdata": "FwDPACEBJgEoASoBKwEsAS0BLgExATMBNgE5AToBXwFiAQ==",
          "dtype": "i2"
         },
         "xaxis": "x",
         "y": [
          "Amaymon",
          "Amaymon",
          "Amaymon",
          "Amaymon",
          "Amaymon",
          "Amaymon",
          "Amaymon",
          "Amaymon",
          "Amaymon",
          "Amaymon",
          "Amaymon",
          "Amaymon",
          "Amaymon",
          "Amaymon",
          "Amaymon",
          "Amaymon",
          "Amaymon"
         ],
         "yaxis": "y"
        },
        {
         "hovertemplate": "Name=%{y}<br>Kapitel=%{x}<extra></extra>",
         "legendgroup": "Belial",
         "marker": {
          "color": "#FECB52",
          "line": {
           "width": 1
          },
          "size": 5,
          "symbol": "square"
         },
         "mode": "markers",
         "name": "Belial",
         "showlegend": true,
         "type": "scattergl",
         "x": {
          "bdata": "FwDPAB4BIQEjASQBJQEmASsBLAEtAS4BLwEyATMBNgE5AToB",
          "dtype": "i2"
         },
         "xaxis": "x",
         "y": [
          "Belial",
          "Belial",
          "Belial",
          "Belial",
          "Belial",
          "Belial",
          "Belial",
          "Belial",
          "Belial",
          "Belial",
          "Belial",
          "Belial",
          "Belial",
          "Belial",
          "Belial",
          "Belial",
          "Belial",
          "Belial"
         ],
         "yaxis": "y"
        },
        {
         "hovertemplate": "Name=%{y}<br>Kapitel=%{x}<extra></extra>",
         "legendgroup": "Levi",
         "marker": {
          "color": "#636efa",
          "line": {
           "width": 1
          },
          "size": 5,
          "symbol": "square"
         },
         "mode": "markers",
         "name": "Levi",
         "showlegend": true,
         "type": "scattergl",
         "x": {
          "bdata": "FwDPAB4BIQEjASQBJQEmASsBLAEtAS4BLwEyATMBNgE5AToBhAGFAYYBhwGIAQ==",
          "dtype": "i2"
         },
         "xaxis": "x",
         "y": [
          "Levi",
          "Levi",
          "Levi",
          "Levi",
          "Levi",
          "Levi",
          "Levi",
          "Levi",
          "Levi",
          "Levi",
          "Levi",
          "Levi",
          "Levi",
          "Levi",
          "Levi",
          "Levi",
          "Levi",
          "Levi",
          "Levi",
          "Levi",
          "Levi",
          "Levi",
          "Levi"
         ],
         "yaxis": "y"
        },
        {
         "hovertemplate": "Name=%{y}<br>Kapitel=%{x}<extra></extra>",
         "legendgroup": "Baal",
         "marker": {
          "color": "#EF553B",
          "line": {
           "width": 1
          },
          "size": 5,
          "symbol": "square"
         },
         "mode": "markers",
         "name": "Baal",
         "showlegend": true,
         "type": "scattergl",
         "x": {
          "bdata": "FwAYABkAGgAdACEAJgBWAFcAjgCuAM4AzwDdAN4ACwEhASIBJwEqASsBLAEuAS8BMQEyATUBNgE6ATwBRQE=",
          "dtype": "i2"
         },
         "xaxis": "x",
         "y": [
          "Baal",
          "Baal",
          "Baal",
          "Baal",
          "Baal",
          "Baal",
          "Baal",
          "Baal",
          "Baal",
          "Baal",
          "Baal",
          "Baal",
          "Baal",
          "Baal",
          "Baal",
          "Baal",
          "Baal",
          "Baal",
          "Baal",
          "Baal",
          "Baal",
          "Baal",
          "Baal",
          "Baal",
          "Baal",
          "Baal",
          "Baal",
          "Baal",
          "Baal",
          "Baal",
          "Baal"
         ],
         "yaxis": "y"
        },
        {
         "hovertemplate": "Name=%{y}<br>Kapitel=%{x}<extra></extra>",
         "legendgroup": "Mrs. Valac",
         "marker": {
          "color": "#00cc96",
          "line": {
           "width": 1
          },
          "size": 5,
          "symbol": "square"
         },
         "mode": "markers",
         "name": "Mrs. Valac",
         "showlegend": true,
         "type": "scattergl",
         "x": {
          "bdata": "GAAcACQAJwBEAFkAXAFdAWQBcwF8AX8BiQE=",
          "dtype": "i2"
         },
         "xaxis": "x",
         "y": [
          "Mrs. Valac",
          "Mrs. Valac",
          "Mrs. Valac",
          "Mrs. Valac",
          "Mrs. Valac",
          "Mrs. Valac",
          "Mrs. Valac",
          "Mrs. Valac",
          "Mrs. Valac",
          "Mrs. Valac",
          "Mrs. Valac",
          "Mrs. Valac",
          "Mrs. Valac"
         ],
         "yaxis": "y"
        },
        {
         "hovertemplate": "Name=%{y}<br>Kapitel=%{x}<extra></extra>",
         "legendgroup": "Valac Urara",
         "marker": {
          "color": "#ab63fa",
          "line": {
           "width": 1
          },
          "size": 5,
          "symbol": "square"
         },
         "mode": "markers",
         "name": "Valac Urara",
         "showlegend": true,
         "type": "scattergl",
         "x": {
          "bdata": "GAAkAEQAWQBkAX8BhQGGAYcBiAE=",
          "dtype": "i2"
         },
         "xaxis": "x",
         "y": [
          "Valac Urara",
          "Valac Urara",
          "Valac Urara",
          "Valac Urara",
          "Valac Urara",
          "Valac Urara",
          "Valac Urara",
          "Valac Urara",
          "Valac Urara",
          "Valac Urara"
         ],
         "yaxis": "y"
        },
        {
         "hovertemplate": "Name=%{y}<br>Kapitel=%{x}<extra></extra>",
         "legendgroup": "Valac Keebow",
         "marker": {
          "color": "#FFA15A",
          "line": {
           "width": 1
          },
          "size": 5,
          "symbol": "square"
         },
         "mode": "markers",
         "name": "Valac Keebow",
         "showlegend": true,
         "type": "scattergl",
         "x": {
          "bdata": "GAAkACcARABZAFwBXQFkAXMBfAF/AYkB",
          "dtype": "i2"
         },
         "xaxis": "x",
         "y": [
          "Valac Keebow",
          "Valac Keebow",
          "Valac Keebow",
          "Valac Keebow",
          "Valac Keebow",
          "Valac Keebow",
          "Valac Keebow",
          "Valac Keebow",
          "Valac Keebow",
          "Valac Keebow",
          "Valac Keebow",
          "Valac Keebow"
         ],
         "yaxis": "y"
        },
        {
         "hovertemplate": "Name=%{y}<br>Kapitel=%{x}<extra></extra>",
         "legendgroup": "Valac Konchie",
         "marker": {
          "color": "#19d3f3",
          "line": {
           "width": 1
          },
          "size": 5,
          "symbol": "square"
         },
         "mode": "markers",
         "name": "Valac Konchie",
         "showlegend": true,
         "type": "scattergl",
         "x": {
          "bdata": "GAAkAEQAWQBcAV0BZAFzAXwBfwGJAQ==",
          "dtype": "i2"
         },
         "xaxis": "x",
         "y": [
          "Valac Konchie",
          "Valac Konchie",
          "Valac Konchie",
          "Valac Konchie",
          "Valac Konchie",
          "Valac Konchie",
          "Valac Konchie",
          "Valac Konchie",
          "Valac Konchie",
          "Valac Konchie",
          "Valac Konchie"
         ],
         "yaxis": "y"
        },
        {
         "hovertemplate": "Name=%{y}<br>Kapitel=%{x}<extra></extra>",
         "legendgroup": "Valac Sin Sin",
         "marker": {
          "color": "#FF6692",
          "line": {
           "width": 1
          },
          "size": 5,
          "symbol": "square"
         },
         "mode": "markers",
         "name": "Valac Sin Sin",
         "showlegend": true,
         "type": "scattergl",
         "x": {
          "bdata": "GAAcACQAJwBZALcAMAFdAWQBcwF/AYMB",
          "dtype": "i2"
         },
         "xaxis": "x",
         "y": [
          "Valac Sin Sin",
          "Valac Sin Sin",
          "Valac Sin Sin",
          "Valac Sin Sin",
          "Valac Sin Sin",
          "Valac Sin Sin",
          "Valac Sin Sin",
          "Valac Sin Sin",
          "Valac Sin Sin",
          "Valac Sin Sin",
          "Valac Sin Sin",
          "Valac Sin Sin"
         ],
         "yaxis": "y"
        },
        {
         "hovertemplate": "Name=%{y}<br>Kapitel=%{x}<extra></extra>",
         "legendgroup": "Valac Ran Ran",
         "marker": {
          "color": "#B6E880",
          "line": {
           "width": 1
          },
          "size": 5,
          "symbol": "square"
         },
         "mode": "markers",
         "name": "Valac Ran Ran",
         "showlegend": true,
         "type": "scattergl",
         "x": {
          "bdata": "GAAcACQAJwBZADABXQFkAXMBfwGDAQ==",
          "dtype": "i2"
         },
         "xaxis": "x",
         "y": [
          "Valac Ran Ran",
          "Valac Ran Ran",
          "Valac Ran Ran",
          "Valac Ran Ran",
          "Valac Ran Ran",
          "Valac Ran Ran",
          "Valac Ran Ran",
          "Valac Ran Ran",
          "Valac Ran Ran",
          "Valac Ran Ran",
          "Valac Ran Ran"
         ],
         "yaxis": "y"
        },
        {
         "hovertemplate": "Name=%{y}<br>Kapitel=%{x}<extra></extra>",
         "legendgroup": "Kirio's Mother",
         "marker": {
          "color": "#FF97FF",
          "line": {
           "width": 1
          },
          "size": 5,
          "symbol": "square"
         },
         "mode": "markers",
         "name": "Kirio's Mother",
         "showlegend": true,
         "type": "scattergl",
         "x": {
          "bdata": "GCA=",
          "dtype": "i1"
         },
         "xaxis": "x",
         "y": [
          "Kirio's Mother",
          "Kirio's Mother"
         ],
         "yaxis": "y"
        },
        {
         "hovertemplate": "Name=%{y}<br>Kapitel=%{x}<extra></extra>",
         "legendgroup": "David",
         "marker": {
          "color": "#FECB52",
          "line": {
           "width": 1
          },
          "size": 5,
          "symbol": "square"
         },
         "mode": "markers",
         "name": "David",
         "showlegend": true,
         "type": "scattergl",
         "x": {
          "bdata": "HAAkACcARACNALcAIAEzATQBXAFdAWsBcwE=",
          "dtype": "i2"
         },
         "xaxis": "x",
         "y": [
          "David",
          "David",
          "David",
          "David",
          "David",
          "David",
          "David",
          "David",
          "David",
          "David",
          "David",
          "David",
          "David"
         ],
         "yaxis": "y"
        },
        {
         "hovertemplate": "Name=%{y}<br>Kapitel=%{x}<extra></extra>",
         "legendgroup": "Garu",
         "marker": {
          "color": "#636efa",
          "line": {
           "width": 1
          },
          "size": 5,
          "symbol": "square"
         },
         "mode": "markers",
         "name": "Garu",
         "showlegend": true,
         "type": "scattergl",
         "x": {
          "bdata": "HgAlAC4AMgAbAU4BVAFeAQ==",
          "dtype": "i2"
         },
         "xaxis": "x",
         "y": [
          "Garu",
          "Garu",
          "Garu",
          "Garu",
          "Garu",
          "Garu",
          "Garu",
          "Garu"
         ],
         "yaxis": "y"
        },
        {
         "hovertemplate": "Name=%{y}<br>Kapitel=%{x}<extra></extra>",
         "legendgroup": "Bathin Baraki",
         "marker": {
          "color": "#EF553B",
          "line": {
           "width": 1
          },
          "size": 5,
          "symbol": "square"
         },
         "mode": "markers",
         "name": "Bathin Baraki",
         "showlegend": true,
         "type": "scattergl",
         "x": {
          "bdata": "HgAiACMAJAAlACkAMAA0AOEA4gDoAOwADQFIAVoBXgE=",
          "dtype": "i2"
         },
         "xaxis": "x",
         "y": [
          "Bathin Baraki",
          "Bathin Baraki",
          "Bathin Baraki",
          "Bathin Baraki",
          "Bathin Baraki",
          "Bathin Baraki",
          "Bathin Baraki",
          "Bathin Baraki",
          "Bathin Baraki",
          "Bathin Baraki",
          "Bathin Baraki",
          "Bathin Baraki",
          "Bathin Baraki",
          "Bathin Baraki",
          "Bathin Baraki",
          "Bathin Baraki"
         ],
         "yaxis": "y"
        },
        {
         "hovertemplate": "Name=%{y}<br>Kapitel=%{x}<extra></extra>",
         "legendgroup": "Ipos Ichou",
         "marker": {
          "color": "#00cc96",
          "line": {
           "width": 1
          },
          "size": 5,
          "symbol": "square"
         },
         "mode": "markers",
         "name": "Ipos Ichou",
         "showlegend": true,
         "type": "scattergl",
         "x": {
          "bdata": "HgCRAOIA6ADpAOoA6wALAQ4BDwEVATwBPgFZAXoBewE=",
          "dtype": "i2"
         },
         "xaxis": "x",
         "y": [
          "Ipos Ichou",
          "Ipos Ichou",
          "Ipos Ichou",
          "Ipos Ichou",
          "Ipos Ichou",
          "Ipos Ichou",
          "Ipos Ichou",
          "Ipos Ichou",
          "Ipos Ichou",
          "Ipos Ichou",
          "Ipos Ichou",
          "Ipos Ichou",
          "Ipos Ichou",
          "Ipos Ichou",
          "Ipos Ichou",
          "Ipos Ichou"
         ],
         "yaxis": "y"
        },
        {
         "hovertemplate": "Name=%{y}<br>Kapitel=%{x}<extra></extra>",
         "legendgroup": "Murmur Tsumuru",
         "marker": {
          "color": "#ab63fa",
          "line": {
           "width": 1
          },
          "size": 5,
          "symbol": "square"
         },
         "mode": "markers",
         "name": "Murmur Tsumuru",
         "showlegend": true,
         "type": "scattergl",
         "x": {
          "bdata": "HgCRANwA3wDiAOMA5gDoAOkA6gDrAAsBDgEQAREBUgFUAVYBWAFeAXoBewE=",
          "dtype": "i2"
         },
         "xaxis": "x",
         "y": [
          "Murmur Tsumuru",
          "Murmur Tsumuru",
          "Murmur Tsumuru",
          "Murmur Tsumuru",
          "Murmur Tsumuru",
          "Murmur Tsumuru",
          "Murmur Tsumuru",
          "Murmur Tsumuru",
          "Murmur Tsumuru",
          "Murmur Tsumuru",
          "Murmur Tsumuru",
          "Murmur Tsumuru",
          "Murmur Tsumuru",
          "Murmur Tsumuru",
          "Murmur Tsumuru",
          "Murmur Tsumuru",
          "Murmur Tsumuru",
          "Murmur Tsumuru",
          "Murmur Tsumuru",
          "Murmur Tsumuru",
          "Murmur Tsumuru",
          "Murmur Tsumuru"
         ],
         "yaxis": "y"
        },
        {
         "hovertemplate": "Name=%{y}<br>Kapitel=%{x}<extra></extra>",
         "legendgroup": "Eiko",
         "marker": {
          "color": "#FFA15A",
          "line": {
           "width": 1
          },
          "size": 5,
          "symbol": "square"
         },
         "mode": "markers",
         "name": "Eiko",
         "showlegend": true,
         "type": "scattergl",
         "x": {
          "bdata": "Hh8=",
          "dtype": "i1"
         },
         "xaxis": "x",
         "y": [
          "Eiko",
          "Eiko"
         ],
         "yaxis": "y"
        },
        {
         "hovertemplate": "Name=%{y}<br>Kapitel=%{x}<extra></extra>",
         "legendgroup": "Gaako",
         "marker": {
          "color": "#19d3f3",
          "line": {
           "width": 1
          },
          "size": 5,
          "symbol": "square"
         },
         "mode": "markers",
         "name": "Gaako",
         "showlegend": true,
         "type": "scattergl",
         "x": {
          "bdata": "Hg==",
          "dtype": "i1"
         },
         "xaxis": "x",
         "y": [
          "Gaako"
         ],
         "yaxis": "y"
        },
        {
         "hovertemplate": "Name=%{y}<br>Kapitel=%{x}<extra></extra>",
         "legendgroup": "Buer Blushenko",
         "marker": {
          "color": "#FF6692",
          "line": {
           "width": 1
          },
          "size": 5,
          "symbol": "square"
         },
         "mode": "markers",
         "name": "Buer Blushenko",
         "showlegend": true,
         "type": "scattergl",
         "x": {
          "bdata": "HgAfADcAPwCRAM0A3ADhAOIA6ADpAOoA9gALAQ4BEwEVATwBegE=",
          "dtype": "i2"
         },
         "xaxis": "x",
         "y": [
          "Buer Blushenko",
          "Buer Blushenko",
          "Buer Blushenko",
          "Buer Blushenko",
          "Buer Blushenko",
          "Buer Blushenko",
          "Buer Blushenko",
          "Buer Blushenko",
          "Buer Blushenko",
          "Buer Blushenko",
          "Buer Blushenko",
          "Buer Blushenko",
          "Buer Blushenko",
          "Buer Blushenko",
          "Buer Blushenko",
          "Buer Blushenko",
          "Buer Blushenko",
          "Buer Blushenko",
          "Buer Blushenko"
         ],
         "yaxis": "y"
        },
        {
         "hovertemplate": "Name=%{y}<br>Kapitel=%{x}<extra></extra>",
         "legendgroup": "Morax Momonoki",
         "marker": {
          "color": "#B6E880",
          "line": {
           "width": 1
          },
          "size": 5,
          "symbol": "square"
         },
         "mode": "markers",
         "name": "Morax Momonoki",
         "showlegend": true,
         "type": "scattergl",
         "x": {
          "bdata": "HgAsADEANAA3ADgAPwBEAGUAkQDZANwA3wDiAOkA6gDuAO8A9AD1APYACwEOAQ8BEwEVARgBNQE8AT0BPgFGAXoBewF+AQ==",
          "dtype": "i2"
         },
         "xaxis": "x",
         "y": [
          "Morax Momonoki",
          "Morax Momonoki",
          "Morax Momonoki",
          "Morax Momonoki",
          "Morax Momonoki",
          "Morax Momonoki",
          "Morax Momonoki",
          "Morax Momonoki",
          "Morax Momonoki",
          "Morax Momonoki",
          "Morax Momonoki",
          "Morax Momonoki",
          "Morax Momonoki",
          "Morax Momonoki",
          "Morax Momonoki",
          "Morax Momonoki",
          "Morax Momonoki",
          "Morax Momonoki",
          "Morax Momonoki",
          "Morax Momonoki",
          "Morax Momonoki",
          "Morax Momonoki",
          "Morax Momonoki",
          "Morax Momonoki",
          "Morax Momonoki",
          "Morax Momonoki",
          "Morax Momonoki",
          "Morax Momonoki",
          "Morax Momonoki",
          "Morax Momonoki",
          "Morax Momonoki",
          "Morax Momonoki",
          "Morax Momonoki",
          "Morax Momonoki",
          "Morax Momonoki"
         ],
         "yaxis": "y"
        },
        {
         "hovertemplate": "Name=%{y}<br>Kapitel=%{x}<extra></extra>",
         "legendgroup": "Nagi",
         "marker": {
          "color": "#FF97FF",
          "line": {
           "width": 1
          },
          "size": 5,
          "symbol": "square"
         },
         "mode": "markers",
         "name": "Nagi",
         "showlegend": true,
         "type": "scattergl",
         "x": {
          "bdata": "ICE=",
          "dtype": "i1"
         },
         "xaxis": "x",
         "y": [
          "Nagi",
          "Nagi"
         ],
         "yaxis": "y"
        },
        {
         "hovertemplate": "Name=%{y}<br>Kapitel=%{x}<extra></extra>",
         "legendgroup": "Shax Shakky",
         "marker": {
          "color": "#FECB52",
          "line": {
           "width": 1
          },
          "size": 5,
          "symbol": "square"
         },
         "mode": "markers",
         "name": "Shax Shakky",
         "showlegend": true,
         "type": "scattergl",
         "x": {
          "bdata": "JABEAJAAEgGSAZMBlAGVAZcBmAGZAZoBmwGcAZ0B",
          "dtype": "i2"
         },
         "xaxis": "x",
         "y": [
          "Shax Shakky",
          "Shax Shakky",
          "Shax Shakky",
          "Shax Shakky",
          "Shax Shakky",
          "Shax Shakky",
          "Shax Shakky",
          "Shax Shakky",
          "Shax Shakky",
          "Shax Shakky",
          "Shax Shakky",
          "Shax Shakky",
          "Shax Shakky",
          "Shax Shakky",
          "Shax Shakky"
         ],
         "yaxis": "y"
        },
        {
         "hovertemplate": "Name=%{y}<br>Kapitel=%{x}<extra></extra>",
         "legendgroup": "Andro M. Rock",
         "marker": {
          "color": "#636efa",
          "line": {
           "width": 1
          },
          "size": 5,
          "symbol": "square"
         },
         "mode": "markers",
         "name": "Andro M. Rock",
         "showlegend": true,
         "type": "scattergl",
         "x": {
          "bdata": "JABEAE4ATwCMAY0BjgGPAZABkQGSAZMBlAGVAZcBmAGZAZoBmwGcAZ0B",
          "dtype": "i2"
         },
         "xaxis": "x",
         "y": [
          "Andro M. Rock",
          "Andro M. Rock",
          "Andro M. Rock",
          "Andro M. Rock",
          "Andro M. Rock",
          "Andro M. Rock",
          "Andro M. Rock",
          "Andro M. Rock",
          "Andro M. Rock",
          "Andro M. Rock",
          "Andro M. Rock",
          "Andro M. Rock",
          "Andro M. Rock",
          "Andro M. Rock",
          "Andro M. Rock",
          "Andro M. Rock",
          "Andro M. Rock",
          "Andro M. Rock",
          "Andro M. Rock",
          "Andro M. Rock",
          "Andro M. Rock"
         ],
         "yaxis": "y"
        },
        {
         "hovertemplate": "Name=%{y}<br>Kapitel=%{x}<extra></extra>",
         "legendgroup": "Kuromu",
         "marker": {
          "color": "#EF553B",
          "line": {
           "width": 1
          },
          "size": 5,
          "symbol": "square"
         },
         "mode": "markers",
         "name": "Kuromu",
         "showlegend": true,
         "type": "scattergl",
         "x": {
          "bdata": "KCkqKzZQUVU=",
          "dtype": "i1"
         },
         "xaxis": "x",
         "y": [
          "Kuromu",
          "Kuromu",
          "Kuromu",
          "Kuromu",
          "Kuromu",
          "Kuromu",
          "Kuromu",
          "Kuromu"
         ],
         "yaxis": "y"
        },
        {
         "hovertemplate": "Name=%{y}<br>Kapitel=%{x}<extra></extra>",
         "legendgroup": "Marbas Mar",
         "marker": {
          "color": "#00cc96",
          "line": {
           "width": 1
          },
          "size": 5,
          "symbol": "square"
         },
         "mode": "markers",
         "name": "Marbas Mar",
         "showlegend": true,
         "type": "scattergl",
         "x": {
          "bdata": "KAAqACsAkQDYAF0BdwF5AQ==",
          "dtype": "i2"
         },
         "xaxis": "x",
         "y": [
          "Marbas Mar",
          "Marbas Mar",
          "Marbas Mar",
          "Marbas Mar",
          "Marbas Mar",
          "Marbas Mar",
          "Marbas Mar",
          "Marbas Mar"
         ],
         "yaxis": "y"
        },
        {
         "hovertemplate": "Name=%{y}<br>Kapitel=%{x}<extra></extra>",
         "legendgroup": "Kerori's Mother",
         "marker": {
          "color": "#ab63fa",
          "line": {
           "width": 1
          },
          "size": 5,
          "symbol": "square"
         },
         "mode": "markers",
         "name": "Kerori's Mother",
         "showlegend": true,
         "type": "scattergl",
         "x": {
          "bdata": "KAAqACsA2ABdAQ==",
          "dtype": "i2"
         },
         "xaxis": "x",
         "y": [
          "Kerori's Mother",
          "Kerori's Mother",
          "Kerori's Mother",
          "Kerori's Mother",
          "Kerori's Mother"
         ],
         "yaxis": "y"
        },
        {
         "hovertemplate": "Name=%{y}<br>Kapitel=%{x}<extra></extra>",
         "legendgroup": "Kerori's Brother",
         "marker": {
          "color": "#FFA15A",
          "line": {
           "width": 1
          },
          "size": 5,
          "symbol": "square"
         },
         "mode": "markers",
         "name": "Kerori's Brother",
         "showlegend": true,
         "type": "scattergl",
         "x": {
          "bdata": "KAAqACsAXAFdAQ==",
          "dtype": "i2"
         },
         "xaxis": "x",
         "y": [
          "Kerori's Brother",
          "Kerori's Brother",
          "Kerori's Brother",
          "Kerori's Brother",
          "Kerori's Brother"
         ],
         "yaxis": "y"
        },
        {
         "hovertemplate": "Name=%{y}<br>Kapitel=%{x}<extra></extra>",
         "legendgroup": "Crocell Chima",
         "marker": {
          "color": "#19d3f3",
          "line": {
           "width": 1
          },
          "size": 5,
          "symbol": "square"
         },
         "mode": "markers",
         "name": "Crocell Chima",
         "showlegend": true,
         "type": "scattergl",
         "x": {
          "bdata": "KAAqACsA1wDYAN8A4ADhAOIA5ADlAOYA5wDoAOwA7QANAQ8BGQEaARwBHQEhATABRwFIAUkBSgFOAVEBUgFTAVQBVQFWAVcBWAFaAVwBXQFeAXcBgwE=",
          "dtype": "i2"
         },
         "xaxis": "x",
         "y": [
          "Crocell Chima",
          "Crocell Chima",
          "Crocell Chima",
          "Crocell Chima",
          "Crocell Chima",
          "Crocell Chima",
          "Crocell Chima",
          "Crocell Chima",
          "Crocell Chima",
          "Crocell Chima",
          "Crocell Chima",
          "Crocell Chima",
          "Crocell Chima",
          "Crocell Chima",
          "Crocell Chima",
          "Crocell Chima",
          "Crocell Chima",
          "Crocell Chima",
          "Crocell Chima",
          "Crocell Chima",
          "Crocell Chima",
          "Crocell Chima",
          "Crocell Chima",
          "Crocell Chima",
          "Crocell Chima",
          "Crocell Chima",
          "Crocell Chima",
          "Crocell Chima",
          "Crocell Chima",
          "Crocell Chima",
          "Crocell Chima",
          "Crocell Chima",
          "Crocell Chima",
          "Crocell Chima",
          "Crocell Chima",
          "Crocell Chima",
          "Crocell Chima",
          "Crocell Chima",
          "Crocell Chima",
          "Crocell Chima",
          "Crocell Chima",
          "Crocell Chima",
          "Crocell Chima"
         ],
         "yaxis": "y"
        },
        {
         "hovertemplate": "Name=%{y}<br>Kapitel=%{x}<extra></extra>",
         "legendgroup": "Kerori's Grandmother",
         "marker": {
          "color": "#FF6692",
          "line": {
           "width": 1
          },
          "size": 5,
          "symbol": "square"
         },
         "mode": "markers",
         "name": "Kerori's Grandmother",
         "showlegend": true,
         "type": "scattergl",
         "x": {
          "bdata": "Kg==",
          "dtype": "i1"
         },
         "xaxis": "x",
         "y": [
          "Kerori's Grandmother"
         ],
         "yaxis": "y"
        },
        {
         "hovertemplate": "Name=%{y}<br>Kapitel=%{x}<extra></extra>",
         "legendgroup": "Ronove Lomiere",
         "marker": {
          "color": "#B6E880",
          "line": {
           "width": 1
          },
          "size": 5,
          "symbol": "square"
         },
         "mode": "markers",
         "name": "Ronove Lomiere",
         "showlegend": true,
         "type": "scattergl",
         "x": {
          "bdata": "MQAyADMANAA4AK0AHQE=",
          "dtype": "i2"
         },
         "xaxis": "x",
         "y": [
          "Ronove Lomiere",
          "Ronove Lomiere",
          "Ronove Lomiere",
          "Ronove Lomiere",
          "Ronove Lomiere",
          "Ronove Lomiere",
          "Ronove Lomiere"
         ],
         "yaxis": "y"
        },
        {
         "hovertemplate": "Name=%{y}<br>Kapitel=%{x}<extra></extra>",
         "legendgroup": "Ronove Romiere",
         "marker": {
          "color": "#FF97FF",
          "line": {
           "width": 1
          },
          "size": 5,
          "symbol": "square"
         },
         "mode": "markers",
         "name": "Ronove Romiere",
         "showlegend": true,
         "type": "scattergl",
         "x": {
          "bdata": "NUZHSEpLTVBVVldY",
          "dtype": "i1"
         },
         "xaxis": "x",
         "y": [
          "Ronove Romiere",
          "Ronove Romiere",
          "Ronove Romiere",
          "Ronove Romiere",
          "Ronove Romiere",
          "Ronove Romiere",
          "Ronove Romiere",
          "Ronove Romiere",
          "Ronove Romiere",
          "Ronove Romiere",
          "Ronove Romiere",
          "Ronove Romiere"
         ],
         "yaxis": "y"
        },
        {
         "hovertemplate": "Name=%{y}<br>Kapitel=%{x}<extra></extra>",
         "legendgroup": "Eligos Schenell",
         "marker": {
          "color": "#FECB52",
          "line": {
           "width": 1
          },
          "size": 5,
          "symbol": "square"
         },
         "mode": "markers",
         "name": "Eligos Schenell",
         "showlegend": true,
         "type": "scattergl",
         "x": {
          "bdata": "NQBBAEIAYwBkAK0AGgEcAR0BIQEwAUgBSQFKAU4BUQFTAVQBVQFWAVcBWAFcAV4BgwE=",
          "dtype": "i2"
         },
         "xaxis": "x",
         "y": [
          "Eligos Schenell",
          "Eligos Schenell",
          "Eligos Schenell",
          "Eligos Schenell",
          "Eligos Schenell",
          "Eligos Schenell",
          "Eligos Schenell",
          "Eligos Schenell",
          "Eligos Schenell",
          "Eligos Schenell",
          "Eligos Schenell",
          "Eligos Schenell",
          "Eligos Schenell",
          "Eligos Schenell",
          "Eligos Schenell",
          "Eligos Schenell",
          "Eligos Schenell",
          "Eligos Schenell",
          "Eligos Schenell",
          "Eligos Schenell",
          "Eligos Schenell",
          "Eligos Schenell",
          "Eligos Schenell",
          "Eligos Schenell",
          "Eligos Schenell"
         ],
         "yaxis": "y"
        },
        {
         "hovertemplate": "Name=%{y}<br>Kapitel=%{x}<extra></extra>",
         "legendgroup": "Demon King Derkila",
         "marker": {
          "color": "#636efa",
          "line": {
           "width": 1
          },
          "size": 5,
          "symbol": "square"
         },
         "mode": "markers",
         "name": "Demon King Derkila",
         "showlegend": true,
         "type": "scattergl",
         "x": {
          "bdata": "NwA4AF0ArQCuAM0A3QALASQBJwErASwBMwE1ATYBNwE4ATkBOgFmAWwBcAFxAXkBigGZAQ==",
          "dtype": "i2"
         },
         "xaxis": "x",
         "y": [
          "Demon King Derkila",
          "Demon King Derkila",
          "Demon King Derkila",
          "Demon King Derkila",
          "Demon King Derkila",
          "Demon King Derkila",
          "Demon King Derkila",
          "Demon King Derkila",
          "Demon King Derkila",
          "Demon King Derkila",
          "Demon King Derkila",
          "Demon King Derkila",
          "Demon King Derkila",
          "Demon King Derkila",
          "Demon King Derkila",
          "Demon King Derkila",
          "Demon King Derkila",
          "Demon King Derkila",
          "Demon King Derkila",
          "Demon King Derkila",
          "Demon King Derkila",
          "Demon King Derkila",
          "Demon King Derkila",
          "Demon King Derkila",
          "Demon King Derkila",
          "Demon King Derkila"
         ],
         "yaxis": "y"
        },
        {
         "hovertemplate": "Name=%{y}<br>Kapitel=%{x}<extra></extra>",
         "legendgroup": "Balam Shichiro",
         "marker": {
          "color": "#EF553B",
          "line": {
           "width": 1
          },
          "size": 5,
          "symbol": "square"
         },
         "mode": "markers",
         "name": "Balam Shichiro",
         "showlegend": true,
         "type": "scattergl",
         "x": {
          "bdata": "PgA/AEAAQQBCAEUARgBHAEgASQBKAEsATQBQAFIAUwBUAFUAVgBXAFgAWQBcAF8AYABiAGUAZwBoAGoAjgCRAK0ArgCxALYAtwDZANoA2wDdAN4ACwEOARMBFAEXAR8BMAE9AT4BPwFAAUQBUQFnAWgBewF9AX4BhAGFAYYBhwGIAQ==",
          "dtype": "i2"
         },
         "xaxis": "x",
         "y": [
          "Balam Shichiro",
          "Balam Shichiro",
          "Balam Shichiro",
          "Balam Shichiro",
          "Balam Shichiro",
          "Balam Shichiro",
          "Balam Shichiro",
          "Balam Shichiro",
          "Balam Shichiro",
          "Balam Shichiro",
          "Balam Shichiro",
          "Balam Shichiro",
          "Balam Shichiro",
          "Balam Shichiro",
          "Balam Shichiro",
          "Balam Shichiro",
          "Balam Shichiro",
          "Balam Shichiro",
          "Balam Shichiro",
          "Balam Shichiro",
          "Balam Shichiro",
          "Balam Shichiro",
          "Balam Shichiro",
          "Balam Shichiro",
          "Balam Shichiro",
          "Balam Shichiro",
          "Balam Shichiro",
          "Balam Shichiro",
          "Balam Shichiro",
          "Balam Shichiro",
          "Balam Shichiro",
          "Balam Shichiro",
          "Balam Shichiro",
          "Balam Shichiro",
          "Balam Shichiro",
          "Balam Shichiro",
          "Balam Shichiro",
          "Balam Shichiro",
          "Balam Shichiro",
          "Balam Shichiro",
          "Balam Shichiro",
          "Balam Shichiro",
          "Balam Shichiro",
          "Balam Shichiro",
          "Balam Shichiro",
          "Balam Shichiro",
          "Balam Shichiro",
          "Balam Shichiro",
          "Balam Shichiro",
          "Balam Shichiro",
          "Balam Shichiro",
          "Balam Shichiro",
          "Balam Shichiro",
          "Balam Shichiro",
          "Balam Shichiro",
          "Balam Shichiro",
          "Balam Shichiro",
          "Balam Shichiro",
          "Balam Shichiro",
          "Balam Shichiro",
          "Balam Shichiro",
          "Balam Shichiro",
          "Balam Shichiro",
          "Balam Shichiro",
          "Balam Shichiro"
         ],
         "yaxis": "y"
        },
        {
         "hovertemplate": "Name=%{y}<br>Kapitel=%{x}<extra></extra>",
         "legendgroup": "Botti Yamanda",
         "marker": {
          "color": "#00cc96",
          "line": {
           "width": 1
          },
          "size": 5,
          "symbol": "square"
         },
         "mode": "markers",
         "name": "Botti Yamanda",
         "showlegend": true,
         "type": "scattergl",
         "x": {
          "bdata": "QADOAM8AXAFdAQ==",
          "dtype": "i2"
         },
         "xaxis": "x",
         "y": [
          "Botti Yamanda",
          "Botti Yamanda",
          "Botti Yamanda",
          "Botti Yamanda",
          "Botti Yamanda"
         ],
         "yaxis": "y"
        },
        {
         "hovertemplate": "Name=%{y}<br>Kapitel=%{x}<extra></extra>",
         "legendgroup": "General Furfur",
         "marker": {
          "color": "#ab63fa",
          "line": {
           "width": 1
          },
          "size": 5,
          "symbol": "square"
         },
         "mode": "markers",
         "name": "General Furfur",
         "showlegend": true,
         "type": "scattergl",
         "x": {
          "bdata": "QQBfAGAAYgBmAGkAagDZAJsB",
          "dtype": "i2"
         },
         "xaxis": "x",
         "y": [
          "General Furfur",
          "General Furfur",
          "General Furfur",
          "General Furfur",
          "General Furfur",
          "General Furfur",
          "General Furfur",
          "General Furfur",
          "General Furfur"
         ],
         "yaxis": "y"
        },
        {
         "hovertemplate": "Name=%{y}<br>Kapitel=%{x}<extra></extra>",
         "legendgroup": "Asmodeus Viole",
         "marker": {
          "color": "#FFA15A",
          "line": {
           "width": 1
          },
          "size": 5,
          "symbol": "square"
         },
         "mode": "markers",
         "name": "Asmodeus Viole",
         "showlegend": true,
         "type": "scattergl",
         "x": {
          "bdata": "RFs=",
          "dtype": "i1"
         },
         "xaxis": "x",
         "y": [
          "Asmodeus Viole",
          "Asmodeus Viole"
         ],
         "yaxis": "y"
        },
        {
         "hovertemplate": "Name=%{y}<br>Kapitel=%{x}<extra></extra>",
         "legendgroup": "Asmodeus Lily",
         "marker": {
          "color": "#19d3f3",
          "line": {
           "width": 1
          },
          "size": 5,
          "symbol": "square"
         },
         "mode": "markers",
         "name": "Asmodeus Lily",
         "showlegend": true,
         "type": "scattergl",
         "x": {
          "bdata": "RFs=",
          "dtype": "i1"
         },
         "xaxis": "x",
         "y": [
          "Asmodeus Lily",
          "Asmodeus Lily"
         ],
         "yaxis": "y"
        },
        {
         "hovertemplate": "Name=%{y}<br>Kapitel=%{x}<extra></extra>",
         "legendgroup": "Goemon's Father",
         "marker": {
          "color": "#FF6692",
          "line": {
           "width": 1
          },
          "size": 5,
          "symbol": "square"
         },
         "mode": "markers",
         "name": "Goemon's Father",
         "showlegend": true,
         "type": "scattergl",
         "x": {
          "bdata": "RAARAQ==",
          "dtype": "i2"
         },
         "xaxis": "x",
         "y": [
          "Goemon's Father",
          "Goemon's Father"
         ],
         "yaxis": "y"
        },
        {
         "hovertemplate": "Name=%{y}<br>Kapitel=%{x}<extra></extra>",
         "legendgroup": "Furcas",
         "marker": {
          "color": "#B6E880",
          "line": {
           "width": 1
          },
          "size": 5,
          "symbol": "square"
         },
         "mode": "markers",
         "name": "Furcas",
         "showlegend": true,
         "type": "scattergl",
         "x": {
          "bdata": "RQB6AXsB",
          "dtype": "i2"
         },
         "xaxis": "x",
         "y": [
          "Furcas",
          "Furcas",
          "Furcas"
         ],
         "yaxis": "y"
        },
        {
         "hovertemplate": "Name=%{y}<br>Kapitel=%{x}<extra></extra>",
         "legendgroup": "Ronove Rosevelt",
         "marker": {
          "color": "#FF97FF",
          "line": {
           "width": 1
          },
          "size": 5,
          "symbol": "square"
         },
         "mode": "markers",
         "name": "Ronove Rosevelt",
         "showlegend": true,
         "type": "scattergl",
         "x": {
          "bdata": "RlVXWA==",
          "dtype": "i1"
         },
         "xaxis": "x",
         "y": [
          "Ronove Rosevelt",
          "Ronove Rosevelt",
          "Ronove Rosevelt",
          "Ronove Rosevelt"
         ],
         "yaxis": "y"
        },
        {
         "hovertemplate": "Name=%{y}<br>Kapitel=%{x}<extra></extra>",
         "legendgroup": "Wett",
         "marker": {
          "color": "#FECB52",
          "line": {
           "width": 1
          },
          "size": 5,
          "symbol": "square"
         },
         "mode": "markers",
         "name": "Wett",
         "showlegend": true,
         "type": "scattergl",
         "x": {
          "bdata": "RgBHAEgASgBLAE0ATgBQAFUAVgBXAFgArQCuAN0AiAE=",
          "dtype": "i2"
         },
         "xaxis": "x",
         "y": [
          "Wett",
          "Wett",
          "Wett",
          "Wett",
          "Wett",
          "Wett",
          "Wett",
          "Wett",
          "Wett",
          "Wett",
          "Wett",
          "Wett",
          "Wett",
          "Wett",
          "Wett",
          "Wett"
         ],
         "yaxis": "y"
        },
        {
         "hovertemplate": "Name=%{y}<br>Kapitel=%{x}<extra></extra>",
         "legendgroup": "Miki",
         "marker": {
          "color": "#636efa",
          "line": {
           "width": 1
          },
          "size": 5,
          "symbol": "square"
         },
         "mode": "markers",
         "name": "Miki",
         "showlegend": true,
         "type": "scattergl",
         "x": {
          "bdata": "RwBKAFUAVgDdAC4BiAE=",
          "dtype": "i2"
         },
         "xaxis": "x",
         "y": [
          "Miki",
          "Miki",
          "Miki",
          "Miki",
          "Miki",
          "Miki",
          "Miki"
         ],
         "yaxis": "y"
        },
        {
         "hovertemplate": "Name=%{y}<br>Kapitel=%{x}<extra></extra>",
         "legendgroup": "Hyudarin",
         "marker": {
          "color": "#EF553B",
          "line": {
           "width": 1
          },
          "size": 5,
          "symbol": "square"
         },
         "mode": "markers",
         "name": "Hyudarin",
         "showlegend": true,
         "type": "scattergl",
         "x": {
          "bdata": "RwBKAE0ATgBQAFYArgDdAA==",
          "dtype": "i2"
         },
         "xaxis": "x",
         "y": [
          "Hyudarin",
          "Hyudarin",
          "Hyudarin",
          "Hyudarin",
          "Hyudarin",
          "Hyudarin",
          "Hyudarin",
          "Hyudarin"
         ],
         "yaxis": "y"
        },
        {
         "hovertemplate": "Name=%{y}<br>Kapitel=%{x}<extra></extra>",
         "legendgroup": "Atori",
         "marker": {
          "color": "#00cc96",
          "line": {
           "width": 1
          },
          "size": 5,
          "symbol": "square"
         },
         "mode": "markers",
         "name": "Atori",
         "showlegend": true,
         "type": "scattergl",
         "x": {
          "bdata": "RwBKAE0ATgBQAFUAVgBXANwA3QDeAN8A5QDmAOgA6QDqAOsACwEOARMBFAEfAS0BLgEwATEBMgE/AUUBhAE=",
          "dtype": "i2"
         },
         "xaxis": "x",
         "y": [
          "Atori",
          "Atori",
          "Atori",
          "Atori",
          "Atori",
          "Atori",
          "Atori",
          "Atori",
          "Atori",
          "Atori",
          "Atori",
          "Atori",
          "Atori",
          "Atori",
          "Atori",
          "Atori",
          "Atori",
          "Atori",
          "Atori",
          "Atori",
          "Atori",
          "Atori",
          "Atori",
          "Atori",
          "Atori",
          "Atori",
          "Atori",
          "Atori",
          "Atori",
          "Atori",
          "Atori"
         ],
         "yaxis": "y"
        },
        {
         "hovertemplate": "Name=%{y}<br>Kapitel=%{x}<extra></extra>",
         "legendgroup": "Maemaro",
         "marker": {
          "color": "#ab63fa",
          "line": {
           "width": 1
          },
          "size": 5,
          "symbol": "square"
         },
         "mode": "markers",
         "name": "Maemaro",
         "showlegend": true,
         "type": "scattergl",
         "x": {
          "bdata": "RwBKAFYA3QAuAQ==",
          "dtype": "i2"
         },
         "xaxis": "x",
         "y": [
          "Maemaro",
          "Maemaro",
          "Maemaro",
          "Maemaro",
          "Maemaro"
         ],
         "yaxis": "y"
        },
        {
         "hovertemplate": "Name=%{y}<br>Kapitel=%{x}<extra></extra>",
         "legendgroup": "Shiida",
         "marker": {
          "color": "#FFA15A",
          "line": {
           "width": 1
          },
          "size": 5,
          "symbol": "square"
         },
         "mode": "markers",
         "name": "Shiida",
         "showlegend": true,
         "type": "scattergl",
         "x": {
          "bdata": "SABKAFYAVwDcAN0A3gDfAOYA5wDoAO0ACwENAQ4BEwEUARUBFgEXAUABQQFCAUQBVAF6AXsBfAGDAYkB",
          "dtype": "i2"
         },
         "xaxis": "x",
         "y": [
          "Shiida",
          "Shiida",
          "Shiida",
          "Shiida",
          "Shiida",
          "Shiida",
          "Shiida",
          "Shiida",
          "Shiida",
          "Shiida",
          "Shiida",
          "Shiida",
          "Shiida",
          "Shiida",
          "Shiida",
          "Shiida",
          "Shiida",
          "Shiida",
          "Shiida",
          "Shiida",
          "Shiida",
          "Shiida",
          "Shiida",
          "Shiida",
          "Shiida",
          "Shiida",
          "Shiida",
          "Shiida",
          "Shiida",
          "Shiida"
         ],
         "yaxis": "y"
        },
        {
         "hovertemplate": "Name=%{y}<br>Kapitel=%{x}<extra></extra>",
         "legendgroup": "Imp Rocky",
         "marker": {
          "color": "#19d3f3",
          "line": {
           "width": 1
          },
          "size": 5,
          "symbol": "square"
         },
         "mode": "markers",
         "name": "Imp Rocky",
         "showlegend": true,
         "type": "scattergl",
         "x": {
          "bdata": "SU5QVldY",
          "dtype": "i1"
         },
         "xaxis": "x",
         "y": [
          "Imp Rocky",
          "Imp Rocky",
          "Imp Rocky",
          "Imp Rocky",
          "Imp Rocky",
          "Imp Rocky"
         ],
         "yaxis": "y"
        },
        {
         "hovertemplate": "Name=%{y}<br>Kapitel=%{x}<extra></extra>",
         "legendgroup": "Bats",
         "marker": {
          "color": "#FF6692",
          "line": {
           "width": 1
          },
          "size": 5,
          "symbol": "square"
         },
         "mode": "markers",
         "name": "Bats",
         "showlegend": true,
         "type": "scattergl",
         "x": {
          "bdata": "SU5QVldY",
          "dtype": "i1"
         },
         "xaxis": "x",
         "y": [
          "Bats",
          "Bats",
          "Bats",
          "Bats",
          "Bats",
          "Bats"
         ],
         "yaxis": "y"
        },
        {
         "hovertemplate": "Name=%{y}<br>Kapitel=%{x}<extra></extra>",
         "legendgroup": "Lord Lumero",
         "marker": {
          "color": "#B6E880",
          "line": {
           "width": 1
          },
          "size": 5,
          "symbol": "square"
         },
         "mode": "markers",
         "name": "Lord Lumero",
         "showlegend": true,
         "type": "scattergl",
         "x": {
          "bdata": "SU5WVw==",
          "dtype": "i1"
         },
         "xaxis": "x",
         "y": [
          "Lord Lumero",
          "Lord Lumero",
          "Lord Lumero",
          "Lord Lumero"
         ],
         "yaxis": "y"
        },
        {
         "hovertemplate": "Name=%{y}<br>Kapitel=%{x}<extra></extra>",
         "legendgroup": "Dlingar",
         "marker": {
          "color": "#FF97FF",
          "line": {
           "width": 1
          },
          "size": 5,
          "symbol": "square"
         },
         "mode": "markers",
         "name": "Dlingar",
         "showlegend": true,
         "type": "scattergl",
         "x": {
          "bdata": "SU5W",
          "dtype": "i1"
         },
         "xaxis": "x",
         "y": [
          "Dlingar",
          "Dlingar",
          "Dlingar"
         ],
         "yaxis": "y"
        },
        {
         "hovertemplate": "Name=%{y}<br>Kapitel=%{x}<extra></extra>",
         "legendgroup": "Ginguk",
         "marker": {
          "color": "#FECB52",
          "line": {
           "width": 1
          },
          "size": 5,
          "symbol": "square"
         },
         "mode": "markers",
         "name": "Ginguk",
         "showlegend": true,
         "type": "scattergl",
         "x": {
          "bdata": "SU5WVw==",
          "dtype": "i1"
         },
         "xaxis": "x",
         "y": [
          "Ginguk",
          "Ginguk",
          "Ginguk",
          "Ginguk"
         ],
         "yaxis": "y"
        },
        {
         "hovertemplate": "Name=%{y}<br>Kapitel=%{x}<extra></extra>",
         "legendgroup": "Balgio",
         "marker": {
          "color": "#636efa",
          "line": {
           "width": 1
          },
          "size": 5,
          "symbol": "square"
         },
         "mode": "markers",
         "name": "Balgio",
         "showlegend": true,
         "type": "scattergl",
         "x": {
          "bdata": "SU5WVw==",
          "dtype": "i1"
         },
         "xaxis": "x",
         "y": [
          "Balgio",
          "Balgio",
          "Balgio",
          "Balgio"
         ],
         "yaxis": "y"
        },
        {
         "hovertemplate": "Name=%{y}<br>Kapitel=%{x}<extra></extra>",
         "legendgroup": "Dododo",
         "marker": {
          "color": "#EF553B",
          "line": {
           "width": 1
          },
          "size": 5,
          "symbol": "square"
         },
         "mode": "markers",
         "name": "Dododo",
         "showlegend": true,
         "type": "scattergl",
         "x": {
          "bdata": "SU4=",
          "dtype": "i1"
         },
         "xaxis": "x",
         "y": [
          "Dododo",
          "Dododo"
         ],
         "yaxis": "y"
        },
        {
         "hovertemplate": "Name=%{y}<br>Kapitel=%{x}<extra></extra>",
         "legendgroup": "Smatetlede",
         "marker": {
          "color": "#00cc96",
          "line": {
           "width": 1
          },
          "size": 5,
          "symbol": "square"
         },
         "mode": "markers",
         "name": "Smatetlede",
         "showlegend": true,
         "type": "scattergl",
         "x": {
          "bdata": "SQ==",
          "dtype": "i1"
         },
         "xaxis": "x",
         "y": [
          "Smatetlede"
         ],
         "yaxis": "y"
        },
        {
         "hovertemplate": "Name=%{y}<br>Kapitel=%{x}<extra></extra>",
         "legendgroup": "Selaguts",
         "marker": {
          "color": "#ab63fa",
          "line": {
           "width": 1
          },
          "size": 5,
          "symbol": "square"
         },
         "mode": "markers",
         "name": "Selaguts",
         "showlegend": true,
         "type": "scattergl",
         "x": {
          "bdata": "SQ==",
          "dtype": "i1"
         },
         "xaxis": "x",
         "y": [
          "Selaguts"
         ],
         "yaxis": "y"
        },
        {
         "hovertemplate": "Name=%{y}<br>Kapitel=%{x}<extra></extra>",
         "legendgroup": "Triton",
         "marker": {
          "color": "#FFA15A",
          "line": {
           "width": 1
          },
          "size": 5,
          "symbol": "square"
         },
         "mode": "markers",
         "name": "Triton",
         "showlegend": true,
         "type": "scattergl",
         "x": {
          "bdata": "Tg==",
          "dtype": "i1"
         },
         "xaxis": "x",
         "y": [
          "Triton"
         ],
         "yaxis": "y"
        },
        {
         "hovertemplate": "Name=%{y}<br>Kapitel=%{x}<extra></extra>",
         "legendgroup": "Luluu Uval",
         "marker": {
          "color": "#19d3f3",
          "line": {
           "width": 1
          },
          "size": 5,
          "symbol": "square"
         },
         "mode": "markers",
         "name": "Luluu Uval",
         "showlegend": true,
         "type": "scattergl",
         "x": {
          "bdata": "Ww==",
          "dtype": "i1"
         },
         "xaxis": "x",
         "y": [
          "Luluu Uval"
         ],
         "yaxis": "y"
        },
        {
         "hovertemplate": "Name=%{y}<br>Kapitel=%{x}<extra></extra>",
         "legendgroup": "Alice's dance partner",
         "marker": {
          "color": "#FF6692",
          "line": {
           "width": 1
          },
          "size": 5,
          "symbol": "square"
         },
         "mode": "markers",
         "name": "Alice's dance partner",
         "showlegend": true,
         "type": "scattergl",
         "x": {
          "bdata": "Ww==",
          "dtype": "i1"
         },
         "xaxis": "x",
         "y": [
          "Alice's dance partner"
         ],
         "yaxis": "y"
        },
        {
         "hovertemplate": "Name=%{y}<br>Kapitel=%{x}<extra></extra>",
         "legendgroup": "The Thirteen Crowns",
         "marker": {
          "color": "#B6E880",
          "line": {
           "width": 1
          },
          "size": 5,
          "symbol": "square"
         },
         "mode": "markers",
         "name": "The Thirteen Crowns",
         "showlegend": true,
         "type": "scattergl",
         "x": {
          "bdata": "XQDHAM0AzgAeASABIgEmAScBNAE1ATcBOAE8AUEBQwFEAUYBRwFdAWIBawFuAXABcQGKAZYBmQE=",
          "dtype": "i2"
         },
         "xaxis": "x",
         "y": [
          "The Thirteen Crowns",
          "The Thirteen Crowns",
          "The Thirteen Crowns",
          "The Thirteen Crowns",
          "The Thirteen Crowns",
          "The Thirteen Crowns",
          "The Thirteen Crowns",
          "The Thirteen Crowns",
          "The Thirteen Crowns",
          "The Thirteen Crowns",
          "The Thirteen Crowns",
          "The Thirteen Crowns",
          "The Thirteen Crowns",
          "The Thirteen Crowns",
          "The Thirteen Crowns",
          "The Thirteen Crowns",
          "The Thirteen Crowns",
          "The Thirteen Crowns",
          "The Thirteen Crowns",
          "The Thirteen Crowns",
          "The Thirteen Crowns",
          "The Thirteen Crowns",
          "The Thirteen Crowns",
          "The Thirteen Crowns",
          "The Thirteen Crowns",
          "The Thirteen Crowns",
          "The Thirteen Crowns",
          "The Thirteen Crowns"
         ],
         "yaxis": "y"
        },
        {
         "hovertemplate": "Name=%{y}<br>Kapitel=%{x}<extra></extra>",
         "legendgroup": "Lady Vepar",
         "marker": {
          "color": "#FF97FF",
          "line": {
           "width": 1
          },
          "size": 5,
          "symbol": "square"
         },
         "mode": "markers",
         "name": "Lady Vepar",
         "showlegend": true,
         "type": "scattergl",
         "x": {
          "bdata": "X2BiZWY=",
          "dtype": "i1"
         },
         "xaxis": "x",
         "y": [
          "Lady Vepar",
          "Lady Vepar",
          "Lady Vepar",
          "Lady Vepar",
          "Lady Vepar"
         ],
         "yaxis": "y"
        },
        {
         "hovertemplate": "Name=%{y}<br>Kapitel=%{x}<extra></extra>",
         "legendgroup": "Mister Hat",
         "marker": {
          "color": "#FECB52",
          "line": {
           "width": 1
          },
          "size": 5,
          "symbol": "square"
         },
         "mode": "markers",
         "name": "Mister Hat",
         "showlegend": true,
         "type": "scattergl",
         "x": {
          "bdata": "XwBgAGIAZQBmAGgA7wA=",
          "dtype": "i2"
         },
         "xaxis": "x",
         "y": [
          "Mister Hat",
          "Mister Hat",
          "Mister Hat",
          "Mister Hat",
          "Mister Hat",
          "Mister Hat",
          "Mister Hat"
         ],
         "yaxis": "y"
        },
        {
         "hovertemplate": "Name=%{y}<br>Kapitel=%{x}<extra></extra>",
         "legendgroup": "Barbatos Bachiko",
         "marker": {
          "color": "#636efa",
          "line": {
           "width": 1
          },
          "size": 5,
          "symbol": "square"
         },
         "mode": "markers",
         "name": "Barbatos Bachiko",
         "showlegend": true,
         "type": "scattergl",
         "x": {
          "bdata": "YABhAGIAYwBkAGYAjwCyALYAzQAPARMBGAEeAR8BIQEiASMBJgEnASoBKwEsAS4BLwEyATMBNQE2ATcBOAE5AToBPAFBAUMBRAFGAVwBXQFfAWABYgFuAW8BcQF0AXUBlgGXAZgBmQGbAZ0B",
          "dtype": "i2"
         },
         "xaxis": "x",
         "y": [
          "Barbatos Bachiko",
          "Barbatos Bachiko",
          "Barbatos Bachiko",
          "Barbatos Bachiko",
          "Barbatos Bachiko",
          "Barbatos Bachiko",
          "Barbatos Bachiko",
          "Barbatos Bachiko",
          "Barbatos Bachiko",
          "Barbatos Bachiko",
          "Barbatos Bachiko",
          "Barbatos Bachiko",
          "Barbatos Bachiko",
          "Barbatos Bachiko",
          "Barbatos Bachiko",
          "Barbatos Bachiko",
          "Barbatos Bachiko",
          "Barbatos Bachiko",
          "Barbatos Bachiko",
          "Barbatos Bachiko",
          "Barbatos Bachiko",
          "Barbatos Bachiko",
          "Barbatos Bachiko",
          "Barbatos Bachiko",
          "Barbatos Bachiko",
          "Barbatos Bachiko",
          "Barbatos Bachiko",
          "Barbatos Bachiko",
          "Barbatos Bachiko",
          "Barbatos Bachiko",
          "Barbatos Bachiko",
          "Barbatos Bachiko",
          "Barbatos Bachiko",
          "Barbatos Bachiko",
          "Barbatos Bachiko",
          "Barbatos Bachiko",
          "Barbatos Bachiko",
          "Barbatos Bachiko",
          "Barbatos Bachiko",
          "Barbatos Bachiko",
          "Barbatos Bachiko",
          "Barbatos Bachiko",
          "Barbatos Bachiko",
          "Barbatos Bachiko",
          "Barbatos Bachiko",
          "Barbatos Bachiko",
          "Barbatos Bachiko",
          "Barbatos Bachiko",
          "Barbatos Bachiko",
          "Barbatos Bachiko",
          "Barbatos Bachiko",
          "Barbatos Bachiko",
          "Barbatos Bachiko",
          "Barbatos Bachiko"
         ],
         "yaxis": "y"
        },
        {
         "hovertemplate": "Name=%{y}<br>Kapitel=%{x}<extra></extra>",
         "legendgroup": "Walb",
         "marker": {
          "color": "#EF553B",
          "line": {
           "width": 1
          },
          "size": 5,
          "symbol": "square"
         },
         "mode": "markers",
         "name": "Walb",
         "showlegend": true,
         "type": "scattergl",
         "x": {
          "bdata": "Zg==",
          "dtype": "i1"
         },
         "xaxis": "x",
         "y": [
          "Walb"
         ],
         "yaxis": "y"
        },
        {
         "hovertemplate": "Name=%{y}<br>Kapitel=%{x}<extra></extra>",
         "legendgroup": "Ampsey Nafra",
         "marker": {
          "color": "#00cc96",
          "line": {
           "width": 1
          },
          "size": 5,
          "symbol": "square"
         },
         "mode": "markers",
         "name": "Ampsey Nafra",
         "showlegend": true,
         "type": "scattergl",
         "x": {
          "bdata": "ZgDWAOIAHQE8AT4BZAF3AQ==",
          "dtype": "i2"
         },
         "xaxis": "x",
         "y": [
          "Ampsey Nafra",
          "Ampsey Nafra",
          "Ampsey Nafra",
          "Ampsey Nafra",
          "Ampsey Nafra",
          "Ampsey Nafra",
          "Ampsey Nafra",
          "Ampsey Nafra"
         ],
         "yaxis": "y"
        },
        {
         "hovertemplate": "Name=%{y}<br>Kapitel=%{x}<extra></extra>",
         "legendgroup": "Ichiro Androalphus",
         "marker": {
          "color": "#ab63fa",
          "line": {
           "width": 1
          },
          "size": 5,
          "symbol": "square"
         },
         "mode": "markers",
         "name": "Ichiro Androalphus",
         "showlegend": true,
         "type": "scattergl",
         "x": {
          "bdata": "Zmdo",
          "dtype": "i1"
         },
         "xaxis": "x",
         "y": [
          "Ichiro Androalphus",
          "Ichiro Androalphus",
          "Ichiro Androalphus"
         ],
         "yaxis": "y"
        },
        {
         "hovertemplate": "Name=%{y}<br>Kapitel=%{x}<extra></extra>",
         "legendgroup": "Niro Androalphus",
         "marker": {
          "color": "#FFA15A",
          "line": {
           "width": 1
          },
          "size": 5,
          "symbol": "square"
         },
         "mode": "markers",
         "name": "Niro Androalphus",
         "showlegend": true,
         "type": "scattergl",
         "x": {
          "bdata": "Zmg=",
          "dtype": "i1"
         },
         "xaxis": "x",
         "y": [
          "Niro Androalphus",
          "Niro Androalphus"
         ],
         "yaxis": "y"
        },
        {
         "hovertemplate": "Name=%{y}<br>Kapitel=%{x}<extra></extra>",
         "legendgroup": "Orobas Coco",
         "marker": {
          "color": "#19d3f3",
          "line": {
           "width": 1
          },
          "size": 5,
          "symbol": "square"
         },
         "mode": "markers",
         "name": "Orobas Coco",
         "showlegend": true,
         "type": "scattergl",
         "x": {
          "bdata": "ZgBnAI4A2wDgABUB",
          "dtype": "i2"
         },
         "xaxis": "x",
         "y": [
          "Orobas Coco",
          "Orobas Coco",
          "Orobas Coco",
          "Orobas Coco",
          "Orobas Coco",
          "Orobas Coco"
         ],
         "yaxis": "y"
        },
        {
         "hovertemplate": "Name=%{y}<br>Kapitel=%{x}<extra></extra>",
         "legendgroup": "Solas Bobo",
         "marker": {
          "color": "#FF6692",
          "line": {
           "width": 1
          },
          "size": 5,
          "symbol": "square"
         },
         "mode": "markers",
         "name": "Solas Bobo",
         "showlegend": true,
         "type": "scattergl",
         "x": {
          "bdata": "aQAaAQ==",
          "dtype": "i2"
         },
         "xaxis": "x",
         "y": [
          "Solas Bobo",
          "Solas Bobo"
         ],
         "yaxis": "y"
        },
        {
         "hovertemplate": "Name=%{y}<br>Kapitel=%{x}<extra></extra>",
         "legendgroup": "Ocho",
         "marker": {
          "color": "#B6E880",
          "line": {
           "width": 1
          },
          "size": 5,
          "symbol": "square"
         },
         "mode": "markers",
         "name": "Ocho",
         "showlegend": true,
         "type": "scattergl",
         "x": {
          "bdata": "jgBFAQ==",
          "dtype": "i2"
         },
         "xaxis": "x",
         "y": [
          "Ocho",
          "Ocho"
         ],
         "yaxis": "y"
        },
        {
         "hovertemplate": "Name=%{y}<br>Kapitel=%{x}<extra></extra>",
         "legendgroup": "Thoth",
         "marker": {
          "color": "#FF97FF",
          "line": {
           "width": 1
          },
          "size": 5,
          "symbol": "square"
         },
         "mode": "markers",
         "name": "Thoth",
         "showlegend": true,
         "type": "scattergl",
         "x": {
          "bdata": "jwAlAQ==",
          "dtype": "i2"
         },
         "xaxis": "x",
         "y": [
          "Thoth",
          "Thoth"
         ],
         "yaxis": "y"
        },
        {
         "hovertemplate": "Name=%{y}<br>Kapitel=%{x}<extra></extra>",
         "legendgroup": "Orias Oswell",
         "marker": {
          "color": "#FECB52",
          "line": {
           "width": 1
          },
          "size": 5,
          "symbol": "square"
         },
         "mode": "markers",
         "name": "Orias Oswell",
         "showlegend": true,
         "type": "scattergl",
         "x": {
          "bdata": "kQDZANsA3ADfAOIA6ADrAAsBDgETARgBVAF6AXsB",
          "dtype": "i2"
         },
         "xaxis": "x",
         "y": [
          "Orias Oswell",
          "Orias Oswell",
          "Orias Oswell",
          "Orias Oswell",
          "Orias Oswell",
          "Orias Oswell",
          "Orias Oswell",
          "Orias Oswell",
          "Orias Oswell",
          "Orias Oswell",
          "Orias Oswell",
          "Orias Oswell",
          "Orias Oswell",
          "Orias Oswell",
          "Orias Oswell"
         ],
         "yaxis": "y"
        },
        {
         "hovertemplate": "Name=%{y}<br>Kapitel=%{x}<extra></extra>",
         "legendgroup": "Morax",
         "marker": {
          "color": "#636efa",
          "line": {
           "width": 1
          },
          "size": 5,
          "symbol": "square"
         },
         "mode": "markers",
         "name": "Morax",
         "showlegend": true,
         "type": "scattergl",
         "x": {
          "bdata": "kQA8AXoBewE=",
          "dtype": "i2"
         },
         "xaxis": "x",
         "y": [
          "Morax",
          "Morax",
          "Morax",
          "Morax"
         ],
         "yaxis": "y"
        },
        {
         "hovertemplate": "Name=%{y}<br>Kapitel=%{x}<extra></extra>",
         "legendgroup": "Ifrit Djinn Eito",
         "marker": {
          "color": "#EF553B",
          "line": {
           "width": 1
          },
          "size": 5,
          "symbol": "square"
         },
         "mode": "markers",
         "name": "Ifrit Djinn Eito",
         "showlegend": true,
         "type": "scattergl",
         "x": {
          "bdata": "kwDiAOkA7QDuAO8A8AALAQ4BVAF6AXsB",
          "dtype": "i2"
         },
         "xaxis": "x",
         "y": [
          "Ifrit Djinn Eito",
          "Ifrit Djinn Eito",
          "Ifrit Djinn Eito",
          "Ifrit Djinn Eito",
          "Ifrit Djinn Eito",
          "Ifrit Djinn Eito",
          "Ifrit Djinn Eito",
          "Ifrit Djinn Eito",
          "Ifrit Djinn Eito",
          "Ifrit Djinn Eito",
          "Ifrit Djinn Eito",
          "Ifrit Djinn Eito"
         ],
         "yaxis": "y"
        },
        {
         "hovertemplate": "Name=%{y}<br>Kapitel=%{x}<extra></extra>",
         "legendgroup": "Amduscias Poro",
         "marker": {
          "color": "#00cc96",
          "line": {
           "width": 1
          },
          "size": 5,
          "symbol": "square"
         },
         "mode": "markers",
         "name": "Amduscias Poro",
         "showlegend": true,
         "type": "scattergl",
         "x": {
          "bdata": "rQCuABMBLAFFAWYBeQE=",
          "dtype": "i2"
         },
         "xaxis": "x",
         "y": [
          "Amduscias Poro",
          "Amduscias Poro",
          "Amduscias Poro",
          "Amduscias Poro",
          "Amduscias Poro",
          "Amduscias Poro",
          "Amduscias Poro"
         ],
         "yaxis": "y"
        },
        {
         "hovertemplate": "Name=%{y}<br>Kapitel=%{x}<extra></extra>",
         "legendgroup": "Shichiro's Mother",
         "marker": {
          "color": "#ab63fa",
          "line": {
           "width": 1
          },
          "size": 5,
          "symbol": "square"
         },
         "mode": "markers",
         "name": "Shichiro's Mother",
         "showlegend": true,
         "type": "scattergl",
         "x": {
          "bdata": "tgA=",
          "dtype": "i2"
         },
         "xaxis": "x",
         "y": [
          "Shichiro's Mother"
         ],
         "yaxis": "y"
        },
        {
         "hovertemplate": "Name=%{y}<br>Kapitel=%{x}<extra></extra>",
         "legendgroup": "Leviathan Leiji",
         "marker": {
          "color": "#FFA15A",
          "line": {
           "width": 1
          },
          "size": 5,
          "symbol": "square"
         },
         "mode": "markers",
         "name": "Leviathan Leiji",
         "showlegend": true,
         "type": "scattergl",
         "x": {
          "bdata": "zQDPABgBIwEkASUBJgEoASsBLQEuAS8BMwE1AYQBhQGGAYcB",
          "dtype": "i2"
         },
         "xaxis": "x",
         "y": [
          "Leviathan Leiji",
          "Leviathan Leiji",
          "Leviathan Leiji",
          "Leviathan Leiji",
          "Leviathan Leiji",
          "Leviathan Leiji",
          "Leviathan Leiji",
          "Leviathan Leiji",
          "Leviathan Leiji",
          "Leviathan Leiji",
          "Leviathan Leiji",
          "Leviathan Leiji",
          "Leviathan Leiji",
          "Leviathan Leiji",
          "Leviathan Leiji",
          "Leviathan Leiji",
          "Leviathan Leiji",
          "Leviathan Leiji"
         ],
         "yaxis": "y"
        },
        {
         "hovertemplate": "Name=%{y}<br>Kapitel=%{x}<extra></extra>",
         "legendgroup": "Belial-Berry Razberry",
         "marker": {
          "color": "#19d3f3",
          "line": {
           "width": 1
          },
          "size": 5,
          "symbol": "square"
         },
         "mode": "markers",
         "name": "Belial-Berry Razberry",
         "showlegend": true,
         "type": "scattergl",
         "x": {
          "bdata": "zQDPABgBIwEkASUBJgEoASkBKwEtAS4BLwEzATUBdQE=",
          "dtype": "i2"
         },
         "xaxis": "x",
         "y": [
          "Belial-Berry Razberry",
          "Belial-Berry Razberry",
          "Belial-Berry Razberry",
          "Belial-Berry Razberry",
          "Belial-Berry Razberry",
          "Belial-Berry Razberry",
          "Belial-Berry Razberry",
          "Belial-Berry Razberry",
          "Belial-Berry Razberry",
          "Belial-Berry Razberry",
          "Belial-Berry Razberry",
          "Belial-Berry Razberry",
          "Belial-Berry Razberry",
          "Belial-Berry Razberry",
          "Belial-Berry Razberry",
          "Belial-Berry Razberry"
         ],
         "yaxis": "y"
        },
        {
         "hovertemplate": "Name=%{y}<br>Kapitel=%{x}<extra></extra>",
         "legendgroup": "Eita Oni",
         "marker": {
          "color": "#FF6692",
          "line": {
           "width": 1
          },
          "size": 5,
          "symbol": "square"
         },
         "mode": "markers",
         "name": "Eita Oni",
         "showlegend": true,
         "type": "scattergl",
         "x": {
          "bdata": "1gA=",
          "dtype": "i2"
         },
         "xaxis": "x",
         "y": [
          "Eita Oni"
         ],
         "yaxis": "y"
        },
        {
         "hovertemplate": "Name=%{y}<br>Kapitel=%{x}<extra></extra>",
         "legendgroup": "Pulu Puko",
         "marker": {
          "color": "#B6E880",
          "line": {
           "width": 1
          },
          "size": 5,
          "symbol": "square"
         },
         "mode": "markers",
         "name": "Pulu Puko",
         "showlegend": true,
         "type": "scattergl",
         "x": {
          "bdata": "1gDfAOAA4QDpAOwA9gAbAVkB",
          "dtype": "i2"
         },
         "xaxis": "x",
         "y": [
          "Pulu Puko",
          "Pulu Puko",
          "Pulu Puko",
          "Pulu Puko",
          "Pulu Puko",
          "Pulu Puko",
          "Pulu Puko",
          "Pulu Puko",
          "Pulu Puko"
         ],
         "yaxis": "y"
        },
        {
         "hovertemplate": "Name=%{y}<br>Kapitel=%{x}<extra></extra>",
         "legendgroup": "Strow Fuwatoro",
         "marker": {
          "color": "#FF97FF",
          "line": {
           "width": 1
          },
          "size": 5,
          "symbol": "square"
         },
         "mode": "markers",
         "name": "Strow Fuwatoro",
         "showlegend": true,
         "type": "scattergl",
         "x": {
          "bdata": "1wDfAOAA4QDiAOMA5ADoAOsA7AAMARsBIQE=",
          "dtype": "i2"
         },
         "xaxis": "x",
         "y": [
          "Strow Fuwatoro",
          "Strow Fuwatoro",
          "Strow Fuwatoro",
          "Strow Fuwatoro",
          "Strow Fuwatoro",
          "Strow Fuwatoro",
          "Strow Fuwatoro",
          "Strow Fuwatoro",
          "Strow Fuwatoro",
          "Strow Fuwatoro",
          "Strow Fuwatoro",
          "Strow Fuwatoro",
          "Strow Fuwatoro"
         ],
         "yaxis": "y"
        },
        {
         "hovertemplate": "Name=%{y}<br>Kapitel=%{x}<extra></extra>",
         "legendgroup": "Hon Rin Chan",
         "marker": {
          "color": "#FECB52",
          "line": {
           "width": 1
          },
          "size": 5,
          "symbol": "square"
         },
         "mode": "markers",
         "name": "Hon Rin Chan",
         "showlegend": true,
         "type": "scattergl",
         "x": {
          "bdata": "1wDgAOEA6ADpAOwADgEbAVkB",
          "dtype": "i2"
         },
         "xaxis": "x",
         "y": [
          "Hon Rin Chan",
          "Hon Rin Chan",
          "Hon Rin Chan",
          "Hon Rin Chan",
          "Hon Rin Chan",
          "Hon Rin Chan",
          "Hon Rin Chan",
          "Hon Rin Chan",
          "Hon Rin Chan"
         ],
         "yaxis": "y"
        },
        {
         "hovertemplate": "Name=%{y}<br>Kapitel=%{x}<extra></extra>",
         "legendgroup": "Zepar Zeze",
         "marker": {
          "color": "#636efa",
          "line": {
           "width": 1
          },
          "size": 5,
          "symbol": "square"
         },
         "mode": "markers",
         "name": "Zepar Zeze",
         "showlegend": true,
         "type": "scattergl",
         "x": {
          "bdata": "1wDfAOAA4QDiAOkA7ADtAO4A7wD0APUA9gANARkBGgEdAUsBTQFOAU8BVQFYAVkBXAE=",
          "dtype": "i2"
         },
         "xaxis": "x",
         "y": [
          "Zepar Zeze",
          "Zepar Zeze",
          "Zepar Zeze",
          "Zepar Zeze",
          "Zepar Zeze",
          "Zepar Zeze",
          "Zepar Zeze",
          "Zepar Zeze",
          "Zepar Zeze",
          "Zepar Zeze",
          "Zepar Zeze",
          "Zepar Zeze",
          "Zepar Zeze",
          "Zepar Zeze",
          "Zepar Zeze",
          "Zepar Zeze",
          "Zepar Zeze",
          "Zepar Zeze",
          "Zepar Zeze",
          "Zepar Zeze",
          "Zepar Zeze",
          "Zepar Zeze",
          "Zepar Zeze",
          "Zepar Zeze",
          "Zepar Zeze"
         ],
         "yaxis": "y"
        },
        {
         "hovertemplate": "Name=%{y}<br>Kapitel=%{x}<extra></extra>",
         "legendgroup": "Valefar Chacha",
         "marker": {
          "color": "#EF553B",
          "line": {
           "width": 1
          },
          "size": 5,
          "symbol": "square"
         },
         "mode": "markers",
         "name": "Valefar Chacha",
         "showlegend": true,
         "type": "scattergl",
         "x": {
          "bdata": "1wDgAOEA7AD2AAwBGwE=",
          "dtype": "i2"
         },
         "xaxis": "x",
         "y": [
          "Valefar Chacha",
          "Valefar Chacha",
          "Valefar Chacha",
          "Valefar Chacha",
          "Valefar Chacha",
          "Valefar Chacha",
          "Valefar Chacha"
         ],
         "yaxis": "y"
        },
        {
         "hovertemplate": "Name=%{y}<br>Kapitel=%{x}<extra></extra>",
         "legendgroup": "Incu Pamela",
         "marker": {
          "color": "#00cc96",
          "line": {
           "width": 1
          },
          "size": 5,
          "symbol": "square"
         },
         "mode": "markers",
         "name": "Incu Pamela",
         "showlegend": true,
         "type": "scattergl",
         "x": {
          "bdata": "1wDfAOAA4QDoAOwAFQEbAQ==",
          "dtype": "i2"
         },
         "xaxis": "x",
         "y": [
          "Incu Pamela",
          "Incu Pamela",
          "Incu Pamela",
          "Incu Pamela",
          "Incu Pamela",
          "Incu Pamela",
          "Incu Pamela",
          "Incu Pamela"
         ],
         "yaxis": "y"
        },
        {
         "hovertemplate": "Name=%{y}<br>Kapitel=%{x}<extra></extra>",
         "legendgroup": "Ronron",
         "marker": {
          "color": "#ab63fa",
          "line": {
           "width": 1
          },
          "size": 5,
          "symbol": "square"
         },
         "mode": "markers",
         "name": "Ronron",
         "showlegend": true,
         "type": "scattergl",
         "x": {
          "bdata": "3wDgAOEA6QDsAPYAGwFZAQ==",
          "dtype": "i2"
         },
         "xaxis": "x",
         "y": [
          "Ronron",
          "Ronron",
          "Ronron",
          "Ronron",
          "Ronron",
          "Ronron",
          "Ronron",
          "Ronron"
         ],
         "yaxis": "y"
        },
        {
         "hovertemplate": "Name=%{y}<br>Kapitel=%{x}<extra></extra>",
         "legendgroup": "Ras Mozumi",
         "marker": {
          "color": "#FFA15A",
          "line": {
           "width": 1
          },
          "size": 5,
          "symbol": "square"
         },
         "mode": "markers",
         "name": "Ras Mozumi",
         "showlegend": true,
         "type": "scattergl",
         "x": {
          "bdata": "3wDgAOEA6ADpAOwANQE=",
          "dtype": "i2"
         },
         "xaxis": "x",
         "y": [
          "Ras Mozumi",
          "Ras Mozumi",
          "Ras Mozumi",
          "Ras Mozumi",
          "Ras Mozumi",
          "Ras Mozumi",
          "Ras Mozumi"
         ],
         "yaxis": "y"
        },
        {
         "hovertemplate": "Name=%{y}<br>Kapitel=%{x}<extra></extra>",
         "legendgroup": "Marbas F. Yabashi",
         "marker": {
          "color": "#19d3f3",
          "line": {
           "width": 1
          },
          "size": 5,
          "symbol": "square"
         },
         "mode": "markers",
         "name": "Marbas F. Yabashi",
         "showlegend": true,
         "type": "scattergl",
         "x": {
          "bdata": "3wDgAOEA4gDjAOQA6ADpAOsA7AAMARsBHAEdASEBMAFHAUgBSQFKAU4BUQFSAVMBVAFVAVYBVwFYAVoBXAFdAV4BgwE=",
          "dtype": "i2"
         },
         "xaxis": "x",
         "y": [
          "Marbas F. Yabashi",
          "Marbas F. Yabashi",
          "Marbas F. Yabashi",
          "Marbas F. Yabashi",
          "Marbas F. Yabashi",
          "Marbas F. Yabashi",
          "Marbas F. Yabashi",
          "Marbas F. Yabashi",
          "Marbas F. Yabashi",
          "Marbas F. Yabashi",
          "Marbas F. Yabashi",
          "Marbas F. Yabashi",
          "Marbas F. Yabashi",
          "Marbas F. Yabashi",
          "Marbas F. Yabashi",
          "Marbas F. Yabashi",
          "Marbas F. Yabashi",
          "Marbas F. Yabashi",
          "Marbas F. Yabashi",
          "Marbas F. Yabashi",
          "Marbas F. Yabashi",
          "Marbas F. Yabashi",
          "Marbas F. Yabashi",
          "Marbas F. Yabashi",
          "Marbas F. Yabashi",
          "Marbas F. Yabashi",
          "Marbas F. Yabashi",
          "Marbas F. Yabashi",
          "Marbas F. Yabashi",
          "Marbas F. Yabashi",
          "Marbas F. Yabashi",
          "Marbas F. Yabashi",
          "Marbas F. Yabashi",
          "Marbas F. Yabashi"
         ],
         "yaxis": "y"
        },
        {
         "hovertemplate": "Name=%{y}<br>Kapitel=%{x}<extra></extra>",
         "legendgroup": "Vine Garson",
         "marker": {
          "color": "#FF6692",
          "line": {
           "width": 1
          },
          "size": 5,
          "symbol": "square"
         },
         "mode": "markers",
         "name": "Vine Garson",
         "showlegend": true,
         "type": "scattergl",
         "x": {
          "bdata": "3wDgAOEA5ADlAOYA5wDoAOwADQEPARkBHQFHAUsBTAFOAVkB",
          "dtype": "i2"
         },
         "xaxis": "x",
         "y": [
          "Vine Garson",
          "Vine Garson",
          "Vine Garson",
          "Vine Garson",
          "Vine Garson",
          "Vine Garson",
          "Vine Garson",
          "Vine Garson",
          "Vine Garson",
          "Vine Garson",
          "Vine Garson",
          "Vine Garson",
          "Vine Garson",
          "Vine Garson",
          "Vine Garson",
          "Vine Garson",
          "Vine Garson",
          "Vine Garson"
         ],
         "yaxis": "y"
        },
        {
         "hovertemplate": "Name=%{y}<br>Kapitel=%{x}<extra></extra>",
         "legendgroup": "Aim Oolo",
         "marker": {
          "color": "#B6E880",
          "line": {
           "width": 1
          },
          "size": 5,
          "symbol": "square"
         },
         "mode": "markers",
         "name": "Aim Oolo",
         "showlegend": true,
         "type": "scattergl",
         "x": {
          "bdata": "3wDgAOEA4wDoABsB",
          "dtype": "i2"
         },
         "xaxis": "x",
         "y": [
          "Aim Oolo",
          "Aim Oolo",
          "Aim Oolo",
          "Aim Oolo",
          "Aim Oolo",
          "Aim Oolo"
         ],
         "yaxis": "y"
        },
        {
         "hovertemplate": "Name=%{y}<br>Kapitel=%{x}<extra></extra>",
         "legendgroup": "Gebatee Yan",
         "marker": {
          "color": "#FF97FF",
          "line": {
           "width": 1
          },
          "size": 5,
          "symbol": "square"
         },
         "mode": "markers",
         "name": "Gebatee Yan",
         "showlegend": true,
         "type": "scattergl",
         "x": {
          "bdata": "3wDgAOEA9gA1AQ==",
          "dtype": "i2"
         },
         "xaxis": "x",
         "y": [
          "Gebatee Yan",
          "Gebatee Yan",
          "Gebatee Yan",
          "Gebatee Yan",
          "Gebatee Yan"
         ],
         "yaxis": "y"
        },
        {
         "hovertemplate": "Name=%{y}<br>Kapitel=%{x}<extra></extra>",
         "legendgroup": "Nix Nikomaru",
         "marker": {
          "color": "#FECB52",
          "line": {
           "width": 1
          },
          "size": 5,
          "symbol": "square"
         },
         "mode": "markers",
         "name": "Nix Nikomaru",
         "showlegend": true,
         "type": "scattergl",
         "x": {
          "bdata": "3wDgAOgA6QDqAOsA7AAbAYkB",
          "dtype": "i2"
         },
         "xaxis": "x",
         "y": [
          "Nix Nikomaru",
          "Nix Nikomaru",
          "Nix Nikomaru",
          "Nix Nikomaru",
          "Nix Nikomaru",
          "Nix Nikomaru",
          "Nix Nikomaru",
          "Nix Nikomaru",
          "Nix Nikomaru"
         ],
         "yaxis": "y"
        },
        {
         "hovertemplate": "Name=%{y}<br>Kapitel=%{x}<extra></extra>",
         "legendgroup": "Chimii Pemopemo",
         "marker": {
          "color": "#636efa",
          "line": {
           "width": 1
          },
          "size": 5,
          "symbol": "square"
         },
         "mode": "markers",
         "name": "Chimii Pemopemo",
         "showlegend": true,
         "type": "scattergl",
         "x": {
          "bdata": "4AAbAQ==",
          "dtype": "i2"
         },
         "xaxis": "x",
         "y": [
          "Chimii Pemopemo",
          "Chimii Pemopemo"
         ],
         "yaxis": "y"
        },
        {
         "hovertemplate": "Name=%{y}<br>Kapitel=%{x}<extra></extra>",
         "legendgroup": "Demii Pemopemo",
         "marker": {
          "color": "#EF553B",
          "line": {
           "width": 1
          },
          "size": 5,
          "symbol": "square"
         },
         "mode": "markers",
         "name": "Demii Pemopemo",
         "showlegend": true,
         "type": "scattergl",
         "x": {
          "bdata": "4AAbAQ==",
          "dtype": "i2"
         },
         "xaxis": "x",
         "y": [
          "Demii Pemopemo",
          "Demii Pemopemo"
         ],
         "yaxis": "y"
        },
        {
         "hovertemplate": "Name=%{y}<br>Kapitel=%{x}<extra></extra>",
         "legendgroup": "Parpar Shin",
         "marker": {
          "color": "#00cc96",
          "line": {
           "width": 1
          },
          "size": 5,
          "symbol": "square"
         },
         "mode": "markers",
         "name": "Parpar Shin",
         "showlegend": true,
         "type": "scattergl",
         "x": {
          "bdata": "4ADpAOwA7QD2ABUBGwE=",
          "dtype": "i2"
         },
         "xaxis": "x",
         "y": [
          "Parpar Shin",
          "Parpar Shin",
          "Parpar Shin",
          "Parpar Shin",
          "Parpar Shin",
          "Parpar Shin",
          "Parpar Shin"
         ],
         "yaxis": "y"
        },
        {
         "hovertemplate": "Name=%{y}<br>Kapitel=%{x}<extra></extra>",
         "legendgroup": "Parpar Juju",
         "marker": {
          "color": "#ab63fa",
          "line": {
           "width": 1
          },
          "size": 5,
          "symbol": "square"
         },
         "mode": "markers",
         "name": "Parpar Juju",
         "showlegend": true,
         "type": "scattergl",
         "x": {
          "bdata": "4ADpAO0A9gAVARsBiQE=",
          "dtype": "i2"
         },
         "xaxis": "x",
         "y": [
          "Parpar Juju",
          "Parpar Juju",
          "Parpar Juju",
          "Parpar Juju",
          "Parpar Juju",
          "Parpar Juju",
          "Parpar Juju"
         ],
         "yaxis": "y"
        },
        {
         "hovertemplate": "Name=%{y}<br>Kapitel=%{x}<extra></extra>",
         "legendgroup": "Roel Michel",
         "marker": {
          "color": "#FFA15A",
          "line": {
           "width": 1
          },
          "size": 5,
          "symbol": "square"
         },
         "mode": "markers",
         "name": "Roel Michel",
         "showlegend": true,
         "type": "scattergl",
         "x": {
          "bdata": "4ADjAOgA6QDsABABEQE=",
          "dtype": "i2"
         },
         "xaxis": "x",
         "y": [
          "Roel Michel",
          "Roel Michel",
          "Roel Michel",
          "Roel Michel",
          "Roel Michel",
          "Roel Michel",
          "Roel Michel"
         ],
         "yaxis": "y"
        },
        {
         "hovertemplate": "Name=%{y}<br>Kapitel=%{x}<extra></extra>",
         "legendgroup": "Jig Zakumu",
         "marker": {
          "color": "#19d3f3",
          "line": {
           "width": 1
          },
          "size": 5,
          "symbol": "square"
         },
         "mode": "markers",
         "name": "Jig Zakumu",
         "showlegend": true,
         "type": "scattergl",
         "x": {
          "bdata": "4ADoAOkA7AAQAREB",
          "dtype": "i2"
         },
         "xaxis": "x",
         "y": [
          "Jig Zakumu",
          "Jig Zakumu",
          "Jig Zakumu",
          "Jig Zakumu",
          "Jig Zakumu",
          "Jig Zakumu"
         ],
         "yaxis": "y"
        },
        {
         "hovertemplate": "Name=%{y}<br>Kapitel=%{x}<extra></extra>",
         "legendgroup": "Pheené Marianne",
         "marker": {
          "color": "#FF6692",
          "line": {
           "width": 1
          },
          "size": 5,
          "symbol": "square"
         },
         "mode": "markers",
         "name": "Pheené Marianne",
         "showlegend": true,
         "type": "scattergl",
         "x": {
          "bdata": "4ADhAOMA7ADtAO4A7wD0APUA9gAbAVkB",
          "dtype": "i2"
         },
         "xaxis": "x",
         "y": [
          "Pheené Marianne",
          "Pheené Marianne",
          "Pheené Marianne",
          "Pheené Marianne",
          "Pheené Marianne",
          "Pheené Marianne",
          "Pheené Marianne",
          "Pheené Marianne",
          "Pheené Marianne",
          "Pheené Marianne",
          "Pheené Marianne",
          "Pheené Marianne"
         ],
         "yaxis": "y"
        },
        {
         "hovertemplate": "Name=%{y}<br>Kapitel=%{x}<extra></extra>",
         "legendgroup": "Uzu",
         "marker": {
          "color": "#B6E880",
          "line": {
           "width": 1
          },
          "size": 5,
          "symbol": "square"
         },
         "mode": "markers",
         "name": "Uzu",
         "showlegend": true,
         "type": "scattergl",
         "x": {
          "bdata": "4ADhAOMA7ADtAO4A7wD0APUA9gAbAVkB",
          "dtype": "i2"
         },
         "xaxis": "x",
         "y": [
          "Uzu",
          "Uzu",
          "Uzu",
          "Uzu",
          "Uzu",
          "Uzu",
          "Uzu",
          "Uzu",
          "Uzu",
          "Uzu",
          "Uzu",
          "Uzu"
         ],
         "yaxis": "y"
        },
        {
         "hovertemplate": "Name=%{y}<br>Kapitel=%{x}<extra></extra>",
         "legendgroup": "Seir Sepata",
         "marker": {
          "color": "#FF97FF",
          "line": {
           "width": 1
          },
          "size": 5,
          "symbol": "square"
         },
         "mode": "markers",
         "name": "Seir Sepata",
         "showlegend": true,
         "type": "scattergl",
         "x": {
          "bdata": "4ADoAOkA6gDrAOwADAEbAYkB",
          "dtype": "i2"
         },
         "xaxis": "x",
         "y": [
          "Seir Sepata",
          "Seir Sepata",
          "Seir Sepata",
          "Seir Sepata",
          "Seir Sepata",
          "Seir Sepata",
          "Seir Sepata",
          "Seir Sepata",
          "Seir Sepata"
         ],
         "yaxis": "y"
        },
        {
         "hovertemplate": "Name=%{y}<br>Kapitel=%{x}<extra></extra>",
         "legendgroup": "Cedar",
         "marker": {
          "color": "#FECB52",
          "line": {
           "width": 1
          },
          "size": 5,
          "symbol": "square"
         },
         "mode": "markers",
         "name": "Cedar",
         "showlegend": true,
         "type": "scattergl",
         "x": {
          "bdata": "5QA=",
          "dtype": "i2"
         },
         "xaxis": "x",
         "y": [
          "Cedar"
         ],
         "yaxis": "y"
        },
        {
         "hovertemplate": "Name=%{y}<br>Kapitel=%{x}<extra></extra>",
         "legendgroup": "Purson Purton",
         "marker": {
          "color": "#636efa",
          "line": {
           "width": 1
          },
          "size": 5,
          "symbol": "square"
         },
         "mode": "markers",
         "name": "Purson Purton",
         "showlegend": true,
         "type": "scattergl",
         "x": {
          "bdata": "6QDqAA==",
          "dtype": "i2"
         },
         "xaxis": "x",
         "y": [
          "Purson Purton",
          "Purson Purton"
         ],
         "yaxis": "y"
        },
        {
         "hovertemplate": "Name=%{y}<br>Kapitel=%{x}<extra></extra>",
         "legendgroup": "Purson's father",
         "marker": {
          "color": "#EF553B",
          "line": {
           "width": 1
          },
          "size": 5,
          "symbol": "square"
         },
         "mode": "markers",
         "name": "Purson's father",
         "showlegend": true,
         "type": "scattergl",
         "x": {
          "bdata": "6gA=",
          "dtype": "i2"
         },
         "xaxis": "x",
         "y": [
          "Purson's father"
         ],
         "yaxis": "y"
        },
        {
         "hovertemplate": "Name=%{y}<br>Kapitel=%{x}<extra></extra>",
         "legendgroup": "Purson's mother",
         "marker": {
          "color": "#00cc96",
          "line": {
           "width": 1
          },
          "size": 5,
          "symbol": "square"
         },
         "mode": "markers",
         "name": "Purson's mother",
         "showlegend": true,
         "type": "scattergl",
         "x": {
          "bdata": "6gA=",
          "dtype": "i2"
         },
         "xaxis": "x",
         "y": [
          "Purson's mother"
         ],
         "yaxis": "y"
        },
        {
         "hovertemplate": "Name=%{y}<br>Kapitel=%{x}<extra></extra>",
         "legendgroup": "Thomas",
         "marker": {
          "color": "#ab63fa",
          "line": {
           "width": 1
          },
          "size": 5,
          "symbol": "square"
         },
         "mode": "markers",
         "name": "Thomas",
         "showlegend": true,
         "type": "scattergl",
         "x": {
          "bdata": "6wDsABIBFQEbAXYB",
          "dtype": "i2"
         },
         "xaxis": "x",
         "y": [
          "Thomas",
          "Thomas",
          "Thomas",
          "Thomas",
          "Thomas",
          "Thomas"
         ],
         "yaxis": "y"
        },
        {
         "hovertemplate": "Name=%{y}<br>Kapitel=%{x}<extra></extra>",
         "legendgroup": "Shimaji",
         "marker": {
          "color": "#FFA15A",
          "line": {
           "width": 1
          },
          "size": 5,
          "symbol": "square"
         },
         "mode": "markers",
         "name": "Shimaji",
         "showlegend": true,
         "type": "scattergl",
         "x": {
          "bdata": "6wDsABIBFQEbAXYB",
          "dtype": "i2"
         },
         "xaxis": "x",
         "y": [
          "Shimaji",
          "Shimaji",
          "Shimaji",
          "Shimaji",
          "Shimaji",
          "Shimaji"
         ],
         "yaxis": "y"
        },
        {
         "hovertemplate": "Name=%{y}<br>Kapitel=%{x}<extra></extra>",
         "legendgroup": "Zepar Palalaika",
         "marker": {
          "color": "#19d3f3",
          "line": {
           "width": 1
          },
          "size": 5,
          "symbol": "square"
         },
         "mode": "markers",
         "name": "Zepar Palalaika",
         "showlegend": true,
         "type": "scattergl",
         "x": {
          "bdata": "9QA=",
          "dtype": "i2"
         },
         "xaxis": "x",
         "y": [
          "Zepar Palalaika"
         ],
         "yaxis": "y"
        },
        {
         "hovertemplate": "Name=%{y}<br>Kapitel=%{x}<extra></extra>",
         "legendgroup": "Zepar Zoui",
         "marker": {
          "color": "#FF6692",
          "line": {
           "width": 1
          },
          "size": 5,
          "symbol": "square"
         },
         "mode": "markers",
         "name": "Zepar Zoui",
         "showlegend": true,
         "type": "scattergl",
         "x": {
          "bdata": "9QBOAU8BUAFRAVYBWAFcAV8B",
          "dtype": "i2"
         },
         "xaxis": "x",
         "y": [
          "Zepar Zoui",
          "Zepar Zoui",
          "Zepar Zoui",
          "Zepar Zoui",
          "Zepar Zoui",
          "Zepar Zoui",
          "Zepar Zoui",
          "Zepar Zoui",
          "Zepar Zoui"
         ],
         "yaxis": "y"
        },
        {
         "hovertemplate": "Name=%{y}<br>Kapitel=%{x}<extra></extra>",
         "legendgroup": "Zepar Zera",
         "marker": {
          "color": "#B6E880",
          "line": {
           "width": 1
          },
          "size": 5,
          "symbol": "square"
         },
         "mode": "markers",
         "name": "Zepar Zera",
         "showlegend": true,
         "type": "scattergl",
         "x": {
          "bdata": "9QA=",
          "dtype": "i2"
         },
         "xaxis": "x",
         "y": [
          "Zepar Zera"
         ],
         "yaxis": "y"
        },
        {
         "hovertemplate": "Name=%{y}<br>Kapitel=%{x}<extra></extra>",
         "legendgroup": "Otonja",
         "marker": {
          "color": "#FF97FF",
          "line": {
           "width": 1
          },
          "size": 5,
          "symbol": "square"
         },
         "mode": "markers",
         "name": "Otonja",
         "showlegend": true,
         "type": "scattergl",
         "x": {
          "bdata": "DgE=",
          "dtype": "i2"
         },
         "xaxis": "x",
         "y": [
          "Otonja"
         ],
         "yaxis": "y"
        },
        {
         "hovertemplate": "Name=%{y}<br>Kapitel=%{x}<extra></extra>",
         "legendgroup": "Harpnus",
         "marker": {
          "color": "#FECB52",
          "line": {
           "width": 1
          },
          "size": 5,
          "symbol": "square"
         },
         "mode": "markers",
         "name": "Harpnus",
         "showlegend": true,
         "type": "scattergl",
         "x": {
          "bdata": "EQElAQ==",
          "dtype": "i2"
         },
         "xaxis": "x",
         "y": [
          "Harpnus",
          "Harpnus"
         ],
         "yaxis": "y"
        },
        {
         "hovertemplate": "Name=%{y}<br>Kapitel=%{x}<extra></extra>",
         "legendgroup": "Yuna",
         "marker": {
          "color": "#636efa",
          "line": {
           "width": 1
          },
          "size": 5,
          "symbol": "square"
         },
         "mode": "markers",
         "name": "Yuna",
         "showlegend": true,
         "type": "scattergl",
         "x": {
          "bdata": "EgEbAQ==",
          "dtype": "i2"
         },
         "xaxis": "x",
         "y": [
          "Yuna",
          "Yuna"
         ],
         "yaxis": "y"
        },
        {
         "hovertemplate": "Name=%{y}<br>Kapitel=%{x}<extra></extra>",
         "legendgroup": "Laura",
         "marker": {
          "color": "#EF553B",
          "line": {
           "width": 1
          },
          "size": 5,
          "symbol": "square"
         },
         "mode": "markers",
         "name": "Laura",
         "showlegend": true,
         "type": "scattergl",
         "x": {
          "bdata": "EgE=",
          "dtype": "i2"
         },
         "xaxis": "x",
         "y": [
          "Laura"
         ],
         "yaxis": "y"
        },
        {
         "hovertemplate": "Name=%{y}<br>Kapitel=%{x}<extra></extra>",
         "legendgroup": "Homin",
         "marker": {
          "color": "#00cc96",
          "line": {
           "width": 1
          },
          "size": 5,
          "symbol": "square"
         },
         "mode": "markers",
         "name": "Homin",
         "showlegend": true,
         "type": "scattergl",
         "x": {
          "bdata": "EgE=",
          "dtype": "i2"
         },
         "xaxis": "x",
         "y": [
          "Homin"
         ],
         "yaxis": "y"
        },
        {
         "hovertemplate": "Name=%{y}<br>Kapitel=%{x}<extra></extra>",
         "legendgroup": "Beeber",
         "marker": {
          "color": "#ab63fa",
          "line": {
           "width": 1
          },
          "size": 5,
          "symbol": "square"
         },
         "mode": "markers",
         "name": "Beeber",
         "showlegend": true,
         "type": "scattergl",
         "x": {
          "bdata": "EgF3AXkB",
          "dtype": "i2"
         },
         "xaxis": "x",
         "y": [
          "Beeber",
          "Beeber",
          "Beeber"
         ],
         "yaxis": "y"
        },
        {
         "hovertemplate": "Name=%{y}<br>Kapitel=%{x}<extra></extra>",
         "legendgroup": "Naberius Narnia",
         "marker": {
          "color": "#FFA15A",
          "line": {
           "width": 1
          },
          "size": 5,
          "symbol": "square"
         },
         "mode": "markers",
         "name": "Naberius Narnia",
         "showlegend": true,
         "type": "scattergl",
         "x": {
          "bdata": "EwEUARgBIQEiASMBJAElASYBJwEpASoBKwExATIBMwE0ATYBOgE8AT8BRAFfAW0BbwFxAQ==",
          "dtype": "i2"
         },
         "xaxis": "x",
         "y": [
          "Naberius Narnia",
          "Naberius Narnia",
          "Naberius Narnia",
          "Naberius Narnia",
          "Naberius Narnia",
          "Naberius Narnia",
          "Naberius Narnia",
          "Naberius Narnia",
          "Naberius Narnia",
          "Naberius Narnia",
          "Naberius Narnia",
          "Naberius Narnia",
          "Naberius Narnia",
          "Naberius Narnia",
          "Naberius Narnia",
          "Naberius Narnia",
          "Naberius Narnia",
          "Naberius Narnia",
          "Naberius Narnia",
          "Naberius Narnia",
          "Naberius Narnia",
          "Naberius Narnia",
          "Naberius Narnia",
          "Naberius Narnia",
          "Naberius Narnia",
          "Naberius Narnia"
         ],
         "yaxis": "y"
        },
        {
         "hovertemplate": "Name=%{y}<br>Kapitel=%{x}<extra></extra>",
         "legendgroup": "Lord Balial",
         "marker": {
          "color": "#19d3f3",
          "line": {
           "width": 1
          },
          "size": 5,
          "symbol": "square"
         },
         "mode": "markers",
         "name": "Lord Balial",
         "showlegend": true,
         "type": "scattergl",
         "x": {
          "bdata": "GAE=",
          "dtype": "i2"
         },
         "xaxis": "x",
         "y": [
          "Lord Balial"
         ],
         "yaxis": "y"
        },
        {
         "hovertemplate": "Name=%{y}<br>Kapitel=%{x}<extra></extra>",
         "legendgroup": "Lady Levi",
         "marker": {
          "color": "#FF6692",
          "line": {
           "width": 1
          },
          "size": 5,
          "symbol": "square"
         },
         "mode": "markers",
         "name": "Lady Levi",
         "showlegend": true,
         "type": "scattergl",
         "x": {
          "bdata": "GAE=",
          "dtype": "i2"
         },
         "xaxis": "x",
         "y": [
          "Lady Levi"
         ],
         "yaxis": "y"
        },
        {
         "hovertemplate": "Name=%{y}<br>Kapitel=%{x}<extra></extra>",
         "legendgroup": "Mephisto",
         "marker": {
          "color": "#B6E880",
          "line": {
           "width": 1
          },
          "size": 5,
          "symbol": "square"
         },
         "mode": "markers",
         "name": "Mephisto",
         "showlegend": true,
         "type": "scattergl",
         "x": {
          "bdata": "IgEmAScBKgErATUBNgE6AUEBQgFDAUQBXAFdAQ==",
          "dtype": "i2"
         },
         "xaxis": "x",
         "y": [
          "Mephisto",
          "Mephisto",
          "Mephisto",
          "Mephisto",
          "Mephisto",
          "Mephisto",
          "Mephisto",
          "Mephisto",
          "Mephisto",
          "Mephisto",
          "Mephisto",
          "Mephisto",
          "Mephisto",
          "Mephisto"
         ],
         "yaxis": "y"
        },
        {
         "hovertemplate": "Name=%{y}<br>Kapitel=%{x}<extra></extra>",
         "legendgroup": "Zebubra",
         "marker": {
          "color": "#FF97FF",
          "line": {
           "width": 1
          },
          "size": 5,
          "symbol": "square"
         },
         "mode": "markers",
         "name": "Zebubra",
         "showlegend": true,
         "type": "scattergl",
         "x": {
          "bdata": "IgEmAScBKgErASwBLgFAAUEBQgE=",
          "dtype": "i2"
         },
         "xaxis": "x",
         "y": [
          "Zebubra",
          "Zebubra",
          "Zebubra",
          "Zebubra",
          "Zebubra",
          "Zebubra",
          "Zebubra",
          "Zebubra",
          "Zebubra",
          "Zebubra"
         ],
         "yaxis": "y"
        },
        {
         "hovertemplate": "Name=%{y}<br>Kapitel=%{x}<extra></extra>",
         "legendgroup": "Fenrir",
         "marker": {
          "color": "#FECB52",
          "line": {
           "width": 1
          },
          "size": 5,
          "symbol": "square"
         },
         "mode": "markers",
         "name": "Fenrir",
         "showlegend": true,
         "type": "scattergl",
         "x": {
          "bdata": "IwEmAScBKAEpASoBKwExATIBMwE0AXAB",
          "dtype": "i2"
         },
         "xaxis": "x",
         "y": [
          "Fenrir",
          "Fenrir",
          "Fenrir",
          "Fenrir",
          "Fenrir",
          "Fenrir",
          "Fenrir",
          "Fenrir",
          "Fenrir",
          "Fenrir",
          "Fenrir",
          "Fenrir"
         ],
         "yaxis": "y"
        },
        {
         "hovertemplate": "Name=%{y}<br>Kapitel=%{x}<extra></extra>",
         "legendgroup": "Shura",
         "marker": {
          "color": "#636efa",
          "line": {
           "width": 1
          },
          "size": 5,
          "symbol": "square"
         },
         "mode": "markers",
         "name": "Shura",
         "showlegend": true,
         "type": "scattergl",
         "x": {
          "bdata": "JQEmASwBLQEuAS8BMgE1ATYBPAFFAQ==",
          "dtype": "i2"
         },
         "xaxis": "x",
         "y": [
          "Shura",
          "Shura",
          "Shura",
          "Shura",
          "Shura",
          "Shura",
          "Shura",
          "Shura",
          "Shura",
          "Shura",
          "Shura"
         ],
         "yaxis": "y"
        },
        {
         "hovertemplate": "Name=%{y}<br>Kapitel=%{x}<extra></extra>",
         "legendgroup": "The Three Greats",
         "marker": {
          "color": "#EF553B",
          "line": {
           "width": 1
          },
          "size": 5,
          "symbol": "square"
         },
         "mode": "markers",
         "name": "The Three Greats",
         "showlegend": true,
         "type": "scattergl",
         "x": {
          "bdata": "JwEqATEBNQFGAWEBbgGTAQ==",
          "dtype": "i2"
         },
         "xaxis": "x",
         "y": [
          "The Three Greats",
          "The Three Greats",
          "The Three Greats",
          "The Three Greats",
          "The Three Greats",
          "The Three Greats",
          "The Three Greats",
          "The Three Greats"
         ],
         "yaxis": "y"
        },
        {
         "hovertemplate": "Name=%{y}<br>Kapitel=%{x}<extra></extra>",
         "legendgroup": "House Cats",
         "marker": {
          "color": "#00cc96",
          "line": {
           "width": 1
          },
          "size": 5,
          "symbol": "square"
         },
         "mode": "markers",
         "name": "House Cats",
         "showlegend": true,
         "type": "scattergl",
         "x": {
          "bdata": "MwE=",
          "dtype": "i2"
         },
         "xaxis": "x",
         "y": [
          "House Cats"
         ],
         "yaxis": "y"
        },
        {
         "hovertemplate": "Name=%{y}<br>Kapitel=%{x}<extra></extra>",
         "legendgroup": "Barbatos President",
         "marker": {
          "color": "#ab63fa",
          "line": {
           "width": 1
          },
          "size": 5,
          "symbol": "square"
         },
         "mode": "markers",
         "name": "Barbatos President",
         "showlegend": true,
         "type": "scattergl",
         "x": {
          "bdata": "NgE3ATgBOQE6AQ==",
          "dtype": "i2"
         },
         "xaxis": "x",
         "y": [
          "Barbatos President",
          "Barbatos President",
          "Barbatos President",
          "Barbatos President",
          "Barbatos President"
         ],
         "yaxis": "y"
        },
        {
         "hovertemplate": "Name=%{y}<br>Kapitel=%{x}<extra></extra>",
         "legendgroup": "Belzebuth Zebubra",
         "marker": {
          "color": "#FFA15A",
          "line": {
           "width": 1
          },
          "size": 5,
          "symbol": "square"
         },
         "mode": "markers",
         "name": "Belzebuth Zebubra",
         "showlegend": true,
         "type": "scattergl",
         "x": {
          "bdata": "QwFEAQ==",
          "dtype": "i2"
         },
         "xaxis": "x",
         "y": [
          "Belzebuth Zebubra",
          "Belzebuth Zebubra"
         ],
         "yaxis": "y"
        },
        {
         "hovertemplate": "Name=%{y}<br>Kapitel=%{x}<extra></extra>",
         "legendgroup": "Merize",
         "marker": {
          "color": "#19d3f3",
          "line": {
           "width": 1
          },
          "size": 5,
          "symbol": "square"
         },
         "mode": "markers",
         "name": "Merize",
         "showlegend": true,
         "type": "scattergl",
         "x": {
          "bdata": "RgFHAXEB",
          "dtype": "i2"
         },
         "xaxis": "x",
         "y": [
          "Merize",
          "Merize",
          "Merize"
         ],
         "yaxis": "y"
        },
        {
         "hovertemplate": "Name=%{y}<br>Kapitel=%{x}<extra></extra>",
         "legendgroup": "Vine Marnie",
         "marker": {
          "color": "#FF6692",
          "line": {
           "width": 1
          },
          "size": 5,
          "symbol": "square"
         },
         "mode": "markers",
         "name": "Vine Marnie",
         "showlegend": true,
         "type": "scattergl",
         "x": {
          "bdata": "SAFLAUwBTQFOAU8BUAFRAVMBVAFVAVYBVgFYAVkBWwFcAV4BXwE=",
          "dtype": "i2"
         },
         "xaxis": "x",
         "y": [
          "Vine Marnie",
          "Vine Marnie",
          "Vine Marnie",
          "Vine Marnie",
          "Vine Marnie",
          "Vine Marnie",
          "Vine Marnie",
          "Vine Marnie",
          "Vine Marnie",
          "Vine Marnie",
          "Vine Marnie",
          "Vine Marnie",
          "Vine Marnie",
          "Vine Marnie",
          "Vine Marnie",
          "Vine Marnie",
          "Vine Marnie",
          "Vine Marnie",
          "Vine Marnie"
         ],
         "yaxis": "y"
        },
        {
         "hovertemplate": "Name=%{y}<br>Kapitel=%{x}<extra></extra>",
         "legendgroup": "Hoshino Rin",
         "marker": {
          "color": "#B6E880",
          "line": {
           "width": 1
          },
          "size": 5,
          "symbol": "square"
         },
         "mode": "markers",
         "name": "Hoshino Rin",
         "showlegend": true,
         "type": "scattergl",
         "x": {
          "bdata": "SQE=",
          "dtype": "i2"
         },
         "xaxis": "x",
         "y": [
          "Hoshino Rin"
         ],
         "yaxis": "y"
        },
        {
         "hovertemplate": "Name=%{y}<br>Kapitel=%{x}<extra></extra>",
         "legendgroup": "Aozora Kakeru",
         "marker": {
          "color": "#FF97FF",
          "line": {
           "width": 1
          },
          "size": 5,
          "symbol": "square"
         },
         "mode": "markers",
         "name": "Aozora Kakeru",
         "showlegend": true,
         "type": "scattergl",
         "x": {
          "bdata": "SQE=",
          "dtype": "i2"
         },
         "xaxis": "x",
         "y": [
          "Aozora Kakeru"
         ],
         "yaxis": "y"
        },
        {
         "hovertemplate": "Name=%{y}<br>Kapitel=%{x}<extra></extra>",
         "legendgroup": "Beem",
         "marker": {
          "color": "#FECB52",
          "line": {
           "width": 1
          },
          "size": 5,
          "symbol": "square"
         },
         "mode": "markers",
         "name": "Beem",
         "showlegend": true,
         "type": "scattergl",
         "x": {
          "bdata": "SwE=",
          "dtype": "i2"
         },
         "xaxis": "x",
         "y": [
          "Beem"
         ],
         "yaxis": "y"
        },
        {
         "hovertemplate": "Name=%{y}<br>Kapitel=%{x}<extra></extra>",
         "legendgroup": "Palome",
         "marker": {
          "color": "#636efa",
          "line": {
           "width": 1
          },
          "size": 5,
          "symbol": "square"
         },
         "mode": "markers",
         "name": "Palome",
         "showlegend": true,
         "type": "scattergl",
         "x": {
          "bdata": "TAFQAVEBVwE=",
          "dtype": "i2"
         },
         "xaxis": "x",
         "y": [
          "Palome",
          "Palome",
          "Palome",
          "Palome"
         ],
         "yaxis": "y"
        },
        {
         "hovertemplate": "Name=%{y}<br>Kapitel=%{x}<extra></extra>",
         "legendgroup": "Beem R. Judain",
         "marker": {
          "color": "#EF553B",
          "line": {
           "width": 1
          },
          "size": 5,
          "symbol": "square"
         },
         "mode": "markers",
         "name": "Beem R. Judain",
         "showlegend": true,
         "type": "scattergl",
         "x": {
          "bdata": "TAFNAU8BUAFRAVIBUwFUAVUBVgFXAVgBWwFcAV4BXwE=",
          "dtype": "i2"
         },
         "xaxis": "x",
         "y": [
          "Beem R. Judain",
          "Beem R. Judain",
          "Beem R. Judain",
          "Beem R. Judain",
          "Beem R. Judain",
          "Beem R. Judain",
          "Beem R. Judain",
          "Beem R. Judain",
          "Beem R. Judain",
          "Beem R. Judain",
          "Beem R. Judain",
          "Beem R. Judain",
          "Beem R. Judain",
          "Beem R. Judain",
          "Beem R. Judain",
          "Beem R. Judain"
         ],
         "yaxis": "y"
        },
        {
         "hovertemplate": "Name=%{y}<br>Kapitel=%{x}<extra></extra>",
         "legendgroup": "Galna",
         "marker": {
          "color": "#00cc96",
          "line": {
           "width": 1
          },
          "size": 5,
          "symbol": "square"
         },
         "mode": "markers",
         "name": "Galna",
         "showlegend": true,
         "type": "scattergl",
         "x": {
          "bdata": "UAFRAVIBUwFUAVcBWAFaAVsBXAFdAV8B",
          "dtype": "i2"
         },
         "xaxis": "x",
         "y": [
          "Galna",
          "Galna",
          "Galna",
          "Galna",
          "Galna",
          "Galna",
          "Galna",
          "Galna",
          "Galna",
          "Galna",
          "Galna",
          "Galna"
         ],
         "yaxis": "y"
        },
        {
         "hovertemplate": "Name=%{y}<br>Kapitel=%{x}<extra></extra>",
         "legendgroup": "Mephistopheles",
         "marker": {
          "color": "#ab63fa",
          "line": {
           "width": 1
          },
          "size": 5,
          "symbol": "square"
         },
         "mode": "markers",
         "name": "Mephistopheles",
         "showlegend": true,
         "type": "scattergl",
         "x": {
          "bdata": "XwFgAWEBYgFlAWYBZwFsAW0BbgFvAXABcQFyAXMBdAF1AYoBiwGMAY0BjgGVAZcBmgE=",
          "dtype": "i2"
         },
         "xaxis": "x",
         "y": [
          "Mephistopheles",
          "Mephistopheles",
          "Mephistopheles",
          "Mephistopheles",
          "Mephistopheles",
          "Mephistopheles",
          "Mephistopheles",
          "Mephistopheles",
          "Mephistopheles",
          "Mephistopheles",
          "Mephistopheles",
          "Mephistopheles",
          "Mephistopheles",
          "Mephistopheles",
          "Mephistopheles",
          "Mephistopheles",
          "Mephistopheles",
          "Mephistopheles",
          "Mephistopheles",
          "Mephistopheles",
          "Mephistopheles",
          "Mephistopheles",
          "Mephistopheles",
          "Mephistopheles",
          "Mephistopheles"
         ],
         "yaxis": "y"
        },
        {
         "hovertemplate": "Name=%{y}<br>Kapitel=%{x}<extra></extra>",
         "legendgroup": "Meimei",
         "marker": {
          "color": "#FFA15A",
          "line": {
           "width": 1
          },
          "size": 5,
          "symbol": "square"
         },
         "mode": "markers",
         "name": "Meimei",
         "showlegend": true,
         "type": "scattergl",
         "x": {
          "bdata": "YAFhAWMB",
          "dtype": "i2"
         },
         "xaxis": "x",
         "y": [
          "Meimei",
          "Meimei",
          "Meimei"
         ],
         "yaxis": "y"
        },
        {
         "hovertemplate": "Name=%{y}<br>Kapitel=%{x}<extra></extra>",
         "legendgroup": "Munmu",
         "marker": {
          "color": "#19d3f3",
          "line": {
           "width": 1
          },
          "size": 5,
          "symbol": "square"
         },
         "mode": "markers",
         "name": "Munmu",
         "showlegend": true,
         "type": "scattergl",
         "x": {
          "bdata": "YAFhAWIBYwFoAWkBagFrAWwBbQFvAXABcQFyAXMBdQE=",
          "dtype": "i2"
         },
         "xaxis": "x",
         "y": [
          "Munmu",
          "Munmu",
          "Munmu",
          "Munmu",
          "Munmu",
          "Munmu",
          "Munmu",
          "Munmu",
          "Munmu",
          "Munmu",
          "Munmu",
          "Munmu",
          "Munmu",
          "Munmu",
          "Munmu",
          "Munmu"
         ],
         "yaxis": "y"
        },
        {
         "hovertemplate": "Name=%{y}<br>Kapitel=%{x}<extra></extra>",
         "legendgroup": "Nova",
         "marker": {
          "color": "#FF6692",
          "line": {
           "width": 1
          },
          "size": 5,
          "symbol": "square"
         },
         "mode": "markers",
         "name": "Nova",
         "showlegend": true,
         "type": "scattergl",
         "x": {
          "bdata": "YQFiAWMBZAFlAWcBaAFpAWoBawFsAW0BbgFvAXABcQFyAXMBdAF1AXwB",
          "dtype": "i2"
         },
         "xaxis": "x",
         "y": [
          "Nova",
          "Nova",
          "Nova",
          "Nova",
          "Nova",
          "Nova",
          "Nova",
          "Nova",
          "Nova",
          "Nova",
          "Nova",
          "Nova",
          "Nova",
          "Nova",
          "Nova",
          "Nova",
          "Nova",
          "Nova",
          "Nova",
          "Nova",
          "Nova"
         ],
         "yaxis": "y"
        },
        {
         "hovertemplate": "Name=%{y}<br>Kapitel=%{x}<extra></extra>",
         "legendgroup": "Monmo",
         "marker": {
          "color": "#B6E880",
          "line": {
           "width": 1
          },
          "size": 5,
          "symbol": "square"
         },
         "mode": "markers",
         "name": "Monmo",
         "showlegend": true,
         "type": "scattergl",
         "x": {
          "bdata": "ZQFnAWgBaQFsAW0BcQFyAQ==",
          "dtype": "i2"
         },
         "xaxis": "x",
         "y": [
          "Monmo",
          "Monmo",
          "Monmo",
          "Monmo",
          "Monmo",
          "Monmo",
          "Monmo",
          "Monmo"
         ],
         "yaxis": "y"
        },
        {
         "hovertemplate": "Name=%{y}<br>Kapitel=%{x}<extra></extra>",
         "legendgroup": "Jumbo",
         "marker": {
          "color": "#FF97FF",
          "line": {
           "width": 1
          },
          "size": 5,
          "symbol": "square"
         },
         "mode": "markers",
         "name": "Jumbo",
         "showlegend": true,
         "type": "scattergl",
         "x": {
          "bdata": "ZQFnAWgBaQFsAW0BcQFyAQ==",
          "dtype": "i2"
         },
         "xaxis": "x",
         "y": [
          "Jumbo",
          "Jumbo",
          "Jumbo",
          "Jumbo",
          "Jumbo",
          "Jumbo",
          "Jumbo",
          "Jumbo"
         ],
         "yaxis": "y"
        },
        {
         "hovertemplate": "Name=%{y}<br>Kapitel=%{x}<extra></extra>",
         "legendgroup": "Dokfel",
         "marker": {
          "color": "#FECB52",
          "line": {
           "width": 1
          },
          "size": 5,
          "symbol": "square"
         },
         "mode": "markers",
         "name": "Dokfel",
         "showlegend": true,
         "type": "scattergl",
         "x": {
          "bdata": "ZgE=",
          "dtype": "i2"
         },
         "xaxis": "x",
         "y": [
          "Dokfel"
         ],
         "yaxis": "y"
        },
        {
         "hovertemplate": "Name=%{y}<br>Kapitel=%{x}<extra></extra>",
         "legendgroup": "General Alvro",
         "marker": {
          "color": "#636efa",
          "line": {
           "width": 1
          },
          "size": 5,
          "symbol": "square"
         },
         "mode": "markers",
         "name": "General Alvro",
         "showlegend": true,
         "type": "scattergl",
         "x": {
          "bdata": "ZgE=",
          "dtype": "i2"
         },
         "xaxis": "x",
         "y": [
          "General Alvro"
         ],
         "yaxis": "y"
        },
        {
         "hovertemplate": "Name=%{y}<br>Kapitel=%{x}<extra></extra>",
         "legendgroup": "General Kushinashi",
         "marker": {
          "color": "#EF553B",
          "line": {
           "width": 1
          },
          "size": 5,
          "symbol": "square"
         },
         "mode": "markers",
         "name": "General Kushinashi",
         "showlegend": true,
         "type": "scattergl",
         "x": {
          "bdata": "ZgE=",
          "dtype": "i2"
         },
         "xaxis": "x",
         "y": [
          "General Kushinashi"
         ],
         "yaxis": "y"
        },
        {
         "hovertemplate": "Name=%{y}<br>Kapitel=%{x}<extra></extra>",
         "legendgroup": "Kirito",
         "marker": {
          "color": "#00cc96",
          "line": {
           "width": 1
          },
          "size": 5,
          "symbol": "square"
         },
         "mode": "markers",
         "name": "Kirito",
         "showlegend": true,
         "type": "scattergl",
         "x": {
          "bdata": "ZwFoAWkBbAFtAXEBcgE=",
          "dtype": "i2"
         },
         "xaxis": "x",
         "y": [
          "Kirito",
          "Kirito",
          "Kirito",
          "Kirito",
          "Kirito",
          "Kirito",
          "Kirito"
         ],
         "yaxis": "y"
        },
        {
         "hovertemplate": "Name=%{y}<br>Kapitel=%{x}<extra></extra>",
         "legendgroup": "Amy Azami",
         "marker": {
          "color": "#ab63fa",
          "line": {
           "width": 1
          },
          "size": 5,
          "symbol": "square"
         },
         "mode": "markers",
         "name": "Amy Azami",
         "showlegend": true,
         "type": "scattergl",
         "x": {
          "bdata": "bQFuAW8BcAFxAXQB",
          "dtype": "i2"
         },
         "xaxis": "x",
         "y": [
          "Amy Azami",
          "Amy Azami",
          "Amy Azami",
          "Amy Azami",
          "Amy Azami",
          "Amy Azami"
         ],
         "yaxis": "y"
        },
        {
         "hovertemplate": "Name=%{y}<br>Kapitel=%{x}<extra></extra>",
         "legendgroup": "Kimaris Kyrielight",
         "marker": {
          "color": "#FFA15A",
          "line": {
           "width": 1
          },
          "size": 5,
          "symbol": "square"
         },
         "mode": "markers",
         "name": "Kimaris Kyrielight",
         "showlegend": true,
         "type": "scattergl",
         "x": {
          "bdata": "cAE=",
          "dtype": "i2"
         },
         "xaxis": "x",
         "y": [
          "Kimaris Kyrielight"
         ],
         "yaxis": "y"
        },
        {
         "hovertemplate": "Name=%{y}<br>Kapitel=%{x}<extra></extra>",
         "legendgroup": "Batt Nupie",
         "marker": {
          "color": "#19d3f3",
          "line": {
           "width": 1
          },
          "size": 5,
          "symbol": "square"
         },
         "mode": "markers",
         "name": "Batt Nupie",
         "showlegend": true,
         "type": "scattergl",
         "x": {
          "bdata": "dgE=",
          "dtype": "i2"
         },
         "xaxis": "x",
         "y": [
          "Batt Nupie"
         ],
         "yaxis": "y"
        },
        {
         "hovertemplate": "Name=%{y}<br>Kapitel=%{x}<extra></extra>",
         "legendgroup": "Gyari",
         "marker": {
          "color": "#FF6692",
          "line": {
           "width": 1
          },
          "size": 5,
          "symbol": "square"
         },
         "mode": "markers",
         "name": "Gyari",
         "showlegend": true,
         "type": "scattergl",
         "x": {
          "bdata": "dwF4AXkB",
          "dtype": "i2"
         },
         "xaxis": "x",
         "y": [
          "Gyari",
          "Gyari",
          "Gyari"
         ],
         "yaxis": "y"
        },
        {
         "hovertemplate": "Name=%{y}<br>Kapitel=%{x}<extra></extra>",
         "legendgroup": "Gyari's Manager",
         "marker": {
          "color": "#B6E880",
          "line": {
           "width": 1
          },
          "size": 5,
          "symbol": "square"
         },
         "mode": "markers",
         "name": "Gyari's Manager",
         "showlegend": true,
         "type": "scattergl",
         "x": {
          "bdata": "dwE=",
          "dtype": "i2"
         },
         "xaxis": "x",
         "y": [
          "Gyari's Manager"
         ],
         "yaxis": "y"
        },
        {
         "hovertemplate": "Name=%{y}<br>Kapitel=%{x}<extra></extra>",
         "legendgroup": "Nenette",
         "marker": {
          "color": "#FF97FF",
          "line": {
           "width": 1
          },
          "size": 5,
          "symbol": "square"
         },
         "mode": "markers",
         "name": "Nenette",
         "showlegend": true,
         "type": "scattergl",
         "x": {
          "bdata": "dwF5AQ==",
          "dtype": "i2"
         },
         "xaxis": "x",
         "y": [
          "Nenette",
          "Nenette"
         ],
         "yaxis": "y"
        },
        {
         "hovertemplate": "Name=%{y}<br>Kapitel=%{x}<extra></extra>",
         "legendgroup": "Moa",
         "marker": {
          "color": "#FECB52",
          "line": {
           "width": 1
          },
          "size": 5,
          "symbol": "square"
         },
         "mode": "markers",
         "name": "Moa",
         "showlegend": true,
         "type": "scattergl",
         "x": {
          "bdata": "eQE=",
          "dtype": "i2"
         },
         "xaxis": "x",
         "y": [
          "Moa"
         ],
         "yaxis": "y"
        },
        {
         "hovertemplate": "Name=%{y}<br>Kapitel=%{x}<extra></extra>",
         "legendgroup": "Machara",
         "marker": {
          "color": "#636efa",
          "line": {
           "width": 1
          },
          "size": 5,
          "symbol": "square"
         },
         "mode": "markers",
         "name": "Machara",
         "showlegend": true,
         "type": "scattergl",
         "x": {
          "bdata": "eQGYAQ==",
          "dtype": "i2"
         },
         "xaxis": "x",
         "y": [
          "Machara",
          "Machara"
         ],
         "yaxis": "y"
        },
        {
         "hovertemplate": "Name=%{y}<br>Kapitel=%{x}<extra></extra>",
         "legendgroup": "Genzel Geyril",
         "marker": {
          "color": "#EF553B",
          "line": {
           "width": 1
          },
          "size": 5,
          "symbol": "square"
         },
         "mode": "markers",
         "name": "Genzel Geyril",
         "showlegend": true,
         "type": "scattergl",
         "x": {
          "bdata": "hQGGAYcBiAE=",
          "dtype": "i2"
         },
         "xaxis": "x",
         "y": [
          "Genzel Geyril",
          "Genzel Geyril",
          "Genzel Geyril",
          "Genzel Geyril"
         ],
         "yaxis": "y"
        },
        {
         "hovertemplate": "Name=%{y}<br>Kapitel=%{x}<extra></extra>",
         "legendgroup": "Gamigin Ganjet",
         "marker": {
          "color": "#00cc96",
          "line": {
           "width": 1
          },
          "size": 5,
          "symbol": "square"
         },
         "mode": "markers",
         "name": "Gamigin Ganjet",
         "showlegend": true,
         "type": "scattergl",
         "x": {
          "bdata": "iwGMAY0BjgGQAZUBlgGXAZoB",
          "dtype": "i2"
         },
         "xaxis": "x",
         "y": [
          "Gamigin Ganjet",
          "Gamigin Ganjet",
          "Gamigin Ganjet",
          "Gamigin Ganjet",
          "Gamigin Ganjet",
          "Gamigin Ganjet",
          "Gamigin Ganjet",
          "Gamigin Ganjet",
          "Gamigin Ganjet"
         ],
         "yaxis": "y"
        },
        {
         "hovertemplate": "Name=%{y}<br>Kapitel=%{x}<extra></extra>",
         "legendgroup": "Malius Phantom",
         "marker": {
          "color": "#ab63fa",
          "line": {
           "width": 1
          },
          "size": 5,
          "symbol": "square"
         },
         "mode": "markers",
         "name": "Malius Phantom",
         "showlegend": true,
         "type": "scattergl",
         "x": {
          "bdata": "iwGMAY0BjgGPAZABkQGSAZMBlAGVAZcBmAGZAZoBmwGcAZ0B",
          "dtype": "i2"
         },
         "xaxis": "x",
         "y": [
          "Malius Phantom",
          "Malius Phantom",
          "Malius Phantom",
          "Malius Phantom",
          "Malius Phantom",
          "Malius Phantom",
          "Malius Phantom",
          "Malius Phantom",
          "Malius Phantom",
          "Malius Phantom",
          "Malius Phantom",
          "Malius Phantom",
          "Malius Phantom",
          "Malius Phantom",
          "Malius Phantom",
          "Malius Phantom",
          "Malius Phantom",
          "Malius Phantom"
         ],
         "yaxis": "y"
        },
        {
         "hovertemplate": "Name=%{y}<br>Kapitel=%{x}<extra></extra>",
         "legendgroup": "Muchara",
         "marker": {
          "color": "#FFA15A",
          "line": {
           "width": 1
          },
          "size": 5,
          "symbol": "square"
         },
         "mode": "markers",
         "name": "Muchara",
         "showlegend": true,
         "type": "scattergl",
         "x": {
          "bdata": "jgGQAZUBlwGaAQ==",
          "dtype": "i2"
         },
         "xaxis": "x",
         "y": [
          "Muchara",
          "Muchara",
          "Muchara",
          "Muchara",
          "Muchara"
         ],
         "yaxis": "y"
        },
        {
         "hovertemplate": "Name=%{y}<br>Kapitel=%{x}<extra></extra>",
         "legendgroup": "Jazz's Father",
         "marker": {
          "color": "#19d3f3",
          "line": {
           "width": 1
          },
          "size": 5,
          "symbol": "square"
         },
         "mode": "markers",
         "name": "Jazz's Father",
         "showlegend": true,
         "type": "scattergl",
         "x": {
          "bdata": "kgE=",
          "dtype": "i2"
         },
         "xaxis": "x",
         "y": [
          "Jazz's Father"
         ],
         "yaxis": "y"
        },
        {
         "hovertemplate": "Name=%{y}<br>Kapitel=%{x}<extra></extra>",
         "legendgroup": "Arikured",
         "marker": {
          "color": "#FF6692",
          "line": {
           "width": 1
          },
          "size": 5,
          "symbol": "square"
         },
         "mode": "markers",
         "name": "Arikured",
         "showlegend": true,
         "type": "scattergl",
         "x": {
          "bdata": "mAGZAZoBmwGcAQ==",
          "dtype": "i2"
         },
         "xaxis": "x",
         "y": [
          "Arikured",
          "Arikured",
          "Arikured",
          "Arikured",
          "Arikured"
         ],
         "yaxis": "y"
        },
        {
         "hovertemplate": "Name=%{y}<br>Kapitel=%{x}<extra></extra>",
         "legendgroup": "Spoo",
         "marker": {
          "color": "#B6E880",
          "line": {
           "width": 1
          },
          "size": 5,
          "symbol": "square"
         },
         "mode": "markers",
         "name": "Spoo",
         "showlegend": true,
         "type": "scattergl",
         "x": {
          "bdata": "mQE=",
          "dtype": "i2"
         },
         "xaxis": "x",
         "y": [
          "Spoo"
         ],
         "yaxis": "y"
        }
       ],
       "layout": {
        "legend": {
         "title": {
          "text": "Name"
         },
         "tracegroupgap": 0
        },
        "shapes": [
         {
          "fillcolor": "red",
          "layer": "below",
          "line": {
           "width": 0
          },
          "opacity": 0.2,
          "type": "rect",
          "x0": 56.5,
          "x1": 57.5,
          "xref": "x",
          "y0": 0,
          "y1": 1,
          "yref": "y domain"
         },
         {
          "fillcolor": "red",
          "layer": "below",
          "line": {
           "width": 0
          },
          "opacity": 0.2,
          "type": "rect",
          "x0": 57.5,
          "x1": 58.5,
          "xref": "x",
          "y0": 0,
          "y1": 1,
          "yref": "y domain"
         },
         {
          "fillcolor": "red",
          "layer": "below",
          "line": {
           "width": 0
          },
          "opacity": 0.2,
          "type": "rect",
          "x0": 58.5,
          "x1": 59.5,
          "xref": "x",
          "y0": 0,
          "y1": 1,
          "yref": "y domain"
         },
         {
          "fillcolor": "red",
          "layer": "below",
          "line": {
           "width": 0
          },
          "opacity": 0.2,
          "type": "rect",
          "x0": 59.5,
          "x1": 60.5,
          "xref": "x",
          "y0": 0,
          "y1": 1,
          "yref": "y domain"
         },
         {
          "fillcolor": "red",
          "layer": "below",
          "line": {
           "width": 0
          },
          "opacity": 0.2,
          "type": "rect",
          "x0": 60.5,
          "x1": 61.5,
          "xref": "x",
          "y0": 0,
          "y1": 1,
          "yref": "y domain"
         },
         {
          "fillcolor": "red",
          "layer": "below",
          "line": {
           "width": 0
          },
          "opacity": 0.2,
          "type": "rect",
          "x0": 106.5,
          "x1": 107.5,
          "xref": "x",
          "y0": 0,
          "y1": 1,
          "yref": "y domain"
         },
         {
          "fillcolor": "red",
          "layer": "below",
          "line": {
           "width": 0
          },
          "opacity": 0.2,
          "type": "rect",
          "x0": 107.5,
          "x1": 108.5,
          "xref": "x",
          "y0": 0,
          "y1": 1,
          "yref": "y domain"
         },
         {
          "fillcolor": "red",
          "layer": "below",
          "line": {
           "width": 0
          },
          "opacity": 0.2,
          "type": "rect",
          "x0": 108.5,
          "x1": 109.5,
          "xref": "x",
          "y0": 0,
          "y1": 1,
          "yref": "y domain"
         },
         {
          "fillcolor": "red",
          "layer": "below",
          "line": {
           "width": 0
          },
          "opacity": 0.2,
          "type": "rect",
          "x0": 109.5,
          "x1": 110.5,
          "xref": "x",
          "y0": 0,
          "y1": 1,
          "yref": "y domain"
         },
         {
          "fillcolor": "red",
          "layer": "below",
          "line": {
           "width": 0
          },
          "opacity": 0.2,
          "type": "rect",
          "x0": 110.5,
          "x1": 111.5,
          "xref": "x",
          "y0": 0,
          "y1": 1,
          "yref": "y domain"
         },
         {
          "fillcolor": "red",
          "layer": "below",
          "line": {
           "width": 0
          },
          "opacity": 0.2,
          "type": "rect",
          "x0": 111.5,
          "x1": 112.5,
          "xref": "x",
          "y0": 0,
          "y1": 1,
          "yref": "y domain"
         },
         {
          "fillcolor": "red",
          "layer": "below",
          "line": {
           "width": 0
          },
          "opacity": 0.2,
          "type": "rect",
          "x0": 112.5,
          "x1": 113.5,
          "xref": "x",
          "y0": 0,
          "y1": 1,
          "yref": "y domain"
         },
         {
          "fillcolor": "red",
          "layer": "below",
          "line": {
           "width": 0
          },
          "opacity": 0.2,
          "type": "rect",
          "x0": 113.5,
          "x1": 114.5,
          "xref": "x",
          "y0": 0,
          "y1": 1,
          "yref": "y domain"
         },
         {
          "fillcolor": "red",
          "layer": "below",
          "line": {
           "width": 0
          },
          "opacity": 0.2,
          "type": "rect",
          "x0": 114.5,
          "x1": 115.5,
          "xref": "x",
          "y0": 0,
          "y1": 1,
          "yref": "y domain"
         },
         {
          "fillcolor": "red",
          "layer": "below",
          "line": {
           "width": 0
          },
          "opacity": 0.2,
          "type": "rect",
          "x0": 115.5,
          "x1": 116.5,
          "xref": "x",
          "y0": 0,
          "y1": 1,
          "yref": "y domain"
         },
         {
          "fillcolor": "red",
          "layer": "below",
          "line": {
           "width": 0
          },
          "opacity": 0.2,
          "type": "rect",
          "x0": 116.5,
          "x1": 117.5,
          "xref": "x",
          "y0": 0,
          "y1": 1,
          "yref": "y domain"
         },
         {
          "fillcolor": "red",
          "layer": "below",
          "line": {
           "width": 0
          },
          "opacity": 0.2,
          "type": "rect",
          "x0": 117.5,
          "x1": 118.5,
          "xref": "x",
          "y0": 0,
          "y1": 1,
          "yref": "y domain"
         },
         {
          "fillcolor": "red",
          "layer": "below",
          "line": {
           "width": 0
          },
          "opacity": 0.2,
          "type": "rect",
          "x0": 118.5,
          "x1": 119.5,
          "xref": "x",
          "y0": 0,
          "y1": 1,
          "yref": "y domain"
         },
         {
          "fillcolor": "red",
          "layer": "below",
          "line": {
           "width": 0
          },
          "opacity": 0.2,
          "type": "rect",
          "x0": 119.5,
          "x1": 120.5,
          "xref": "x",
          "y0": 0,
          "y1": 1,
          "yref": "y domain"
         },
         {
          "fillcolor": "red",
          "layer": "below",
          "line": {
           "width": 0
          },
          "opacity": 0.2,
          "type": "rect",
          "x0": 120.5,
          "x1": 121.5,
          "xref": "x",
          "y0": 0,
          "y1": 1,
          "yref": "y domain"
         },
         {
          "fillcolor": "red",
          "layer": "below",
          "line": {
           "width": 0
          },
          "opacity": 0.2,
          "type": "rect",
          "x0": 121.5,
          "x1": 122.5,
          "xref": "x",
          "y0": 0,
          "y1": 1,
          "yref": "y domain"
         },
         {
          "fillcolor": "red",
          "layer": "below",
          "line": {
           "width": 0
          },
          "opacity": 0.2,
          "type": "rect",
          "x0": 122.5,
          "x1": 123.5,
          "xref": "x",
          "y0": 0,
          "y1": 1,
          "yref": "y domain"
         },
         {
          "fillcolor": "red",
          "layer": "below",
          "line": {
           "width": 0
          },
          "opacity": 0.2,
          "type": "rect",
          "x0": 123.5,
          "x1": 124.5,
          "xref": "x",
          "y0": 0,
          "y1": 1,
          "yref": "y domain"
         },
         {
          "fillcolor": "red",
          "layer": "below",
          "line": {
           "width": 0
          },
          "opacity": 0.2,
          "type": "rect",
          "x0": 124.5,
          "x1": 125.5,
          "xref": "x",
          "y0": 0,
          "y1": 1,
          "yref": "y domain"
         },
         {
          "fillcolor": "red",
          "layer": "below",
          "line": {
           "width": 0
          },
          "opacity": 0.2,
          "type": "rect",
          "x0": 125.5,
          "x1": 126.5,
          "xref": "x",
          "y0": 0,
          "y1": 1,
          "yref": "y domain"
         },
         {
          "fillcolor": "red",
          "layer": "below",
          "line": {
           "width": 0
          },
          "opacity": 0.2,
          "type": "rect",
          "x0": 126.5,
          "x1": 127.5,
          "xref": "x",
          "y0": 0,
          "y1": 1,
          "yref": "y domain"
         },
         {
          "fillcolor": "red",
          "layer": "below",
          "line": {
           "width": 0
          },
          "opacity": 0.2,
          "type": "rect",
          "x0": 127.5,
          "x1": 128.5,
          "xref": "x",
          "y0": 0,
          "y1": 1,
          "yref": "y domain"
         },
         {
          "fillcolor": "red",
          "layer": "below",
          "line": {
           "width": 0
          },
          "opacity": 0.2,
          "type": "rect",
          "x0": 128.5,
          "x1": 129.5,
          "xref": "x",
          "y0": 0,
          "y1": 1,
          "yref": "y domain"
         },
         {
          "fillcolor": "red",
          "layer": "below",
          "line": {
           "width": 0
          },
          "opacity": 0.2,
          "type": "rect",
          "x0": 129.5,
          "x1": 130.5,
          "xref": "x",
          "y0": 0,
          "y1": 1,
          "yref": "y domain"
         },
         {
          "fillcolor": "red",
          "layer": "below",
          "line": {
           "width": 0
          },
          "opacity": 0.2,
          "type": "rect",
          "x0": 130.5,
          "x1": 131.5,
          "xref": "x",
          "y0": 0,
          "y1": 1,
          "yref": "y domain"
         },
         {
          "fillcolor": "red",
          "layer": "below",
          "line": {
           "width": 0
          },
          "opacity": 0.2,
          "type": "rect",
          "x0": 131.5,
          "x1": 132.5,
          "xref": "x",
          "y0": 0,
          "y1": 1,
          "yref": "y domain"
         },
         {
          "fillcolor": "red",
          "layer": "below",
          "line": {
           "width": 0
          },
          "opacity": 0.2,
          "type": "rect",
          "x0": 132.5,
          "x1": 133.5,
          "xref": "x",
          "y0": 0,
          "y1": 1,
          "yref": "y domain"
         },
         {
          "fillcolor": "red",
          "layer": "below",
          "line": {
           "width": 0
          },
          "opacity": 0.2,
          "type": "rect",
          "x0": 133.5,
          "x1": 134.5,
          "xref": "x",
          "y0": 0,
          "y1": 1,
          "yref": "y domain"
         },
         {
          "fillcolor": "red",
          "layer": "below",
          "line": {
           "width": 0
          },
          "opacity": 0.2,
          "type": "rect",
          "x0": 134.5,
          "x1": 135.5,
          "xref": "x",
          "y0": 0,
          "y1": 1,
          "yref": "y domain"
         },
         {
          "fillcolor": "red",
          "layer": "below",
          "line": {
           "width": 0
          },
          "opacity": 0.2,
          "type": "rect",
          "x0": 135.5,
          "x1": 136.5,
          "xref": "x",
          "y0": 0,
          "y1": 1,
          "yref": "y domain"
         },
         {
          "fillcolor": "red",
          "layer": "below",
          "line": {
           "width": 0
          },
          "opacity": 0.2,
          "type": "rect",
          "x0": 136.5,
          "x1": 137.5,
          "xref": "x",
          "y0": 0,
          "y1": 1,
          "yref": "y domain"
         },
         {
          "fillcolor": "red",
          "layer": "below",
          "line": {
           "width": 0
          },
          "opacity": 0.2,
          "type": "rect",
          "x0": 137.5,
          "x1": 138.5,
          "xref": "x",
          "y0": 0,
          "y1": 1,
          "yref": "y domain"
         },
         {
          "fillcolor": "red",
          "layer": "below",
          "line": {
           "width": 0
          },
          "opacity": 0.2,
          "type": "rect",
          "x0": 138.5,
          "x1": 139.5,
          "xref": "x",
          "y0": 0,
          "y1": 1,
          "yref": "y domain"
         },
         {
          "fillcolor": "red",
          "layer": "below",
          "line": {
           "width": 0
          },
          "opacity": 0.2,
          "type": "rect",
          "x0": 139.5,
          "x1": 140.5,
          "xref": "x",
          "y0": 0,
          "y1": 1,
          "yref": "y domain"
         },
         {
          "fillcolor": "red",
          "layer": "below",
          "line": {
           "width": 0
          },
          "opacity": 0.2,
          "type": "rect",
          "x0": 145.5,
          "x1": 146.5,
          "xref": "x",
          "y0": 0,
          "y1": 1,
          "yref": "y domain"
         },
         {
          "fillcolor": "red",
          "layer": "below",
          "line": {
           "width": 0
          },
          "opacity": 0.2,
          "type": "rect",
          "x0": 147.5,
          "x1": 148.5,
          "xref": "x",
          "y0": 0,
          "y1": 1,
          "yref": "y domain"
         },
         {
          "fillcolor": "red",
          "layer": "below",
          "line": {
           "width": 0
          },
          "opacity": 0.2,
          "type": "rect",
          "x0": 148.5,
          "x1": 149.5,
          "xref": "x",
          "y0": 0,
          "y1": 1,
          "yref": "y domain"
         },
         {
          "fillcolor": "red",
          "layer": "below",
          "line": {
           "width": 0
          },
          "opacity": 0.2,
          "type": "rect",
          "x0": 149.5,
          "x1": 150.5,
          "xref": "x",
          "y0": 0,
          "y1": 1,
          "yref": "y domain"
         },
         {
          "fillcolor": "red",
          "layer": "below",
          "line": {
           "width": 0
          },
          "opacity": 0.2,
          "type": "rect",
          "x0": 150.5,
          "x1": 151.5,
          "xref": "x",
          "y0": 0,
          "y1": 1,
          "yref": "y domain"
         },
         {
          "fillcolor": "red",
          "layer": "below",
          "line": {
           "width": 0
          },
          "opacity": 0.2,
          "type": "rect",
          "x0": 151.5,
          "x1": 152.5,
          "xref": "x",
          "y0": 0,
          "y1": 1,
          "yref": "y domain"
         },
         {
          "fillcolor": "red",
          "layer": "below",
          "line": {
           "width": 0
          },
          "opacity": 0.2,
          "type": "rect",
          "x0": 152.5,
          "x1": 153.5,
          "xref": "x",
          "y0": 0,
          "y1": 1,
          "yref": "y domain"
         },
         {
          "fillcolor": "red",
          "layer": "below",
          "line": {
           "width": 0
          },
          "opacity": 0.2,
          "type": "rect",
          "x0": 153.5,
          "x1": 154.5,
          "xref": "x",
          "y0": 0,
          "y1": 1,
          "yref": "y domain"
         },
         {
          "fillcolor": "red",
          "layer": "below",
          "line": {
           "width": 0
          },
          "opacity": 0.2,
          "type": "rect",
          "x0": 154.5,
          "x1": 155.5,
          "xref": "x",
          "y0": 0,
          "y1": 1,
          "yref": "y domain"
         },
         {
          "fillcolor": "red",
          "layer": "below",
          "line": {
           "width": 0
          },
          "opacity": 0.2,
          "type": "rect",
          "x0": 155.5,
          "x1": 156.5,
          "xref": "x",
          "y0": 0,
          "y1": 1,
          "yref": "y domain"
         },
         {
          "fillcolor": "red",
          "layer": "below",
          "line": {
           "width": 0
          },
          "opacity": 0.2,
          "type": "rect",
          "x0": 156.5,
          "x1": 157.5,
          "xref": "x",
          "y0": 0,
          "y1": 1,
          "yref": "y domain"
         },
         {
          "fillcolor": "red",
          "layer": "below",
          "line": {
           "width": 0
          },
          "opacity": 0.2,
          "type": "rect",
          "x0": 157.5,
          "x1": 158.5,
          "xref": "x",
          "y0": 0,
          "y1": 1,
          "yref": "y domain"
         },
         {
          "fillcolor": "red",
          "layer": "below",
          "line": {
           "width": 0
          },
          "opacity": 0.2,
          "type": "rect",
          "x0": 158.5,
          "x1": 159.5,
          "xref": "x",
          "y0": 0,
          "y1": 1,
          "yref": "y domain"
         },
         {
          "fillcolor": "red",
          "layer": "below",
          "line": {
           "width": 0
          },
          "opacity": 0.2,
          "type": "rect",
          "x0": 159.5,
          "x1": 160.5,
          "xref": "x",
          "y0": 0,
          "y1": 1,
          "yref": "y domain"
         },
         {
          "fillcolor": "red",
          "layer": "below",
          "line": {
           "width": 0
          },
          "opacity": 0.2,
          "type": "rect",
          "x0": 160.5,
          "x1": 161.5,
          "xref": "x",
          "y0": 0,
          "y1": 1,
          "yref": "y domain"
         },
         {
          "fillcolor": "red",
          "layer": "below",
          "line": {
           "width": 0
          },
          "opacity": 0.2,
          "type": "rect",
          "x0": 161.5,
          "x1": 162.5,
          "xref": "x",
          "y0": 0,
          "y1": 1,
          "yref": "y domain"
         },
         {
          "fillcolor": "red",
          "layer": "below",
          "line": {
           "width": 0
          },
          "opacity": 0.2,
          "type": "rect",
          "x0": 162.5,
          "x1": 163.5,
          "xref": "x",
          "y0": 0,
          "y1": 1,
          "yref": "y domain"
         },
         {
          "fillcolor": "red",
          "layer": "below",
          "line": {
           "width": 0
          },
          "opacity": 0.2,
          "type": "rect",
          "x0": 163.5,
          "x1": 164.5,
          "xref": "x",
          "y0": 0,
          "y1": 1,
          "yref": "y domain"
         },
         {
          "fillcolor": "red",
          "layer": "below",
          "line": {
           "width": 0
          },
          "opacity": 0.2,
          "type": "rect",
          "x0": 164.5,
          "x1": 165.5,
          "xref": "x",
          "y0": 0,
          "y1": 1,
          "yref": "y domain"
         },
         {
          "fillcolor": "red",
          "layer": "below",
          "line": {
           "width": 0
          },
          "opacity": 0.2,
          "type": "rect",
          "x0": 165.5,
          "x1": 166.5,
          "xref": "x",
          "y0": 0,
          "y1": 1,
          "yref": "y domain"
         },
         {
          "fillcolor": "red",
          "layer": "below",
          "line": {
           "width": 0
          },
          "opacity": 0.2,
          "type": "rect",
          "x0": 166.5,
          "x1": 167.5,
          "xref": "x",
          "y0": 0,
          "y1": 1,
          "yref": "y domain"
         },
         {
          "fillcolor": "red",
          "layer": "below",
          "line": {
           "width": 0
          },
          "opacity": 0.2,
          "type": "rect",
          "x0": 167.5,
          "x1": 168.5,
          "xref": "x",
          "y0": 0,
          "y1": 1,
          "yref": "y domain"
         },
         {
          "fillcolor": "red",
          "layer": "below",
          "line": {
           "width": 0
          },
          "opacity": 0.2,
          "type": "rect",
          "x0": 168.5,
          "x1": 169.5,
          "xref": "x",
          "y0": 0,
          "y1": 1,
          "yref": "y domain"
         },
         {
          "fillcolor": "red",
          "layer": "below",
          "line": {
           "width": 0
          },
          "opacity": 0.2,
          "type": "rect",
          "x0": 169.5,
          "x1": 170.5,
          "xref": "x",
          "y0": 0,
          "y1": 1,
          "yref": "y domain"
         },
         {
          "fillcolor": "red",
          "layer": "below",
          "line": {
           "width": 0
          },
          "opacity": 0.2,
          "type": "rect",
          "x0": 170.5,
          "x1": 171.5,
          "xref": "x",
          "y0": 0,
          "y1": 1,
          "yref": "y domain"
         },
         {
          "fillcolor": "red",
          "layer": "below",
          "line": {
           "width": 0
          },
          "opacity": 0.2,
          "type": "rect",
          "x0": 171.5,
          "x1": 172.5,
          "xref": "x",
          "y0": 0,
          "y1": 1,
          "yref": "y domain"
         },
         {
          "fillcolor": "red",
          "layer": "below",
          "line": {
           "width": 0
          },
          "opacity": 0.2,
          "type": "rect",
          "x0": 174.5,
          "x1": 175.5,
          "xref": "x",
          "y0": 0,
          "y1": 1,
          "yref": "y domain"
         },
         {
          "fillcolor": "red",
          "layer": "below",
          "line": {
           "width": 0
          },
          "opacity": 0.2,
          "type": "rect",
          "x0": 175.5,
          "x1": 176.5,
          "xref": "x",
          "y0": 0,
          "y1": 1,
          "yref": "y domain"
         },
         {
          "fillcolor": "red",
          "layer": "below",
          "line": {
           "width": 0
          },
          "opacity": 0.2,
          "type": "rect",
          "x0": 180.5,
          "x1": 181.5,
          "xref": "x",
          "y0": 0,
          "y1": 1,
          "yref": "y domain"
         },
         {
          "fillcolor": "red",
          "layer": "below",
          "line": {
           "width": 0
          },
          "opacity": 0.2,
          "type": "rect",
          "x0": 183.5,
          "x1": 184.5,
          "xref": "x",
          "y0": 0,
          "y1": 1,
          "yref": "y domain"
         },
         {
          "fillcolor": "red",
          "layer": "below",
          "line": {
           "width": 0
          },
          "opacity": 0.2,
          "type": "rect",
          "x0": 184.5,
          "x1": 185.5,
          "xref": "x",
          "y0": 0,
          "y1": 1,
          "yref": "y domain"
         },
         {
          "fillcolor": "red",
          "layer": "below",
          "line": {
           "width": 0
          },
          "opacity": 0.2,
          "type": "rect",
          "x0": 185.5,
          "x1": 186.5,
          "xref": "x",
          "y0": 0,
          "y1": 1,
          "yref": "y domain"
         },
         {
          "fillcolor": "red",
          "layer": "below",
          "line": {
           "width": 0
          },
          "opacity": 0.2,
          "type": "rect",
          "x0": 186.5,
          "x1": 187.5,
          "xref": "x",
          "y0": 0,
          "y1": 1,
          "yref": "y domain"
         },
         {
          "fillcolor": "red",
          "layer": "below",
          "line": {
           "width": 0
          },
          "opacity": 0.2,
          "type": "rect",
          "x0": 187.5,
          "x1": 188.5,
          "xref": "x",
          "y0": 0,
          "y1": 1,
          "yref": "y domain"
         },
         {
          "fillcolor": "red",
          "layer": "below",
          "line": {
           "width": 0
          },
          "opacity": 0.2,
          "type": "rect",
          "x0": 188.5,
          "x1": 189.5,
          "xref": "x",
          "y0": 0,
          "y1": 1,
          "yref": "y domain"
         },
         {
          "fillcolor": "red",
          "layer": "below",
          "line": {
           "width": 0
          },
          "opacity": 0.2,
          "type": "rect",
          "x0": 189.5,
          "x1": 190.5,
          "xref": "x",
          "y0": 0,
          "y1": 1,
          "yref": "y domain"
         },
         {
          "fillcolor": "red",
          "layer": "below",
          "line": {
           "width": 0
          },
          "opacity": 0.2,
          "type": "rect",
          "x0": 190.5,
          "x1": 191.5,
          "xref": "x",
          "y0": 0,
          "y1": 1,
          "yref": "y domain"
         },
         {
          "fillcolor": "red",
          "layer": "below",
          "line": {
           "width": 0
          },
          "opacity": 0.2,
          "type": "rect",
          "x0": 191.5,
          "x1": 192.5,
          "xref": "x",
          "y0": 0,
          "y1": 1,
          "yref": "y domain"
         },
         {
          "fillcolor": "red",
          "layer": "below",
          "line": {
           "width": 0
          },
          "opacity": 0.2,
          "type": "rect",
          "x0": 192.5,
          "x1": 193.5,
          "xref": "x",
          "y0": 0,
          "y1": 1,
          "yref": "y domain"
         },
         {
          "fillcolor": "red",
          "layer": "below",
          "line": {
           "width": 0
          },
          "opacity": 0.2,
          "type": "rect",
          "x0": 193.5,
          "x1": 194.5,
          "xref": "x",
          "y0": 0,
          "y1": 1,
          "yref": "y domain"
         },
         {
          "fillcolor": "red",
          "layer": "below",
          "line": {
           "width": 0
          },
          "opacity": 0.2,
          "type": "rect",
          "x0": 194.5,
          "x1": 195.5,
          "xref": "x",
          "y0": 0,
          "y1": 1,
          "yref": "y domain"
         },
         {
          "fillcolor": "red",
          "layer": "below",
          "line": {
           "width": 0
          },
          "opacity": 0.2,
          "type": "rect",
          "x0": 195.5,
          "x1": 196.5,
          "xref": "x",
          "y0": 0,
          "y1": 1,
          "yref": "y domain"
         },
         {
          "fillcolor": "red",
          "layer": "below",
          "line": {
           "width": 0
          },
          "opacity": 0.2,
          "type": "rect",
          "x0": 196.5,
          "x1": 197.5,
          "xref": "x",
          "y0": 0,
          "y1": 1,
          "yref": "y domain"
         },
         {
          "fillcolor": "red",
          "layer": "below",
          "line": {
           "width": 0
          },
          "opacity": 0.2,
          "type": "rect",
          "x0": 197.5,
          "x1": 198.5,
          "xref": "x",
          "y0": 0,
          "y1": 1,
          "yref": "y domain"
         },
         {
          "fillcolor": "red",
          "layer": "below",
          "line": {
           "width": 0
          },
          "opacity": 0.2,
          "type": "rect",
          "x0": 199.5,
          "x1": 200.5,
          "xref": "x",
          "y0": 0,
          "y1": 1,
          "yref": "y domain"
         },
         {
          "fillcolor": "red",
          "layer": "below",
          "line": {
           "width": 0
          },
          "opacity": 0.2,
          "type": "rect",
          "x0": 200.5,
          "x1": 201.5,
          "xref": "x",
          "y0": 0,
          "y1": 1,
          "yref": "y domain"
         },
         {
          "fillcolor": "red",
          "layer": "below",
          "line": {
           "width": 0
          },
          "opacity": 0.2,
          "type": "rect",
          "x0": 201.5,
          "x1": 202.5,
          "xref": "x",
          "y0": 0,
          "y1": 1,
          "yref": "y domain"
         },
         {
          "fillcolor": "red",
          "layer": "below",
          "line": {
           "width": 0
          },
          "opacity": 0.2,
          "type": "rect",
          "x0": 202.5,
          "x1": 203.5,
          "xref": "x",
          "y0": 0,
          "y1": 1,
          "yref": "y domain"
         },
         {
          "fillcolor": "red",
          "layer": "below",
          "line": {
           "width": 0
          },
          "opacity": 0.2,
          "type": "rect",
          "x0": 203.5,
          "x1": 204.5,
          "xref": "x",
          "y0": 0,
          "y1": 1,
          "yref": "y domain"
         },
         {
          "fillcolor": "red",
          "layer": "below",
          "line": {
           "width": 0
          },
          "opacity": 0.2,
          "type": "rect",
          "x0": 207.5,
          "x1": 208.5,
          "xref": "x",
          "y0": 0,
          "y1": 1,
          "yref": "y domain"
         },
         {
          "fillcolor": "red",
          "layer": "below",
          "line": {
           "width": 0
          },
          "opacity": 0.2,
          "type": "rect",
          "x0": 208.5,
          "x1": 209.5,
          "xref": "x",
          "y0": 0,
          "y1": 1,
          "yref": "y domain"
         },
         {
          "fillcolor": "red",
          "layer": "below",
          "line": {
           "width": 0
          },
          "opacity": 0.2,
          "type": "rect",
          "x0": 209.5,
          "x1": 210.5,
          "xref": "x",
          "y0": 0,
          "y1": 1,
          "yref": "y domain"
         },
         {
          "fillcolor": "red",
          "layer": "below",
          "line": {
           "width": 0
          },
          "opacity": 0.2,
          "type": "rect",
          "x0": 210.5,
          "x1": 211.5,
          "xref": "x",
          "y0": 0,
          "y1": 1,
          "yref": "y domain"
         },
         {
          "fillcolor": "red",
          "layer": "below",
          "line": {
           "width": 0
          },
          "opacity": 0.2,
          "type": "rect",
          "x0": 211.5,
          "x1": 212.5,
          "xref": "x",
          "y0": 0,
          "y1": 1,
          "yref": "y domain"
         },
         {
          "fillcolor": "red",
          "layer": "below",
          "line": {
           "width": 0
          },
          "opacity": 0.2,
          "type": "rect",
          "x0": 212.5,
          "x1": 213.5,
          "xref": "x",
          "y0": 0,
          "y1": 1,
          "yref": "y domain"
         },
         {
          "fillcolor": "red",
          "layer": "below",
          "line": {
           "width": 0
          },
          "opacity": 0.2,
          "type": "rect",
          "x0": 240.5,
          "x1": 241.5,
          "xref": "x",
          "y0": 0,
          "y1": 1,
          "yref": "y domain"
         },
         {
          "fillcolor": "red",
          "layer": "below",
          "line": {
           "width": 0
          },
          "opacity": 0.2,
          "type": "rect",
          "x0": 241.5,
          "x1": 242.5,
          "xref": "x",
          "y0": 0,
          "y1": 1,
          "yref": "y domain"
         },
         {
          "fillcolor": "red",
          "layer": "below",
          "line": {
           "width": 0
          },
          "opacity": 0.2,
          "type": "rect",
          "x0": 242.5,
          "x1": 243.5,
          "xref": "x",
          "y0": 0,
          "y1": 1,
          "yref": "y domain"
         },
         {
          "fillcolor": "red",
          "layer": "below",
          "line": {
           "width": 0
          },
          "opacity": 0.2,
          "type": "rect",
          "x0": 246.5,
          "x1": 247.5,
          "xref": "x",
          "y0": 0,
          "y1": 1,
          "yref": "y domain"
         },
         {
          "fillcolor": "red",
          "layer": "below",
          "line": {
           "width": 0
          },
          "opacity": 0.2,
          "type": "rect",
          "x0": 247.5,
          "x1": 248.5,
          "xref": "x",
          "y0": 0,
          "y1": 1,
          "yref": "y domain"
         },
         {
          "fillcolor": "red",
          "layer": "below",
          "line": {
           "width": 0
          },
          "opacity": 0.2,
          "type": "rect",
          "x0": 248.5,
          "x1": 249.5,
          "xref": "x",
          "y0": 0,
          "y1": 1,
          "yref": "y domain"
         },
         {
          "fillcolor": "red",
          "layer": "below",
          "line": {
           "width": 0
          },
          "opacity": 0.2,
          "type": "rect",
          "x0": 249.5,
          "x1": 250.5,
          "xref": "x",
          "y0": 0,
          "y1": 1,
          "yref": "y domain"
         },
         {
          "fillcolor": "red",
          "layer": "below",
          "line": {
           "width": 0
          },
          "opacity": 0.2,
          "type": "rect",
          "x0": 250.5,
          "x1": 251.5,
          "xref": "x",
          "y0": 0,
          "y1": 1,
          "yref": "y domain"
         },
         {
          "fillcolor": "red",
          "layer": "below",
          "line": {
           "width": 0
          },
          "opacity": 0.2,
          "type": "rect",
          "x0": 251.5,
          "x1": 252.5,
          "xref": "x",
          "y0": 0,
          "y1": 1,
          "yref": "y domain"
         },
         {
          "fillcolor": "red",
          "layer": "below",
          "line": {
           "width": 0
          },
          "opacity": 0.2,
          "type": "rect",
          "x0": 252.5,
          "x1": 253.5,
          "xref": "x",
          "y0": 0,
          "y1": 1,
          "yref": "y domain"
         },
         {
          "fillcolor": "red",
          "layer": "below",
          "line": {
           "width": 0
          },
          "opacity": 0.2,
          "type": "rect",
          "x0": 253.5,
          "x1": 254.5,
          "xref": "x",
          "y0": 0,
          "y1": 1,
          "yref": "y domain"
         },
         {
          "fillcolor": "red",
          "layer": "below",
          "line": {
           "width": 0
          },
          "opacity": 0.2,
          "type": "rect",
          "x0": 254.5,
          "x1": 255.5,
          "xref": "x",
          "y0": 0,
          "y1": 1,
          "yref": "y domain"
         },
         {
          "fillcolor": "red",
          "layer": "below",
          "line": {
           "width": 0
          },
          "opacity": 0.2,
          "type": "rect",
          "x0": 255.5,
          "x1": 256.5,
          "xref": "x",
          "y0": 0,
          "y1": 1,
          "yref": "y domain"
         },
         {
          "fillcolor": "red",
          "layer": "below",
          "line": {
           "width": 0
          },
          "opacity": 0.2,
          "type": "rect",
          "x0": 256.5,
          "x1": 257.5,
          "xref": "x",
          "y0": 0,
          "y1": 1,
          "yref": "y domain"
         },
         {
          "fillcolor": "red",
          "layer": "below",
          "line": {
           "width": 0
          },
          "opacity": 0.2,
          "type": "rect",
          "x0": 257.5,
          "x1": 258.5,
          "xref": "x",
          "y0": 0,
          "y1": 1,
          "yref": "y domain"
         },
         {
          "fillcolor": "red",
          "layer": "below",
          "line": {
           "width": 0
          },
          "opacity": 0.2,
          "type": "rect",
          "x0": 258.5,
          "x1": 259.5,
          "xref": "x",
          "y0": 0,
          "y1": 1,
          "yref": "y domain"
         },
         {
          "fillcolor": "red",
          "layer": "below",
          "line": {
           "width": 0
          },
          "opacity": 0.2,
          "type": "rect",
          "x0": 259.5,
          "x1": 260.5,
          "xref": "x",
          "y0": 0,
          "y1": 1,
          "yref": "y domain"
         },
         {
          "fillcolor": "red",
          "layer": "below",
          "line": {
           "width": 0
          },
          "opacity": 0.2,
          "type": "rect",
          "x0": 260.5,
          "x1": 261.5,
          "xref": "x",
          "y0": 0,
          "y1": 1,
          "yref": "y domain"
         },
         {
          "fillcolor": "red",
          "layer": "below",
          "line": {
           "width": 0
          },
          "opacity": 0.2,
          "type": "rect",
          "x0": 261.5,
          "x1": 262.5,
          "xref": "x",
          "y0": 0,
          "y1": 1,
          "yref": "y domain"
         },
         {
          "fillcolor": "red",
          "layer": "below",
          "line": {
           "width": 0
          },
          "opacity": 0.2,
          "type": "rect",
          "x0": 262.5,
          "x1": 263.5,
          "xref": "x",
          "y0": 0,
          "y1": 1,
          "yref": "y domain"
         },
         {
          "fillcolor": "red",
          "layer": "below",
          "line": {
           "width": 0
          },
          "opacity": 0.2,
          "type": "rect",
          "x0": 263.5,
          "x1": 264.5,
          "xref": "x",
          "y0": 0,
          "y1": 1,
          "yref": "y domain"
         },
         {
          "fillcolor": "red",
          "layer": "below",
          "line": {
           "width": 0
          },
          "opacity": 0.2,
          "type": "rect",
          "x0": 264.5,
          "x1": 265.5,
          "xref": "x",
          "y0": 0,
          "y1": 1,
          "yref": "y domain"
         },
         {
          "fillcolor": "red",
          "layer": "below",
          "line": {
           "width": 0
          },
          "opacity": 0.2,
          "type": "rect",
          "x0": 265.5,
          "x1": 266.5,
          "xref": "x",
          "y0": 0,
          "y1": 1,
          "yref": "y domain"
         }
        ],
        "showlegend": false,
        "template": {
         "data": {
          "bar": [
           {
            "error_x": {
             "color": "#2a3f5f"
            },
            "error_y": {
             "color": "#2a3f5f"
            },
            "marker": {
             "line": {
              "color": "#E5ECF6",
              "width": 0.5
             },
             "pattern": {
              "fillmode": "overlay",
              "size": 10,
              "solidity": 0.2
             }
            },
            "type": "bar"
           }
          ],
          "barpolar": [
           {
            "marker": {
             "line": {
              "color": "#E5ECF6",
              "width": 0.5
             },
             "pattern": {
              "fillmode": "overlay",
              "size": 10,
              "solidity": 0.2
             }
            },
            "type": "barpolar"
           }
          ],
          "carpet": [
           {
            "aaxis": {
             "endlinecolor": "#2a3f5f",
             "gridcolor": "white",
             "linecolor": "white",
             "minorgridcolor": "white",
             "startlinecolor": "#2a3f5f"
            },
            "baxis": {
             "endlinecolor": "#2a3f5f",
             "gridcolor": "white",
             "linecolor": "white",
             "minorgridcolor": "white",
             "startlinecolor": "#2a3f5f"
            },
            "type": "carpet"
           }
          ],
          "choropleth": [
           {
            "colorbar": {
             "outlinewidth": 0,
             "ticks": ""
            },
            "type": "choropleth"
           }
          ],
          "contour": [
           {
            "colorbar": {
             "outlinewidth": 0,
             "ticks": ""
            },
            "colorscale": [
             [
              0,
              "#0d0887"
             ],
             [
              0.1111111111111111,
              "#46039f"
             ],
             [
              0.2222222222222222,
              "#7201a8"
             ],
             [
              0.3333333333333333,
              "#9c179e"
             ],
             [
              0.4444444444444444,
              "#bd3786"
             ],
             [
              0.5555555555555556,
              "#d8576b"
             ],
             [
              0.6666666666666666,
              "#ed7953"
             ],
             [
              0.7777777777777778,
              "#fb9f3a"
             ],
             [
              0.8888888888888888,
              "#fdca26"
             ],
             [
              1,
              "#f0f921"
             ]
            ],
            "type": "contour"
           }
          ],
          "contourcarpet": [
           {
            "colorbar": {
             "outlinewidth": 0,
             "ticks": ""
            },
            "type": "contourcarpet"
           }
          ],
          "heatmap": [
           {
            "colorbar": {
             "outlinewidth": 0,
             "ticks": ""
            },
            "colorscale": [
             [
              0,
              "#0d0887"
             ],
             [
              0.1111111111111111,
              "#46039f"
             ],
             [
              0.2222222222222222,
              "#7201a8"
             ],
             [
              0.3333333333333333,
              "#9c179e"
             ],
             [
              0.4444444444444444,
              "#bd3786"
             ],
             [
              0.5555555555555556,
              "#d8576b"
             ],
             [
              0.6666666666666666,
              "#ed7953"
             ],
             [
              0.7777777777777778,
              "#fb9f3a"
             ],
             [
              0.8888888888888888,
              "#fdca26"
             ],
             [
              1,
              "#f0f921"
             ]
            ],
            "type": "heatmap"
           }
          ],
          "histogram": [
           {
            "marker": {
             "pattern": {
              "fillmode": "overlay",
              "size": 10,
              "solidity": 0.2
             }
            },
            "type": "histogram"
           }
          ],
          "histogram2d": [
           {
            "colorbar": {
             "outlinewidth": 0,
             "ticks": ""
            },
            "colorscale": [
             [
              0,
              "#0d0887"
             ],
             [
              0.1111111111111111,
              "#46039f"
             ],
             [
              0.2222222222222222,
              "#7201a8"
             ],
             [
              0.3333333333333333,
              "#9c179e"
             ],
             [
              0.4444444444444444,
              "#bd3786"
             ],
             [
              0.5555555555555556,
              "#d8576b"
             ],
             [
              0.6666666666666666,
              "#ed7953"
             ],
             [
              0.7777777777777778,
              "#fb9f3a"
             ],
             [
              0.8888888888888888,
              "#fdca26"
             ],
             [
              1,
              "#f0f921"
             ]
            ],
            "type": "histogram2d"
           }
          ],
          "histogram2dcontour": [
           {
            "colorbar": {
             "outlinewidth": 0,
             "ticks": ""
            },
            "colorscale": [
             [
              0,
              "#0d0887"
             ],
             [
              0.1111111111111111,
              "#46039f"
             ],
             [
              0.2222222222222222,
              "#7201a8"
             ],
             [
              0.3333333333333333,
              "#9c179e"
             ],
             [
              0.4444444444444444,
              "#bd3786"
             ],
             [
              0.5555555555555556,
              "#d8576b"
             ],
             [
              0.6666666666666666,
              "#ed7953"
             ],
             [
              0.7777777777777778,
              "#fb9f3a"
             ],
             [
              0.8888888888888888,
              "#fdca26"
             ],
             [
              1,
              "#f0f921"
             ]
            ],
            "type": "histogram2dcontour"
           }
          ],
          "mesh3d": [
           {
            "colorbar": {
             "outlinewidth": 0,
             "ticks": ""
            },
            "type": "mesh3d"
           }
          ],
          "parcoords": [
           {
            "line": {
             "colorbar": {
              "outlinewidth": 0,
              "ticks": ""
             }
            },
            "type": "parcoords"
           }
          ],
          "pie": [
           {
            "automargin": true,
            "type": "pie"
           }
          ],
          "scatter": [
           {
            "fillpattern": {
             "fillmode": "overlay",
             "size": 10,
             "solidity": 0.2
            },
            "type": "scatter"
           }
          ],
          "scatter3d": [
           {
            "line": {
             "colorbar": {
              "outlinewidth": 0,
              "ticks": ""
             }
            },
            "marker": {
             "colorbar": {
              "outlinewidth": 0,
              "ticks": ""
             }
            },
            "type": "scatter3d"
           }
          ],
          "scattercarpet": [
           {
            "marker": {
             "colorbar": {
              "outlinewidth": 0,
              "ticks": ""
             }
            },
            "type": "scattercarpet"
           }
          ],
          "scattergeo": [
           {
            "marker": {
             "colorbar": {
              "outlinewidth": 0,
              "ticks": ""
             }
            },
            "type": "scattergeo"
           }
          ],
          "scattergl": [
           {
            "marker": {
             "colorbar": {
              "outlinewidth": 0,
              "ticks": ""
             }
            },
            "type": "scattergl"
           }
          ],
          "scattermap": [
           {
            "marker": {
             "colorbar": {
              "outlinewidth": 0,
              "ticks": ""
             }
            },
            "type": "scattermap"
           }
          ],
          "scattermapbox": [
           {
            "marker": {
             "colorbar": {
              "outlinewidth": 0,
              "ticks": ""
             }
            },
            "type": "scattermapbox"
           }
          ],
          "scatterpolar": [
           {
            "marker": {
             "colorbar": {
              "outlinewidth": 0,
              "ticks": ""
             }
            },
            "type": "scatterpolar"
           }
          ],
          "scatterpolargl": [
           {
            "marker": {
             "colorbar": {
              "outlinewidth": 0,
              "ticks": ""
             }
            },
            "type": "scatterpolargl"
           }
          ],
          "scatterternary": [
           {
            "marker": {
             "colorbar": {
              "outlinewidth": 0,
              "ticks": ""
             }
            },
            "type": "scatterternary"
           }
          ],
          "surface": [
           {
            "colorbar": {
             "outlinewidth": 0,
             "ticks": ""
            },
            "colorscale": [
             [
              0,
              "#0d0887"
             ],
             [
              0.1111111111111111,
              "#46039f"
             ],
             [
              0.2222222222222222,
              "#7201a8"
             ],
             [
              0.3333333333333333,
              "#9c179e"
             ],
             [
              0.4444444444444444,
              "#bd3786"
             ],
             [
              0.5555555555555556,
              "#d8576b"
             ],
             [
              0.6666666666666666,
              "#ed7953"
             ],
             [
              0.7777777777777778,
              "#fb9f3a"
             ],
             [
              0.8888888888888888,
              "#fdca26"
             ],
             [
              1,
              "#f0f921"
             ]
            ],
            "type": "surface"
           }
          ],
          "table": [
           {
            "cells": {
             "fill": {
              "color": "#EBF0F8"
             },
             "line": {
              "color": "white"
             }
            },
            "header": {
             "fill": {
              "color": "#C8D4E3"
             },
             "line": {
              "color": "white"
             }
            },
            "type": "table"
           }
          ]
         },
         "layout": {
          "annotationdefaults": {
           "arrowcolor": "#2a3f5f",
           "arrowhead": 0,
           "arrowwidth": 1
          },
          "autotypenumbers": "strict",
          "coloraxis": {
           "colorbar": {
            "outlinewidth": 0,
            "ticks": ""
           }
          },
          "colorscale": {
           "diverging": [
            [
             0,
             "#8e0152"
            ],
            [
             0.1,
             "#c51b7d"
            ],
            [
             0.2,
             "#de77ae"
            ],
            [
             0.3,
             "#f1b6da"
            ],
            [
             0.4,
             "#fde0ef"
            ],
            [
             0.5,
             "#f7f7f7"
            ],
            [
             0.6,
             "#e6f5d0"
            ],
            [
             0.7,
             "#b8e186"
            ],
            [
             0.8,
             "#7fbc41"
            ],
            [
             0.9,
             "#4d9221"
            ],
            [
             1,
             "#276419"
            ]
           ],
           "sequential": [
            [
             0,
             "#0d0887"
            ],
            [
             0.1111111111111111,
             "#46039f"
            ],
            [
             0.2222222222222222,
             "#7201a8"
            ],
            [
             0.3333333333333333,
             "#9c179e"
            ],
            [
             0.4444444444444444,
             "#bd3786"
            ],
            [
             0.5555555555555556,
             "#d8576b"
            ],
            [
             0.6666666666666666,
             "#ed7953"
            ],
            [
             0.7777777777777778,
             "#fb9f3a"
            ],
            [
             0.8888888888888888,
             "#fdca26"
            ],
            [
             1,
             "#f0f921"
            ]
           ],
           "sequentialminus": [
            [
             0,
             "#0d0887"
            ],
            [
             0.1111111111111111,
             "#46039f"
            ],
            [
             0.2222222222222222,
             "#7201a8"
            ],
            [
             0.3333333333333333,
             "#9c179e"
            ],
            [
             0.4444444444444444,
             "#bd3786"
            ],
            [
             0.5555555555555556,
             "#d8576b"
            ],
            [
             0.6666666666666666,
             "#ed7953"
            ],
            [
             0.7777777777777778,
             "#fb9f3a"
            ],
            [
             0.8888888888888888,
             "#fdca26"
            ],
            [
             1,
             "#f0f921"
            ]
           ]
          },
          "colorway": [
           "#636efa",
           "#EF553B",
           "#00cc96",
           "#ab63fa",
           "#FFA15A",
           "#19d3f3",
           "#FF6692",
           "#B6E880",
           "#FF97FF",
           "#FECB52"
          ],
          "font": {
           "color": "#2a3f5f"
          },
          "geo": {
           "bgcolor": "white",
           "lakecolor": "white",
           "landcolor": "#E5ECF6",
           "showlakes": true,
           "showland": true,
           "subunitcolor": "white"
          },
          "hoverlabel": {
           "align": "left"
          },
          "hovermode": "closest",
          "mapbox": {
           "style": "light"
          },
          "paper_bgcolor": "white",
          "plot_bgcolor": "#E5ECF6",
          "polar": {
           "angularaxis": {
            "gridcolor": "white",
            "linecolor": "white",
            "ticks": ""
           },
           "bgcolor": "#E5ECF6",
           "radialaxis": {
            "gridcolor": "white",
            "linecolor": "white",
            "ticks": ""
           }
          },
          "scene": {
           "xaxis": {
            "backgroundcolor": "#E5ECF6",
            "gridcolor": "white",
            "gridwidth": 2,
            "linecolor": "white",
            "showbackground": true,
            "ticks": "",
            "zerolinecolor": "white"
           },
           "yaxis": {
            "backgroundcolor": "#E5ECF6",
            "gridcolor": "white",
            "gridwidth": 2,
            "linecolor": "white",
            "showbackground": true,
            "ticks": "",
            "zerolinecolor": "white"
           },
           "zaxis": {
            "backgroundcolor": "#E5ECF6",
            "gridcolor": "white",
            "gridwidth": 2,
            "linecolor": "white",
            "showbackground": true,
            "ticks": "",
            "zerolinecolor": "white"
           }
          },
          "shapedefaults": {
           "line": {
            "color": "#2a3f5f"
           }
          },
          "ternary": {
           "aaxis": {
            "gridcolor": "white",
            "linecolor": "white",
            "ticks": ""
           },
           "baxis": {
            "gridcolor": "white",
            "linecolor": "white",
            "ticks": ""
           },
           "bgcolor": "#E5ECF6",
           "caxis": {
            "gridcolor": "white",
            "linecolor": "white",
            "ticks": ""
           }
          },
          "title": {
           "x": 0.05
          },
          "xaxis": {
           "automargin": true,
           "gridcolor": "white",
           "linecolor": "white",
           "ticks": "",
           "title": {
            "standoff": 15
           },
           "zerolinecolor": "white",
           "zerolinewidth": 2
          },
          "yaxis": {
           "automargin": true,
           "gridcolor": "white",
           "linecolor": "white",
           "ticks": "",
           "title": {
            "standoff": 15
           },
           "zerolinecolor": "white",
           "zerolinewidth": 2
          }
         }
        },
        "title": {
         "subtitle": {
          "text": "<i>All Appearances - Missing Chapters marked in red"
         },
         "text": "<b>Character Appearances by Chapter</b>"
        },
        "xaxis": {
         "anchor": "y",
         "domain": [
          0,
          1
         ],
         "title": {
          "text": "Chapter"
         }
        },
        "yaxis": {
         "anchor": "x",
         "autorange": "reversed",
         "categoryarray": [
          "Spoo",
          "Arikured",
          "Jazz's Father",
          "Muchara",
          "Malius Phantom",
          "Gamigin Ganjet",
          "Genzel Geyril",
          "Machara",
          "Moa",
          "Nenette",
          "Gyari's Manager",
          "Gyari",
          "Batt Nupie",
          "Kimaris Kyrielight",
          "Amy Azami",
          "Kirito",
          "General Kushinashi",
          "General Alvro",
          "Dokfel",
          "Jumbo",
          "Monmo",
          "Nova",
          "Munmu",
          "Meimei",
          "Mephistopheles",
          "Galna",
          "Beem R. Judain",
          "Palome",
          "Beem",
          "Aozora Kakeru",
          "Hoshino Rin",
          "Vine Marnie",
          "Merize",
          "Belzebuth Zebubra",
          "Barbatos President",
          "House Cats",
          "The Three Greats",
          "Shura",
          "Fenrir",
          "Zebubra",
          "Mephisto",
          "Lady Levi",
          "Lord Balial",
          "Naberius Narnia",
          "Beeber",
          "Homin",
          "Laura",
          "Yuna",
          "Harpnus",
          "Otonja",
          "Zepar Zera",
          "Zepar Zoui",
          "Zepar Palalaika",
          "Shimaji",
          "Thomas",
          "Purson's mother",
          "Purson's father",
          "Purson Purton",
          "Cedar",
          "Seir Sepata",
          "Uzu",
          "Pheené Marianne",
          "Jig Zakumu",
          "Roel Michel",
          "Parpar Juju",
          "Parpar Shin",
          "Demii Pemopemo",
          "Chimii Pemopemo",
          "Nix Nikomaru",
          "Gebatee Yan",
          "Aim Oolo",
          "Vine Garson",
          "Marbas F. Yabashi",
          "Ras Mozumi",
          "Ronron",
          "Incu Pamela",
          "Valefar Chacha",
          "Zepar Zeze",
          "Hon Rin Chan",
          "Strow Fuwatoro",
          "Pulu Puko",
          "Eita Oni",
          "Belial-Berry Razberry",
          "Leviathan Leiji",
          "Shichiro's Mother",
          "Amduscias Poro",
          "Ifrit Djinn Eito",
          "Morax",
          "Orias Oswell",
          "Thoth",
          "Ocho",
          "Solas Bobo",
          "Orobas Coco",
          "Niro Androalphus",
          "Ichiro Androalphus",
          "Ampsey Nafra",
          "Walb",
          "Barbatos Bachiko",
          "Mister Hat",
          "Lady Vepar",
          "The Thirteen Crowns",
          "Alice's dance partner",
          "Luluu Uval",
          "Triton",
          "Selaguts",
          "Smatetlede",
          "Dododo",
          "Balgio",
          "Ginguk",
          "Dlingar",
          "Lord Lumero",
          "Bats",
          "Imp Rocky",
          "Shiida",
          "Maemaro",
          "Atori",
          "Hyudarin",
          "Miki",
          "Wett",
          "Ronove Rosevelt",
          "Furcas",
          "Goemon's Father",
          "Asmodeus Lily",
          "Asmodeus Viole",
          "General Furfur",
          "Botti Yamanda",
          "Balam Shichiro",
          "Demon King Derkila",
          "Eligos Schenell",
          "Ronove Romiere",
          "Ronove Lomiere",
          "Kerori's Grandmother",
          "Crocell Chima",
          "Kerori's Brother",
          "Kerori's Mother",
          "Marbas Mar",
          "Kuromu",
          "Andro M. Rock",
          "Shax Shakky",
          "Nagi",
          "Morax Momonoki",
          "Buer Blushenko",
          "Gaako",
          "Eiko",
          "Murmur Tsumuru",
          "Ipos Ichou",
          "Bathin Baraki",
          "Garu",
          "David",
          "Kirio's Mother",
          "Valac Ran Ran",
          "Valac Sin Sin",
          "Valac Konchie",
          "Valac Keebow",
          "Valac Urara",
          "Mrs. Valac",
          "Baal",
          "Levi",
          "Belial",
          "Amaymon",
          "Glasya",
          "Asmodeus Amuryllis",
          "Astaroh",
          "Belzebuth",
          "Behemolt",
          "Paimon",
          "Marbas March",
          "Bars Robin",
          "Amy Kirio",
          "Dosanko",
          "Azuki",
          "Konatsu",
          "Haruno",
          "Raim",
          "Azazel Henri",
          "Kimaris Quichelight",
          "Zagan Johnny Western",
          "Azazel Ameri",
          "Astaroth Smoke",
          "Gusion Sunny Grave",
          "Stolas Suzy",
          "Alikred",
          "Sabnock Silvia",
          "Sabro's Brother",
          "Sabnock Sabzan",
          "Yamanda",
          "Purson Soi",
          "Agares Picero",
          "Allocer Schneider",
          "Sabnock Sabro",
          "Crocell Kerori",
          "Caim Kamui",
          "Gaap Goemon",
          "Ix Elizabetta",
          "Andro M. Jazz",
          "Shax Lied",
          "Camu Camu",
          "Yocchan",
          "Valac Clara",
          "Naberius Kalego",
          "Opera",
          "Eiko Oni",
          "Dantalion Dali",
          "Asmodeus Alice",
          "Iruma's Mother",
          "Iruma's Father",
          "Lord Sullivan",
          "Iruma Suzuki"
         ],
         "categoryorder": "array",
         "domain": [
          0,
          1
         ],
         "showticklabels": false,
         "title": {
          "text": "Characters"
         }
        }
       }
      }
     },
     "metadata": {},
     "output_type": "display_data"
    },
    {
     "name": "stdout",
     "output_type": "stream",
     "text": [
      "> Plotly Graph saved to assets\n"
     ]
    }
   ],
   "source": [
    "import pandas as pd\n",
    "import plotly.express as px\n",
    "\n",
    "# Daten laden\n",
    "df = pd.read_json(\"data/Characters_by_Appearance-CLEAN.json\")\n",
    "\n",
    "# Scatterplot erstellen\n",
    "fig = px.scatter(\n",
    "    df,\n",
    "    x=\"Kapitel\",\n",
    "    y=\"Name\",\n",
    "    color=\"Name\",\n",
    "    symbol=\"Name\",\n",
    "    title=\"<b>Character Appearances by Chapter</b>\",\n",
    "    subtitle=\"<i>All Appearances - Missing Chapters marked in red\"\n",
    ")\n",
    "\n",
    "fig.update_yaxes(autorange=\"reversed\")\n",
    "\n",
    "fig.update_traces(\n",
    "    marker=dict(\n",
    "        symbol=\"square\",\n",
    "        size=5,\n",
    "        line=dict(width=1)\n",
    "    )\n",
    ")\n",
    "\n",
    "fig.update_layout(\n",
    "    xaxis_title=\"Chapter\",\n",
    "    yaxis_title=\"Characters\"\n",
    ")\n",
    "fig.update_layout(showlegend=False)\n",
    "fig.update_yaxes(showticklabels=False)\n",
    "\n",
    "for chap in allChapters:\n",
    "    fig.add_vrect(\n",
    "        x0=chap - 0.5,  # kleine Breite, damit es das Kapitel markiert\n",
    "        x1=chap + 0.5,\n",
    "        fillcolor=\"red\",\n",
    "        opacity=0.2,\n",
    "        line_width=0,\n",
    "        layer=\"below\"  # Hintergrund\n",
    "    )\n",
    "\n",
    "fig.show()\n",
    "fig.write_html(\"assets/AllAppearances.html\")\n",
    "\n",
    "print(\"> Plotly Graph saved to assets\")\n"
   ]
  },
  {
   "cell_type": "markdown",
   "id": "3b898982",
   "metadata": {},
   "source": [
    "### Wie häufig erschienen?"
   ]
  },
  {
   "cell_type": "code",
   "execution_count": 77,
   "id": "a14c6884",
   "metadata": {},
   "outputs": [
    {
     "data": {
      "application/vnd.plotly.v1+json": {
       "config": {
        "plotlyServerURL": "https://plot.ly"
       },
       "data": [
        {
         "hovertemplate": "Name=%{x}<br>Anzahl=%{text}<extra></extra>",
         "legendgroup": "Iruma Suzuki",
         "marker": {
          "color": "#636efa",
          "pattern": {
           "shape": ""
          }
         },
         "name": "Iruma Suzuki",
         "orientation": "v",
         "showlegend": true,
         "text": {
          "bdata": "AAAAAADQcEA=",
          "dtype": "f8"
         },
         "textposition": "outside",
         "type": "bar",
         "x": [
          "Iruma Suzuki"
         ],
         "xaxis": "x",
         "y": {
          "bdata": "DQE=",
          "dtype": "i2"
         },
         "yaxis": "y"
        },
        {
         "hovertemplate": "Name=%{x}<br>Anzahl=%{text}<extra></extra>",
         "legendgroup": "Asmodeus Alice",
         "marker": {
          "color": "#EF553B",
          "pattern": {
           "shape": ""
          }
         },
         "name": "Asmodeus Alice",
         "orientation": "v",
         "showlegend": true,
         "text": {
          "bdata": "AAAAAABAa0A=",
          "dtype": "f8"
         },
         "textposition": "outside",
         "type": "bar",
         "x": [
          "Asmodeus Alice"
         ],
         "xaxis": "x",
         "y": {
          "bdata": "2gA=",
          "dtype": "i2"
         },
         "yaxis": "y"
        },
        {
         "hovertemplate": "Name=%{x}<br>Anzahl=%{text}<extra></extra>",
         "legendgroup": "Valac Clara",
         "marker": {
          "color": "#00cc96",
          "pattern": {
           "shape": ""
          }
         },
         "name": "Valac Clara",
         "orientation": "v",
         "showlegend": true,
         "text": {
          "bdata": "AAAAAAAAaEA=",
          "dtype": "f8"
         },
         "textposition": "outside",
         "type": "bar",
         "x": [
          "Valac Clara"
         ],
         "xaxis": "x",
         "y": {
          "bdata": "wAA=",
          "dtype": "i2"
         },
         "yaxis": "y"
        },
        {
         "hovertemplate": "Name=%{x}<br>Anzahl=%{text}<extra></extra>",
         "legendgroup": "Andro M. Jazz",
         "marker": {
          "color": "#ab63fa",
          "pattern": {
           "shape": ""
          }
         },
         "name": "Andro M. Jazz",
         "orientation": "v",
         "showlegend": true,
         "text": {
          "bdata": "AAAAAADAXUA=",
          "dtype": "f8"
         },
         "textposition": "outside",
         "type": "bar",
         "x": [
          "Andro M. Jazz"
         ],
         "xaxis": "x",
         "y": {
          "bdata": "dw==",
          "dtype": "i1"
         },
         "yaxis": "y"
        },
        {
         "hovertemplate": "Name=%{x}<br>Anzahl=%{text}<extra></extra>",
         "legendgroup": "Azazel Ameri",
         "marker": {
          "color": "#FFA15A",
          "pattern": {
           "shape": ""
          }
         },
         "name": "Azazel Ameri",
         "orientation": "v",
         "showlegend": true,
         "text": {
          "bdata": "AAAAAACAXUA=",
          "dtype": "f8"
         },
         "textposition": "outside",
         "type": "bar",
         "x": [
          "Azazel Ameri"
         ],
         "xaxis": "x",
         "y": {
          "bdata": "dg==",
          "dtype": "i1"
         },
         "yaxis": "y"
        },
        {
         "hovertemplate": "Name=%{x}<br>Anzahl=%{text}<extra></extra>",
         "legendgroup": "Shax Lied",
         "marker": {
          "color": "#19d3f3",
          "pattern": {
           "shape": ""
          }
         },
         "name": "Shax Lied",
         "orientation": "v",
         "showlegend": true,
         "text": {
          "bdata": "AAAAAADAXEA=",
          "dtype": "f8"
         },
         "textposition": "outside",
         "type": "bar",
         "x": [
          "Shax Lied"
         ],
         "xaxis": "x",
         "y": {
          "bdata": "cw==",
          "dtype": "i1"
         },
         "yaxis": "y"
        },
        {
         "hovertemplate": "Name=%{x}<br>Anzahl=%{text}<extra></extra>",
         "legendgroup": "Naberius Kalego",
         "marker": {
          "color": "#FF6692",
          "pattern": {
           "shape": ""
          }
         },
         "name": "Naberius Kalego",
         "orientation": "v",
         "showlegend": true,
         "text": {
          "bdata": "AAAAAAAAXEA=",
          "dtype": "f8"
         },
         "textposition": "outside",
         "type": "bar",
         "x": [
          "Naberius Kalego"
         ],
         "xaxis": "x",
         "y": {
          "bdata": "cA==",
          "dtype": "i1"
         },
         "yaxis": "y"
        },
        {
         "hovertemplate": "Name=%{x}<br>Anzahl=%{text}<extra></extra>",
         "legendgroup": "Sabnock Sabro",
         "marker": {
          "color": "#B6E880",
          "pattern": {
           "shape": ""
          }
         },
         "name": "Sabnock Sabro",
         "orientation": "v",
         "showlegend": true,
         "text": {
          "bdata": "AAAAAACAW0A=",
          "dtype": "f8"
         },
         "textposition": "outside",
         "type": "bar",
         "x": [
          "Sabnock Sabro"
         ],
         "xaxis": "x",
         "y": {
          "bdata": "bg==",
          "dtype": "i1"
         },
         "yaxis": "y"
        },
        {
         "hovertemplate": "Name=%{x}<br>Anzahl=%{text}<extra></extra>",
         "legendgroup": "Lord Sullivan",
         "marker": {
          "color": "#FF97FF",
          "pattern": {
           "shape": ""
          }
         },
         "name": "Lord Sullivan",
         "orientation": "v",
         "showlegend": true,
         "text": {
          "bdata": "AAAAAADAWkA=",
          "dtype": "f8"
         },
         "textposition": "outside",
         "type": "bar",
         "x": [
          "Lord Sullivan"
         ],
         "xaxis": "x",
         "y": {
          "bdata": "aw==",
          "dtype": "i1"
         },
         "yaxis": "y"
        },
        {
         "hovertemplate": "Name=%{x}<br>Anzahl=%{text}<extra></extra>",
         "legendgroup": "Gaap Goemon",
         "marker": {
          "color": "#FECB52",
          "pattern": {
           "shape": ""
          }
         },
         "name": "Gaap Goemon",
         "orientation": "v",
         "showlegend": true,
         "text": {
          "bdata": "AAAAAAAAV0A=",
          "dtype": "f8"
         },
         "textposition": "outside",
         "type": "bar",
         "x": [
          "Gaap Goemon"
         ],
         "xaxis": "x",
         "y": {
          "bdata": "XA==",
          "dtype": "i1"
         },
         "yaxis": "y"
        },
        {
         "hovertemplate": "Name=%{x}<br>Anzahl=%{text}<extra></extra>",
         "legendgroup": "Crocell Kerori",
         "marker": {
          "color": "#636efa",
          "pattern": {
           "shape": ""
          }
         },
         "name": "Crocell Kerori",
         "orientation": "v",
         "showlegend": true,
         "text": {
          "bdata": "AAAAAAAAVkA=",
          "dtype": "f8"
         },
         "textposition": "outside",
         "type": "bar",
         "x": [
          "Crocell Kerori"
         ],
         "xaxis": "x",
         "y": {
          "bdata": "WA==",
          "dtype": "i1"
         },
         "yaxis": "y"
        },
        {
         "hovertemplate": "Name=%{x}<br>Anzahl=%{text}<extra></extra>",
         "legendgroup": "Opera",
         "marker": {
          "color": "#EF553B",
          "pattern": {
           "shape": ""
          }
         },
         "name": "Opera",
         "orientation": "v",
         "showlegend": true,
         "text": {
          "bdata": "AAAAAADAVUA=",
          "dtype": "f8"
         },
         "textposition": "outside",
         "type": "bar",
         "x": [
          "Opera"
         ],
         "xaxis": "x",
         "y": {
          "bdata": "Vw==",
          "dtype": "i1"
         },
         "yaxis": "y"
        },
        {
         "hovertemplate": "Name=%{x}<br>Anzahl=%{text}<extra></extra>",
         "legendgroup": "Ix Elizabetta",
         "marker": {
          "color": "#00cc96",
          "pattern": {
           "shape": ""
          }
         },
         "name": "Ix Elizabetta",
         "orientation": "v",
         "showlegend": true,
         "text": {
          "bdata": "AAAAAACAVUA=",
          "dtype": "f8"
         },
         "textposition": "outside",
         "type": "bar",
         "x": [
          "Ix Elizabetta"
         ],
         "xaxis": "x",
         "y": {
          "bdata": "Vg==",
          "dtype": "i1"
         },
         "yaxis": "y"
        },
        {
         "hovertemplate": "Name=%{x}<br>Anzahl=%{text}<extra></extra>",
         "legendgroup": "Caim Kamui",
         "marker": {
          "color": "#ab63fa",
          "pattern": {
           "shape": ""
          }
         },
         "name": "Caim Kamui",
         "orientation": "v",
         "showlegend": true,
         "text": {
          "bdata": "AAAAAADAUkA=",
          "dtype": "f8"
         },
         "textposition": "outside",
         "type": "bar",
         "x": [
          "Caim Kamui"
         ],
         "xaxis": "x",
         "y": {
          "bdata": "Sw==",
          "dtype": "i1"
         },
         "yaxis": "y"
        },
        {
         "hovertemplate": "Name=%{x}<br>Anzahl=%{text}<extra></extra>",
         "legendgroup": "Agares Picero",
         "marker": {
          "color": "#FFA15A",
          "pattern": {
           "shape": ""
          }
         },
         "name": "Agares Picero",
         "orientation": "v",
         "showlegend": true,
         "text": {
          "bdata": "AAAAAABAUkA=",
          "dtype": "f8"
         },
         "textposition": "outside",
         "type": "bar",
         "x": [
          "Agares Picero"
         ],
         "xaxis": "x",
         "y": {
          "bdata": "SQ==",
          "dtype": "i1"
         },
         "yaxis": "y"
        },
        {
         "hovertemplate": "Name=%{x}<br>Anzahl=%{text}<extra></extra>",
         "legendgroup": "Balam Shichiro",
         "marker": {
          "color": "#19d3f3",
          "pattern": {
           "shape": ""
          }
         },
         "name": "Balam Shichiro",
         "orientation": "v",
         "showlegend": true,
         "text": {
          "bdata": "AAAAAABAUEA=",
          "dtype": "f8"
         },
         "textposition": "outside",
         "type": "bar",
         "x": [
          "Balam Shichiro"
         ],
         "xaxis": "x",
         "y": {
          "bdata": "QQ==",
          "dtype": "i1"
         },
         "yaxis": "y"
        },
        {
         "hovertemplate": "Name=%{x}<br>Anzahl=%{text}<extra></extra>",
         "legendgroup": "Allocer Schneider",
         "marker": {
          "color": "#FF6692",
          "pattern": {
           "shape": ""
          }
         },
         "name": "Allocer Schneider",
         "orientation": "v",
         "showlegend": true,
         "text": {
          "bdata": "AAAAAAAATEA=",
          "dtype": "f8"
         },
         "textposition": "outside",
         "type": "bar",
         "x": [
          "Allocer Schneider"
         ],
         "xaxis": "x",
         "y": {
          "bdata": "OA==",
          "dtype": "i1"
         },
         "yaxis": "y"
        },
        {
         "hovertemplate": "Name=%{x}<br>Anzahl=%{text}<extra></extra>",
         "legendgroup": "Barbatos Bachiko",
         "marker": {
          "color": "#B6E880",
          "pattern": {
           "shape": ""
          }
         },
         "name": "Barbatos Bachiko",
         "orientation": "v",
         "showlegend": true,
         "text": {
          "bdata": "AAAAAAAAS0A=",
          "dtype": "f8"
         },
         "textposition": "outside",
         "type": "bar",
         "x": [
          "Barbatos Bachiko"
         ],
         "xaxis": "x",
         "y": {
          "bdata": "Ng==",
          "dtype": "i1"
         },
         "yaxis": "y"
        },
        {
         "hovertemplate": "Name=%{x}<br>Anzahl=%{text}<extra></extra>",
         "legendgroup": "Sabnock Silvia",
         "marker": {
          "color": "#FF97FF",
          "pattern": {
           "shape": ""
          }
         },
         "name": "Sabnock Silvia",
         "orientation": "v",
         "showlegend": true,
         "text": {
          "bdata": "AAAAAAAASkA=",
          "dtype": "f8"
         },
         "textposition": "outside",
         "type": "bar",
         "x": [
          "Sabnock Silvia"
         ],
         "xaxis": "x",
         "y": {
          "bdata": "NA==",
          "dtype": "i1"
         },
         "yaxis": "y"
        },
        {
         "hovertemplate": "Name=%{x}<br>Anzahl=%{text}<extra></extra>",
         "legendgroup": "Purson Soi",
         "marker": {
          "color": "#FECB52",
          "pattern": {
           "shape": ""
          }
         },
         "name": "Purson Soi",
         "orientation": "v",
         "showlegend": true,
         "text": {
          "bdata": "AAAAAACASUA=",
          "dtype": "f8"
         },
         "textposition": "outside",
         "type": "bar",
         "x": [
          "Purson Soi"
         ],
         "xaxis": "x",
         "y": {
          "bdata": "Mw==",
          "dtype": "i1"
         },
         "yaxis": "y"
        }
       ],
       "layout": {
        "barmode": "relative",
        "legend": {
         "title": {
          "text": "Name"
         },
         "tracegroupgap": 0
        },
        "showlegend": false,
        "template": {
         "data": {
          "bar": [
           {
            "error_x": {
             "color": "#2a3f5f"
            },
            "error_y": {
             "color": "#2a3f5f"
            },
            "marker": {
             "line": {
              "color": "#E5ECF6",
              "width": 0.5
             },
             "pattern": {
              "fillmode": "overlay",
              "size": 10,
              "solidity": 0.2
             }
            },
            "type": "bar"
           }
          ],
          "barpolar": [
           {
            "marker": {
             "line": {
              "color": "#E5ECF6",
              "width": 0.5
             },
             "pattern": {
              "fillmode": "overlay",
              "size": 10,
              "solidity": 0.2
             }
            },
            "type": "barpolar"
           }
          ],
          "carpet": [
           {
            "aaxis": {
             "endlinecolor": "#2a3f5f",
             "gridcolor": "white",
             "linecolor": "white",
             "minorgridcolor": "white",
             "startlinecolor": "#2a3f5f"
            },
            "baxis": {
             "endlinecolor": "#2a3f5f",
             "gridcolor": "white",
             "linecolor": "white",
             "minorgridcolor": "white",
             "startlinecolor": "#2a3f5f"
            },
            "type": "carpet"
           }
          ],
          "choropleth": [
           {
            "colorbar": {
             "outlinewidth": 0,
             "ticks": ""
            },
            "type": "choropleth"
           }
          ],
          "contour": [
           {
            "colorbar": {
             "outlinewidth": 0,
             "ticks": ""
            },
            "colorscale": [
             [
              0,
              "#0d0887"
             ],
             [
              0.1111111111111111,
              "#46039f"
             ],
             [
              0.2222222222222222,
              "#7201a8"
             ],
             [
              0.3333333333333333,
              "#9c179e"
             ],
             [
              0.4444444444444444,
              "#bd3786"
             ],
             [
              0.5555555555555556,
              "#d8576b"
             ],
             [
              0.6666666666666666,
              "#ed7953"
             ],
             [
              0.7777777777777778,
              "#fb9f3a"
             ],
             [
              0.8888888888888888,
              "#fdca26"
             ],
             [
              1,
              "#f0f921"
             ]
            ],
            "type": "contour"
           }
          ],
          "contourcarpet": [
           {
            "colorbar": {
             "outlinewidth": 0,
             "ticks": ""
            },
            "type": "contourcarpet"
           }
          ],
          "heatmap": [
           {
            "colorbar": {
             "outlinewidth": 0,
             "ticks": ""
            },
            "colorscale": [
             [
              0,
              "#0d0887"
             ],
             [
              0.1111111111111111,
              "#46039f"
             ],
             [
              0.2222222222222222,
              "#7201a8"
             ],
             [
              0.3333333333333333,
              "#9c179e"
             ],
             [
              0.4444444444444444,
              "#bd3786"
             ],
             [
              0.5555555555555556,
              "#d8576b"
             ],
             [
              0.6666666666666666,
              "#ed7953"
             ],
             [
              0.7777777777777778,
              "#fb9f3a"
             ],
             [
              0.8888888888888888,
              "#fdca26"
             ],
             [
              1,
              "#f0f921"
             ]
            ],
            "type": "heatmap"
           }
          ],
          "histogram": [
           {
            "marker": {
             "pattern": {
              "fillmode": "overlay",
              "size": 10,
              "solidity": 0.2
             }
            },
            "type": "histogram"
           }
          ],
          "histogram2d": [
           {
            "colorbar": {
             "outlinewidth": 0,
             "ticks": ""
            },
            "colorscale": [
             [
              0,
              "#0d0887"
             ],
             [
              0.1111111111111111,
              "#46039f"
             ],
             [
              0.2222222222222222,
              "#7201a8"
             ],
             [
              0.3333333333333333,
              "#9c179e"
             ],
             [
              0.4444444444444444,
              "#bd3786"
             ],
             [
              0.5555555555555556,
              "#d8576b"
             ],
             [
              0.6666666666666666,
              "#ed7953"
             ],
             [
              0.7777777777777778,
              "#fb9f3a"
             ],
             [
              0.8888888888888888,
              "#fdca26"
             ],
             [
              1,
              "#f0f921"
             ]
            ],
            "type": "histogram2d"
           }
          ],
          "histogram2dcontour": [
           {
            "colorbar": {
             "outlinewidth": 0,
             "ticks": ""
            },
            "colorscale": [
             [
              0,
              "#0d0887"
             ],
             [
              0.1111111111111111,
              "#46039f"
             ],
             [
              0.2222222222222222,
              "#7201a8"
             ],
             [
              0.3333333333333333,
              "#9c179e"
             ],
             [
              0.4444444444444444,
              "#bd3786"
             ],
             [
              0.5555555555555556,
              "#d8576b"
             ],
             [
              0.6666666666666666,
              "#ed7953"
             ],
             [
              0.7777777777777778,
              "#fb9f3a"
             ],
             [
              0.8888888888888888,
              "#fdca26"
             ],
             [
              1,
              "#f0f921"
             ]
            ],
            "type": "histogram2dcontour"
           }
          ],
          "mesh3d": [
           {
            "colorbar": {
             "outlinewidth": 0,
             "ticks": ""
            },
            "type": "mesh3d"
           }
          ],
          "parcoords": [
           {
            "line": {
             "colorbar": {
              "outlinewidth": 0,
              "ticks": ""
             }
            },
            "type": "parcoords"
           }
          ],
          "pie": [
           {
            "automargin": true,
            "type": "pie"
           }
          ],
          "scatter": [
           {
            "fillpattern": {
             "fillmode": "overlay",
             "size": 10,
             "solidity": 0.2
            },
            "type": "scatter"
           }
          ],
          "scatter3d": [
           {
            "line": {
             "colorbar": {
              "outlinewidth": 0,
              "ticks": ""
             }
            },
            "marker": {
             "colorbar": {
              "outlinewidth": 0,
              "ticks": ""
             }
            },
            "type": "scatter3d"
           }
          ],
          "scattercarpet": [
           {
            "marker": {
             "colorbar": {
              "outlinewidth": 0,
              "ticks": ""
             }
            },
            "type": "scattercarpet"
           }
          ],
          "scattergeo": [
           {
            "marker": {
             "colorbar": {
              "outlinewidth": 0,
              "ticks": ""
             }
            },
            "type": "scattergeo"
           }
          ],
          "scattergl": [
           {
            "marker": {
             "colorbar": {
              "outlinewidth": 0,
              "ticks": ""
             }
            },
            "type": "scattergl"
           }
          ],
          "scattermap": [
           {
            "marker": {
             "colorbar": {
              "outlinewidth": 0,
              "ticks": ""
             }
            },
            "type": "scattermap"
           }
          ],
          "scattermapbox": [
           {
            "marker": {
             "colorbar": {
              "outlinewidth": 0,
              "ticks": ""
             }
            },
            "type": "scattermapbox"
           }
          ],
          "scatterpolar": [
           {
            "marker": {
             "colorbar": {
              "outlinewidth": 0,
              "ticks": ""
             }
            },
            "type": "scatterpolar"
           }
          ],
          "scatterpolargl": [
           {
            "marker": {
             "colorbar": {
              "outlinewidth": 0,
              "ticks": ""
             }
            },
            "type": "scatterpolargl"
           }
          ],
          "scatterternary": [
           {
            "marker": {
             "colorbar": {
              "outlinewidth": 0,
              "ticks": ""
             }
            },
            "type": "scatterternary"
           }
          ],
          "surface": [
           {
            "colorbar": {
             "outlinewidth": 0,
             "ticks": ""
            },
            "colorscale": [
             [
              0,
              "#0d0887"
             ],
             [
              0.1111111111111111,
              "#46039f"
             ],
             [
              0.2222222222222222,
              "#7201a8"
             ],
             [
              0.3333333333333333,
              "#9c179e"
             ],
             [
              0.4444444444444444,
              "#bd3786"
             ],
             [
              0.5555555555555556,
              "#d8576b"
             ],
             [
              0.6666666666666666,
              "#ed7953"
             ],
             [
              0.7777777777777778,
              "#fb9f3a"
             ],
             [
              0.8888888888888888,
              "#fdca26"
             ],
             [
              1,
              "#f0f921"
             ]
            ],
            "type": "surface"
           }
          ],
          "table": [
           {
            "cells": {
             "fill": {
              "color": "#EBF0F8"
             },
             "line": {
              "color": "white"
             }
            },
            "header": {
             "fill": {
              "color": "#C8D4E3"
             },
             "line": {
              "color": "white"
             }
            },
            "type": "table"
           }
          ]
         },
         "layout": {
          "annotationdefaults": {
           "arrowcolor": "#2a3f5f",
           "arrowhead": 0,
           "arrowwidth": 1
          },
          "autotypenumbers": "strict",
          "coloraxis": {
           "colorbar": {
            "outlinewidth": 0,
            "ticks": ""
           }
          },
          "colorscale": {
           "diverging": [
            [
             0,
             "#8e0152"
            ],
            [
             0.1,
             "#c51b7d"
            ],
            [
             0.2,
             "#de77ae"
            ],
            [
             0.3,
             "#f1b6da"
            ],
            [
             0.4,
             "#fde0ef"
            ],
            [
             0.5,
             "#f7f7f7"
            ],
            [
             0.6,
             "#e6f5d0"
            ],
            [
             0.7,
             "#b8e186"
            ],
            [
             0.8,
             "#7fbc41"
            ],
            [
             0.9,
             "#4d9221"
            ],
            [
             1,
             "#276419"
            ]
           ],
           "sequential": [
            [
             0,
             "#0d0887"
            ],
            [
             0.1111111111111111,
             "#46039f"
            ],
            [
             0.2222222222222222,
             "#7201a8"
            ],
            [
             0.3333333333333333,
             "#9c179e"
            ],
            [
             0.4444444444444444,
             "#bd3786"
            ],
            [
             0.5555555555555556,
             "#d8576b"
            ],
            [
             0.6666666666666666,
             "#ed7953"
            ],
            [
             0.7777777777777778,
             "#fb9f3a"
            ],
            [
             0.8888888888888888,
             "#fdca26"
            ],
            [
             1,
             "#f0f921"
            ]
           ],
           "sequentialminus": [
            [
             0,
             "#0d0887"
            ],
            [
             0.1111111111111111,
             "#46039f"
            ],
            [
             0.2222222222222222,
             "#7201a8"
            ],
            [
             0.3333333333333333,
             "#9c179e"
            ],
            [
             0.4444444444444444,
             "#bd3786"
            ],
            [
             0.5555555555555556,
             "#d8576b"
            ],
            [
             0.6666666666666666,
             "#ed7953"
            ],
            [
             0.7777777777777778,
             "#fb9f3a"
            ],
            [
             0.8888888888888888,
             "#fdca26"
            ],
            [
             1,
             "#f0f921"
            ]
           ]
          },
          "colorway": [
           "#636efa",
           "#EF553B",
           "#00cc96",
           "#ab63fa",
           "#FFA15A",
           "#19d3f3",
           "#FF6692",
           "#B6E880",
           "#FF97FF",
           "#FECB52"
          ],
          "font": {
           "color": "#2a3f5f"
          },
          "geo": {
           "bgcolor": "white",
           "lakecolor": "white",
           "landcolor": "#E5ECF6",
           "showlakes": true,
           "showland": true,
           "subunitcolor": "white"
          },
          "hoverlabel": {
           "align": "left"
          },
          "hovermode": "closest",
          "mapbox": {
           "style": "light"
          },
          "paper_bgcolor": "white",
          "plot_bgcolor": "#E5ECF6",
          "polar": {
           "angularaxis": {
            "gridcolor": "white",
            "linecolor": "white",
            "ticks": ""
           },
           "bgcolor": "#E5ECF6",
           "radialaxis": {
            "gridcolor": "white",
            "linecolor": "white",
            "ticks": ""
           }
          },
          "scene": {
           "xaxis": {
            "backgroundcolor": "#E5ECF6",
            "gridcolor": "white",
            "gridwidth": 2,
            "linecolor": "white",
            "showbackground": true,
            "ticks": "",
            "zerolinecolor": "white"
           },
           "yaxis": {
            "backgroundcolor": "#E5ECF6",
            "gridcolor": "white",
            "gridwidth": 2,
            "linecolor": "white",
            "showbackground": true,
            "ticks": "",
            "zerolinecolor": "white"
           },
           "zaxis": {
            "backgroundcolor": "#E5ECF6",
            "gridcolor": "white",
            "gridwidth": 2,
            "linecolor": "white",
            "showbackground": true,
            "ticks": "",
            "zerolinecolor": "white"
           }
          },
          "shapedefaults": {
           "line": {
            "color": "#2a3f5f"
           }
          },
          "ternary": {
           "aaxis": {
            "gridcolor": "white",
            "linecolor": "white",
            "ticks": ""
           },
           "baxis": {
            "gridcolor": "white",
            "linecolor": "white",
            "ticks": ""
           },
           "bgcolor": "#E5ECF6",
           "caxis": {
            "gridcolor": "white",
            "linecolor": "white",
            "ticks": ""
           }
          },
          "title": {
           "x": 0.05
          },
          "xaxis": {
           "automargin": true,
           "gridcolor": "white",
           "linecolor": "white",
           "ticks": "",
           "title": {
            "standoff": 15
           },
           "zerolinecolor": "white",
           "zerolinewidth": 2
          },
          "yaxis": {
           "automargin": true,
           "gridcolor": "white",
           "linecolor": "white",
           "ticks": "",
           "title": {
            "standoff": 15
           },
           "zerolinecolor": "white",
           "zerolinewidth": 2
          }
         }
        },
        "title": {
         "subtitle": {
          "text": "<i>Sorted in descending order</i>"
         },
         "text": "<b>Count of Apperances by Character - Top 20</b>"
        },
        "xaxis": {
         "anchor": "y",
         "categoryarray": [
          "Iruma Suzuki",
          "Asmodeus Alice",
          "Valac Clara",
          "Andro M. Jazz",
          "Azazel Ameri",
          "Shax Lied",
          "Naberius Kalego",
          "Sabnock Sabro",
          "Lord Sullivan",
          "Gaap Goemon",
          "Crocell Kerori",
          "Opera",
          "Ix Elizabetta",
          "Caim Kamui",
          "Agares Picero",
          "Balam Shichiro",
          "Allocer Schneider",
          "Barbatos Bachiko",
          "Sabnock Silvia",
          "Purson Soi"
         ],
         "categoryorder": "array",
         "domain": [
          0,
          1
         ],
         "title": {
          "text": "Character"
         }
        },
        "yaxis": {
         "anchor": "x",
         "domain": [
          0,
          1
         ],
         "title": {
          "text": "Count"
         }
        }
       }
      }
     },
     "metadata": {},
     "output_type": "display_data"
    },
    {
     "name": "stdout",
     "output_type": "stream",
     "text": [
      "> Plotly Graph saved to assets\n"
     ]
    }
   ],
   "source": [
    "import pandas as pd\n",
    "import plotly.express as px\n",
    "\n",
    "df = pd.read_json(\"data/Characters_by_Appearance-CLEAN.json\")\n",
    "\n",
    "df[\"Anzahl\"] = 1\n",
    "\n",
    "df_grouped = df.groupby(\"Name\", as_index=False)[\"Anzahl\"].sum()\n",
    "df_grouped = df_grouped.sort_values(\"Anzahl\", ascending=False)\n",
    "\n",
    "df_grouped = df_grouped.head(20)\n",
    "\n",
    "fig = px.bar(df_grouped, \n",
    "             x=\"Name\", \n",
    "             y=\"Anzahl\", \n",
    "             text=\"Anzahl\", \n",
    "             color=\"Name\",\n",
    "             title=\"<b>Count of Apperances by Character - Top 20</b>\",\n",
    "             subtitle=\"<i>Sorted in descending order</i>\"\n",
    "    )\n",
    "\n",
    "fig.update_traces(textposition='outside')\n",
    "fig.update_layout(showlegend=False)\n",
    "\n",
    "fig.update_layout(\n",
    "    xaxis_title=\"Character\",\n",
    "    yaxis_title=\"Count\"\n",
    ")\n",
    "\n",
    "fig.show()\n",
    "fig.write_html(\"assets/MaxAppearancesRanking.html\")\n",
    "\n",
    "print(\"> Plotly Graph saved to assets\")"
   ]
  },
  {
   "cell_type": "markdown",
   "id": "8d1176db",
   "metadata": {},
   "source": [
    "### Caraktere pro Kapitel"
   ]
  },
  {
   "cell_type": "code",
   "execution_count": 78,
   "id": "502c2b1e",
   "metadata": {},
   "outputs": [
    {
     "data": {
      "application/vnd.plotly.v1+json": {
       "config": {
        "plotlyServerURL": "https://plot.ly"
       },
       "data": [
        {
         "hovertemplate": "Kapitel=%{x}<br>Anzahl=%{text}<extra></extra>",
         "legendgroup": "236",
         "marker": {
          "color": "#636efa",
          "pattern": {
           "shape": ""
          }
         },
         "name": "236",
         "orientation": "v",
         "showlegend": true,
         "text": {
          "bdata": "AAAAAACARUA=",
          "dtype": "f8"
         },
         "textposition": "outside",
         "type": "bar",
         "x": [
          "236"
         ],
         "xaxis": "x",
         "y": {
          "bdata": "Kw==",
          "dtype": "i1"
         },
         "yaxis": "y"
        },
        {
         "hovertemplate": "Kapitel=%{x}<br>Anzahl=%{text}<extra></extra>",
         "legendgroup": "224",
         "marker": {
          "color": "#EF553B",
          "pattern": {
           "shape": ""
          }
         },
         "name": "224",
         "orientation": "v",
         "showlegend": true,
         "text": {
          "bdata": "AAAAAAAAREA=",
          "dtype": "f8"
         },
         "textposition": "outside",
         "type": "bar",
         "x": [
          "224"
         ],
         "xaxis": "x",
         "y": {
          "bdata": "KA==",
          "dtype": "i1"
         },
         "yaxis": "y"
        },
        {
         "hovertemplate": "Kapitel=%{x}<br>Anzahl=%{text}<extra></extra>",
         "legendgroup": "277",
         "marker": {
          "color": "#00cc96",
          "pattern": {
           "shape": ""
          }
         },
         "name": "277",
         "orientation": "v",
         "showlegend": true,
         "text": {
          "bdata": "AAAAAAAAQ0A=",
          "dtype": "f8"
         },
         "textposition": "outside",
         "type": "bar",
         "x": [
          "277"
         ],
         "xaxis": "x",
         "y": {
          "bdata": "Jg==",
          "dtype": "i1"
         },
         "yaxis": "y"
        },
        {
         "hovertemplate": "Kapitel=%{x}<br>Anzahl=%{text}<extra></extra>",
         "legendgroup": "225",
         "marker": {
          "color": "#ab63fa",
          "pattern": {
           "shape": ""
          }
         },
         "name": "225",
         "orientation": "v",
         "showlegend": true,
         "text": {
          "bdata": "AAAAAACAQUA=",
          "dtype": "f8"
         },
         "textposition": "outside",
         "type": "bar",
         "x": [
          "225"
         ],
         "xaxis": "x",
         "y": {
          "bdata": "Iw==",
          "dtype": "i1"
         },
         "yaxis": "y"
        },
        {
         "hovertemplate": "Kapitel=%{x}<br>Anzahl=%{text}<extra></extra>",
         "legendgroup": "283",
         "marker": {
          "color": "#FFA15A",
          "pattern": {
           "shape": ""
          }
         },
         "name": "283",
         "orientation": "v",
         "showlegend": true,
         "text": {
          "bdata": "AAAAAACAQEA=",
          "dtype": "f8"
         },
         "textposition": "outside",
         "type": "bar",
         "x": [
          "283"
         ],
         "xaxis": "x",
         "y": {
          "bdata": "IQ==",
          "dtype": "i1"
         },
         "yaxis": "y"
        },
        {
         "hovertemplate": "Kapitel=%{x}<br>Anzahl=%{text}<extra></extra>",
         "legendgroup": "309",
         "marker": {
          "color": "#19d3f3",
          "pattern": {
           "shape": ""
          }
         },
         "name": "309",
         "orientation": "v",
         "showlegend": true,
         "text": {
          "bdata": "AAAAAAAAQEA=",
          "dtype": "f8"
         },
         "textposition": "outside",
         "type": "bar",
         "x": [
          "309"
         ],
         "xaxis": "x",
         "y": {
          "bdata": "IA==",
          "dtype": "i1"
         },
         "yaxis": "y"
        },
        {
         "hovertemplate": "Kapitel=%{x}<br>Anzahl=%{text}<extra></extra>",
         "legendgroup": "86",
         "marker": {
          "color": "#FF6692",
          "pattern": {
           "shape": ""
          }
         },
         "name": "86",
         "orientation": "v",
         "showlegend": true,
         "text": {
          "bdata": "AAAAAAAAQEA=",
          "dtype": "f8"
         },
         "textposition": "outside",
         "type": "bar",
         "x": [
          "86"
         ],
         "xaxis": "x",
         "y": {
          "bdata": "IA==",
          "dtype": "i1"
         },
         "yaxis": "y"
        },
        {
         "hovertemplate": "Kapitel=%{x}<br>Anzahl=%{text}<extra></extra>",
         "legendgroup": "223",
         "marker": {
          "color": "#B6E880",
          "pattern": {
           "shape": ""
          }
         },
         "name": "223",
         "orientation": "v",
         "showlegend": true,
         "text": {
          "bdata": "AAAAAAAAQEA=",
          "dtype": "f8"
         },
         "textposition": "outside",
         "type": "bar",
         "x": [
          "223"
         ],
         "xaxis": "x",
         "y": {
          "bdata": "IA==",
          "dtype": "i1"
         },
         "yaxis": "y"
        },
        {
         "hovertemplate": "Kapitel=%{x}<br>Anzahl=%{text}<extra></extra>",
         "legendgroup": "232",
         "marker": {
          "color": "#FF97FF",
          "pattern": {
           "shape": ""
          }
         },
         "name": "232",
         "orientation": "v",
         "showlegend": true,
         "text": {
          "bdata": "AAAAAAAAP0A=",
          "dtype": "f8"
         },
         "textposition": "outside",
         "type": "bar",
         "x": [
          "232"
         ],
         "xaxis": "x",
         "y": {
          "bdata": "Hw==",
          "dtype": "i1"
         },
         "yaxis": "y"
        },
        {
         "hovertemplate": "Kapitel=%{x}<br>Anzahl=%{text}<extra></extra>",
         "legendgroup": "349",
         "marker": {
          "color": "#FECB52",
          "pattern": {
           "shape": ""
          }
         },
         "name": "349",
         "orientation": "v",
         "showlegend": true,
         "text": {
          "bdata": "AAAAAAAAPUA=",
          "dtype": "f8"
         },
         "textposition": "outside",
         "type": "bar",
         "x": [
          "349"
         ],
         "xaxis": "x",
         "y": {
          "bdata": "HQ==",
          "dtype": "i1"
         },
         "yaxis": "y"
        },
        {
         "hovertemplate": "Kapitel=%{x}<br>Anzahl=%{text}<extra></extra>",
         "legendgroup": "226",
         "marker": {
          "color": "#636efa",
          "pattern": {
           "shape": ""
          }
         },
         "name": "226",
         "orientation": "v",
         "showlegend": true,
         "text": {
          "bdata": "AAAAAAAAPEA=",
          "dtype": "f8"
         },
         "textposition": "outside",
         "type": "bar",
         "x": [
          "226"
         ],
         "xaxis": "x",
         "y": {
          "bdata": "HA==",
          "dtype": "i1"
         },
         "yaxis": "y"
        },
        {
         "hovertemplate": "Kapitel=%{x}<br>Anzahl=%{text}<extra></extra>",
         "legendgroup": "87",
         "marker": {
          "color": "#EF553B",
          "pattern": {
           "shape": ""
          }
         },
         "name": "87",
         "orientation": "v",
         "showlegend": true,
         "text": {
          "bdata": "AAAAAAAAPEA=",
          "dtype": "f8"
         },
         "textposition": "outside",
         "type": "bar",
         "x": [
          "87"
         ],
         "xaxis": "x",
         "y": {
          "bdata": "HA==",
          "dtype": "i1"
         },
         "yaxis": "y"
        },
        {
         "hovertemplate": "Kapitel=%{x}<br>Anzahl=%{text}<extra></extra>",
         "legendgroup": "345",
         "marker": {
          "color": "#00cc96",
          "pattern": {
           "shape": ""
          }
         },
         "name": "345",
         "orientation": "v",
         "showlegend": true,
         "text": {
          "bdata": "AAAAAAAAPEA=",
          "dtype": "f8"
         },
         "textposition": "outside",
         "type": "bar",
         "x": [
          "345"
         ],
         "xaxis": "x",
         "y": {
          "bdata": "HA==",
          "dtype": "i1"
         },
         "yaxis": "y"
        },
        {
         "hovertemplate": "Kapitel=%{x}<br>Anzahl=%{text}<extra></extra>",
         "legendgroup": "356",
         "marker": {
          "color": "#ab63fa",
          "pattern": {
           "shape": ""
          }
         },
         "name": "356",
         "orientation": "v",
         "showlegend": true,
         "text": {
          "bdata": "AAAAAAAAPEA=",
          "dtype": "f8"
         },
         "textposition": "outside",
         "type": "bar",
         "x": [
          "356"
         ],
         "xaxis": "x",
         "y": {
          "bdata": "HA==",
          "dtype": "i1"
         },
         "yaxis": "y"
        },
        {
         "hovertemplate": "Kapitel=%{x}<br>Anzahl=%{text}<extra></extra>",
         "legendgroup": "233",
         "marker": {
          "color": "#FFA15A",
          "pattern": {
           "shape": ""
          }
         },
         "name": "233",
         "orientation": "v",
         "showlegend": true,
         "text": {
          "bdata": "AAAAAAAAPEA=",
          "dtype": "f8"
         },
         "textposition": "outside",
         "type": "bar",
         "x": [
          "233"
         ],
         "xaxis": "x",
         "y": {
          "bdata": "HA==",
          "dtype": "i1"
         },
         "yaxis": "y"
        },
        {
         "hovertemplate": "Kapitel=%{x}<br>Anzahl=%{text}<extra></extra>",
         "legendgroup": "207",
         "marker": {
          "color": "#19d3f3",
          "pattern": {
           "shape": ""
          }
         },
         "name": "207",
         "orientation": "v",
         "showlegend": true,
         "text": {
          "bdata": "AAAAAAAAPEA=",
          "dtype": "f8"
         },
         "textposition": "outside",
         "type": "bar",
         "x": [
          "207"
         ],
         "xaxis": "x",
         "y": {
          "bdata": "HA==",
          "dtype": "i1"
         },
         "yaxis": "y"
        },
        {
         "hovertemplate": "Kapitel=%{x}<br>Anzahl=%{text}<extra></extra>",
         "legendgroup": "235",
         "marker": {
          "color": "#FF6692",
          "pattern": {
           "shape": ""
          }
         },
         "name": "235",
         "orientation": "v",
         "showlegend": true,
         "text": {
          "bdata": "AAAAAAAAO0A=",
          "dtype": "f8"
         },
         "textposition": "outside",
         "type": "bar",
         "x": [
          "235"
         ],
         "xaxis": "x",
         "y": {
          "bdata": "Gw==",
          "dtype": "i1"
         },
         "yaxis": "y"
        },
        {
         "hovertemplate": "Kapitel=%{x}<br>Anzahl=%{text}<extra></extra>",
         "legendgroup": "24",
         "marker": {
          "color": "#B6E880",
          "pattern": {
           "shape": ""
          }
         },
         "name": "24",
         "orientation": "v",
         "showlegend": true,
         "text": {
          "bdata": "AAAAAAAAO0A=",
          "dtype": "f8"
         },
         "textposition": "outside",
         "type": "bar",
         "x": [
          "24"
         ],
         "xaxis": "x",
         "y": {
          "bdata": "Gw==",
          "dtype": "i1"
         },
         "yaxis": "y"
        },
        {
         "hovertemplate": "Kapitel=%{x}<br>Anzahl=%{text}<extra></extra>",
         "legendgroup": "221",
         "marker": {
          "color": "#FF97FF",
          "pattern": {
           "shape": ""
          }
         },
         "name": "221",
         "orientation": "v",
         "showlegend": true,
         "text": {
          "bdata": "AAAAAAAAOkA=",
          "dtype": "f8"
         },
         "textposition": "outside",
         "type": "bar",
         "x": [
          "221"
         ],
         "xaxis": "x",
         "y": {
          "bdata": "Gg==",
          "dtype": "i1"
         },
         "yaxis": "y"
        },
        {
         "hovertemplate": "Kapitel=%{x}<br>Anzahl=%{text}<extra></extra>",
         "legendgroup": "68",
         "marker": {
          "color": "#FECB52",
          "pattern": {
           "shape": ""
          }
         },
         "name": "68",
         "orientation": "v",
         "showlegend": true,
         "text": {
          "bdata": "AAAAAAAAOkA=",
          "dtype": "f8"
         },
         "textposition": "outside",
         "type": "bar",
         "x": [
          "68"
         ],
         "xaxis": "x",
         "y": {
          "bdata": "Gg==",
          "dtype": "i1"
         },
         "yaxis": "y"
        }
       ],
       "layout": {
        "barmode": "relative",
        "legend": {
         "title": {
          "text": "Kapitel"
         },
         "tracegroupgap": 0
        },
        "showlegend": false,
        "template": {
         "data": {
          "bar": [
           {
            "error_x": {
             "color": "#2a3f5f"
            },
            "error_y": {
             "color": "#2a3f5f"
            },
            "marker": {
             "line": {
              "color": "#E5ECF6",
              "width": 0.5
             },
             "pattern": {
              "fillmode": "overlay",
              "size": 10,
              "solidity": 0.2
             }
            },
            "type": "bar"
           }
          ],
          "barpolar": [
           {
            "marker": {
             "line": {
              "color": "#E5ECF6",
              "width": 0.5
             },
             "pattern": {
              "fillmode": "overlay",
              "size": 10,
              "solidity": 0.2
             }
            },
            "type": "barpolar"
           }
          ],
          "carpet": [
           {
            "aaxis": {
             "endlinecolor": "#2a3f5f",
             "gridcolor": "white",
             "linecolor": "white",
             "minorgridcolor": "white",
             "startlinecolor": "#2a3f5f"
            },
            "baxis": {
             "endlinecolor": "#2a3f5f",
             "gridcolor": "white",
             "linecolor": "white",
             "minorgridcolor": "white",
             "startlinecolor": "#2a3f5f"
            },
            "type": "carpet"
           }
          ],
          "choropleth": [
           {
            "colorbar": {
             "outlinewidth": 0,
             "ticks": ""
            },
            "type": "choropleth"
           }
          ],
          "contour": [
           {
            "colorbar": {
             "outlinewidth": 0,
             "ticks": ""
            },
            "colorscale": [
             [
              0,
              "#0d0887"
             ],
             [
              0.1111111111111111,
              "#46039f"
             ],
             [
              0.2222222222222222,
              "#7201a8"
             ],
             [
              0.3333333333333333,
              "#9c179e"
             ],
             [
              0.4444444444444444,
              "#bd3786"
             ],
             [
              0.5555555555555556,
              "#d8576b"
             ],
             [
              0.6666666666666666,
              "#ed7953"
             ],
             [
              0.7777777777777778,
              "#fb9f3a"
             ],
             [
              0.8888888888888888,
              "#fdca26"
             ],
             [
              1,
              "#f0f921"
             ]
            ],
            "type": "contour"
           }
          ],
          "contourcarpet": [
           {
            "colorbar": {
             "outlinewidth": 0,
             "ticks": ""
            },
            "type": "contourcarpet"
           }
          ],
          "heatmap": [
           {
            "colorbar": {
             "outlinewidth": 0,
             "ticks": ""
            },
            "colorscale": [
             [
              0,
              "#0d0887"
             ],
             [
              0.1111111111111111,
              "#46039f"
             ],
             [
              0.2222222222222222,
              "#7201a8"
             ],
             [
              0.3333333333333333,
              "#9c179e"
             ],
             [
              0.4444444444444444,
              "#bd3786"
             ],
             [
              0.5555555555555556,
              "#d8576b"
             ],
             [
              0.6666666666666666,
              "#ed7953"
             ],
             [
              0.7777777777777778,
              "#fb9f3a"
             ],
             [
              0.8888888888888888,
              "#fdca26"
             ],
             [
              1,
              "#f0f921"
             ]
            ],
            "type": "heatmap"
           }
          ],
          "histogram": [
           {
            "marker": {
             "pattern": {
              "fillmode": "overlay",
              "size": 10,
              "solidity": 0.2
             }
            },
            "type": "histogram"
           }
          ],
          "histogram2d": [
           {
            "colorbar": {
             "outlinewidth": 0,
             "ticks": ""
            },
            "colorscale": [
             [
              0,
              "#0d0887"
             ],
             [
              0.1111111111111111,
              "#46039f"
             ],
             [
              0.2222222222222222,
              "#7201a8"
             ],
             [
              0.3333333333333333,
              "#9c179e"
             ],
             [
              0.4444444444444444,
              "#bd3786"
             ],
             [
              0.5555555555555556,
              "#d8576b"
             ],
             [
              0.6666666666666666,
              "#ed7953"
             ],
             [
              0.7777777777777778,
              "#fb9f3a"
             ],
             [
              0.8888888888888888,
              "#fdca26"
             ],
             [
              1,
              "#f0f921"
             ]
            ],
            "type": "histogram2d"
           }
          ],
          "histogram2dcontour": [
           {
            "colorbar": {
             "outlinewidth": 0,
             "ticks": ""
            },
            "colorscale": [
             [
              0,
              "#0d0887"
             ],
             [
              0.1111111111111111,
              "#46039f"
             ],
             [
              0.2222222222222222,
              "#7201a8"
             ],
             [
              0.3333333333333333,
              "#9c179e"
             ],
             [
              0.4444444444444444,
              "#bd3786"
             ],
             [
              0.5555555555555556,
              "#d8576b"
             ],
             [
              0.6666666666666666,
              "#ed7953"
             ],
             [
              0.7777777777777778,
              "#fb9f3a"
             ],
             [
              0.8888888888888888,
              "#fdca26"
             ],
             [
              1,
              "#f0f921"
             ]
            ],
            "type": "histogram2dcontour"
           }
          ],
          "mesh3d": [
           {
            "colorbar": {
             "outlinewidth": 0,
             "ticks": ""
            },
            "type": "mesh3d"
           }
          ],
          "parcoords": [
           {
            "line": {
             "colorbar": {
              "outlinewidth": 0,
              "ticks": ""
             }
            },
            "type": "parcoords"
           }
          ],
          "pie": [
           {
            "automargin": true,
            "type": "pie"
           }
          ],
          "scatter": [
           {
            "fillpattern": {
             "fillmode": "overlay",
             "size": 10,
             "solidity": 0.2
            },
            "type": "scatter"
           }
          ],
          "scatter3d": [
           {
            "line": {
             "colorbar": {
              "outlinewidth": 0,
              "ticks": ""
             }
            },
            "marker": {
             "colorbar": {
              "outlinewidth": 0,
              "ticks": ""
             }
            },
            "type": "scatter3d"
           }
          ],
          "scattercarpet": [
           {
            "marker": {
             "colorbar": {
              "outlinewidth": 0,
              "ticks": ""
             }
            },
            "type": "scattercarpet"
           }
          ],
          "scattergeo": [
           {
            "marker": {
             "colorbar": {
              "outlinewidth": 0,
              "ticks": ""
             }
            },
            "type": "scattergeo"
           }
          ],
          "scattergl": [
           {
            "marker": {
             "colorbar": {
              "outlinewidth": 0,
              "ticks": ""
             }
            },
            "type": "scattergl"
           }
          ],
          "scattermap": [
           {
            "marker": {
             "colorbar": {
              "outlinewidth": 0,
              "ticks": ""
             }
            },
            "type": "scattermap"
           }
          ],
          "scattermapbox": [
           {
            "marker": {
             "colorbar": {
              "outlinewidth": 0,
              "ticks": ""
             }
            },
            "type": "scattermapbox"
           }
          ],
          "scatterpolar": [
           {
            "marker": {
             "colorbar": {
              "outlinewidth": 0,
              "ticks": ""
             }
            },
            "type": "scatterpolar"
           }
          ],
          "scatterpolargl": [
           {
            "marker": {
             "colorbar": {
              "outlinewidth": 0,
              "ticks": ""
             }
            },
            "type": "scatterpolargl"
           }
          ],
          "scatterternary": [
           {
            "marker": {
             "colorbar": {
              "outlinewidth": 0,
              "ticks": ""
             }
            },
            "type": "scatterternary"
           }
          ],
          "surface": [
           {
            "colorbar": {
             "outlinewidth": 0,
             "ticks": ""
            },
            "colorscale": [
             [
              0,
              "#0d0887"
             ],
             [
              0.1111111111111111,
              "#46039f"
             ],
             [
              0.2222222222222222,
              "#7201a8"
             ],
             [
              0.3333333333333333,
              "#9c179e"
             ],
             [
              0.4444444444444444,
              "#bd3786"
             ],
             [
              0.5555555555555556,
              "#d8576b"
             ],
             [
              0.6666666666666666,
              "#ed7953"
             ],
             [
              0.7777777777777778,
              "#fb9f3a"
             ],
             [
              0.8888888888888888,
              "#fdca26"
             ],
             [
              1,
              "#f0f921"
             ]
            ],
            "type": "surface"
           }
          ],
          "table": [
           {
            "cells": {
             "fill": {
              "color": "#EBF0F8"
             },
             "line": {
              "color": "white"
             }
            },
            "header": {
             "fill": {
              "color": "#C8D4E3"
             },
             "line": {
              "color": "white"
             }
            },
            "type": "table"
           }
          ]
         },
         "layout": {
          "annotationdefaults": {
           "arrowcolor": "#2a3f5f",
           "arrowhead": 0,
           "arrowwidth": 1
          },
          "autotypenumbers": "strict",
          "coloraxis": {
           "colorbar": {
            "outlinewidth": 0,
            "ticks": ""
           }
          },
          "colorscale": {
           "diverging": [
            [
             0,
             "#8e0152"
            ],
            [
             0.1,
             "#c51b7d"
            ],
            [
             0.2,
             "#de77ae"
            ],
            [
             0.3,
             "#f1b6da"
            ],
            [
             0.4,
             "#fde0ef"
            ],
            [
             0.5,
             "#f7f7f7"
            ],
            [
             0.6,
             "#e6f5d0"
            ],
            [
             0.7,
             "#b8e186"
            ],
            [
             0.8,
             "#7fbc41"
            ],
            [
             0.9,
             "#4d9221"
            ],
            [
             1,
             "#276419"
            ]
           ],
           "sequential": [
            [
             0,
             "#0d0887"
            ],
            [
             0.1111111111111111,
             "#46039f"
            ],
            [
             0.2222222222222222,
             "#7201a8"
            ],
            [
             0.3333333333333333,
             "#9c179e"
            ],
            [
             0.4444444444444444,
             "#bd3786"
            ],
            [
             0.5555555555555556,
             "#d8576b"
            ],
            [
             0.6666666666666666,
             "#ed7953"
            ],
            [
             0.7777777777777778,
             "#fb9f3a"
            ],
            [
             0.8888888888888888,
             "#fdca26"
            ],
            [
             1,
             "#f0f921"
            ]
           ],
           "sequentialminus": [
            [
             0,
             "#0d0887"
            ],
            [
             0.1111111111111111,
             "#46039f"
            ],
            [
             0.2222222222222222,
             "#7201a8"
            ],
            [
             0.3333333333333333,
             "#9c179e"
            ],
            [
             0.4444444444444444,
             "#bd3786"
            ],
            [
             0.5555555555555556,
             "#d8576b"
            ],
            [
             0.6666666666666666,
             "#ed7953"
            ],
            [
             0.7777777777777778,
             "#fb9f3a"
            ],
            [
             0.8888888888888888,
             "#fdca26"
            ],
            [
             1,
             "#f0f921"
            ]
           ]
          },
          "colorway": [
           "#636efa",
           "#EF553B",
           "#00cc96",
           "#ab63fa",
           "#FFA15A",
           "#19d3f3",
           "#FF6692",
           "#B6E880",
           "#FF97FF",
           "#FECB52"
          ],
          "font": {
           "color": "#2a3f5f"
          },
          "geo": {
           "bgcolor": "white",
           "lakecolor": "white",
           "landcolor": "#E5ECF6",
           "showlakes": true,
           "showland": true,
           "subunitcolor": "white"
          },
          "hoverlabel": {
           "align": "left"
          },
          "hovermode": "closest",
          "mapbox": {
           "style": "light"
          },
          "paper_bgcolor": "white",
          "plot_bgcolor": "#E5ECF6",
          "polar": {
           "angularaxis": {
            "gridcolor": "white",
            "linecolor": "white",
            "ticks": ""
           },
           "bgcolor": "#E5ECF6",
           "radialaxis": {
            "gridcolor": "white",
            "linecolor": "white",
            "ticks": ""
           }
          },
          "scene": {
           "xaxis": {
            "backgroundcolor": "#E5ECF6",
            "gridcolor": "white",
            "gridwidth": 2,
            "linecolor": "white",
            "showbackground": true,
            "ticks": "",
            "zerolinecolor": "white"
           },
           "yaxis": {
            "backgroundcolor": "#E5ECF6",
            "gridcolor": "white",
            "gridwidth": 2,
            "linecolor": "white",
            "showbackground": true,
            "ticks": "",
            "zerolinecolor": "white"
           },
           "zaxis": {
            "backgroundcolor": "#E5ECF6",
            "gridcolor": "white",
            "gridwidth": 2,
            "linecolor": "white",
            "showbackground": true,
            "ticks": "",
            "zerolinecolor": "white"
           }
          },
          "shapedefaults": {
           "line": {
            "color": "#2a3f5f"
           }
          },
          "ternary": {
           "aaxis": {
            "gridcolor": "white",
            "linecolor": "white",
            "ticks": ""
           },
           "baxis": {
            "gridcolor": "white",
            "linecolor": "white",
            "ticks": ""
           },
           "bgcolor": "#E5ECF6",
           "caxis": {
            "gridcolor": "white",
            "linecolor": "white",
            "ticks": ""
           }
          },
          "title": {
           "x": 0.05
          },
          "xaxis": {
           "automargin": true,
           "gridcolor": "white",
           "linecolor": "white",
           "ticks": "",
           "title": {
            "standoff": 15
           },
           "zerolinecolor": "white",
           "zerolinewidth": 2
          },
          "yaxis": {
           "automargin": true,
           "gridcolor": "white",
           "linecolor": "white",
           "ticks": "",
           "title": {
            "standoff": 15
           },
           "zerolinecolor": "white",
           "zerolinewidth": 2
          }
         }
        },
        "title": {
         "subtitle": {
          "text": "<i>Sorted in descending order</i>"
         },
         "text": "<b>Max count of (named) Characters by Chapter - Top 20</b>"
        },
        "xaxis": {
         "anchor": "y",
         "categoryarray": [
          "236",
          "224",
          "277",
          "225",
          "283",
          "309",
          "86",
          "223",
          "232",
          "349",
          "226",
          "87",
          "345",
          "356",
          "233",
          "207",
          "235",
          "24",
          "221",
          "68"
         ],
         "categoryorder": "array",
         "domain": [
          0,
          1
         ],
         "title": {
          "text": "Chapter"
         }
        },
        "yaxis": {
         "anchor": "x",
         "domain": [
          0,
          1
         ],
         "title": {
          "text": "Count"
         }
        }
       }
      }
     },
     "metadata": {},
     "output_type": "display_data"
    },
    {
     "name": "stdout",
     "output_type": "stream",
     "text": [
      "> Plotly Graph saved to assets\n"
     ]
    }
   ],
   "source": [
    "import pandas as pd\n",
    "import plotly.express as px\n",
    "\n",
    "df = pd.read_json(\"data/Characters_by_Appearance-CLEAN.json\")\n",
    "\n",
    "df[\"Anzahl\"] = 1\n",
    "df[\"Kapitel\"] = df[\"Kapitel\"].astype(str)\n",
    "\n",
    "df_grouped = df.groupby(\"Kapitel\", as_index=False)[\"Anzahl\"].sum()\n",
    "df_grouped = df_grouped.sort_values(\"Anzahl\", ascending=False)\n",
    "\n",
    "df_grouped = df_grouped.head(20)\n",
    "\n",
    "# Reihenfolge der Kapitel nach Anzahl\n",
    "fig = px.bar(\n",
    "    df_grouped,\n",
    "    x=\"Kapitel\",\n",
    "    y=\"Anzahl\",\n",
    "    text=\"Anzahl\",\n",
    "    color=\"Kapitel\",\n",
    "    title=\"<b>Max count of (named) Characters by Chapter - Top 20</b>\",\n",
    "    subtitle=\"<i>Sorted in descending order</i>\"\n",
    ")\n",
    "\n",
    "fig.update_layout(\n",
    "    xaxis_title=\"Chapter\",\n",
    "    yaxis_title=\"Count\"\n",
    ")\n",
    "\n",
    "fig.update_traces(textposition='outside')\n",
    "fig.update_layout(showlegend=False)\n",
    "\n",
    "fig.show()\n",
    "fig.write_html(\"assets/MaxAppearancesPerChapterRanking.html\")\n",
    "\n",
    "print(\"> Plotly Graph saved to assets\")\n"
   ]
  },
  {
   "cell_type": "markdown",
   "id": "92a3c800",
   "metadata": {},
   "source": [
    "## Quick-And-Dirty Development Tools"
   ]
  },
  {
   "cell_type": "code",
   "execution_count": 79,
   "id": "20cbb52e",
   "metadata": {},
   "outputs": [
    {
     "name": "stdout",
     "output_type": "stream",
     "text": [
      "Excel copy saved as Characters_by_Appearance-RAW.xlsx.\n"
     ]
    }
   ],
   "source": [
    "import pandas as pd\n",
    "\n",
    "# Load the original JSON back into a DataFrame\n",
    "df = pd.read_json(\"data/Characters_by_Appearance-RAW.json\")\n",
    "\n",
    "# Save an Excel copy\n",
    "df.to_excel(\"data/Characters_by_Appearance-RAW.xlsx\", index=False)\n",
    "\n",
    "print(\"Excel copy saved as Characters_by_Appearance-RAW.xlsx.\")"
   ]
  }
 ],
 "metadata": {
  "kernelspec": {
   "display_name": ".venv (3.13.7)",
   "language": "python",
   "name": "python3"
  },
  "language_info": {
   "codemirror_mode": {
    "name": "ipython",
    "version": 3
   },
   "file_extension": ".py",
   "mimetype": "text/x-python",
   "name": "python",
   "nbconvert_exporter": "python",
   "pygments_lexer": "ipython3",
   "version": "3.13.7"
  }
 },
 "nbformat": 4,
 "nbformat_minor": 5
}
